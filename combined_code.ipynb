{
 "cells": [
  {
   "attachments": {},
   "cell_type": "markdown",
   "metadata": {},
   "source": [
    "# A Sentiment Analysis of MLB Performance\n",
    "### ADS-509 Final Project Team 11"
   ]
  },
  {
   "cell_type": "code",
   "execution_count": 19,
   "metadata": {},
   "outputs": [
    {
     "name": "stdout",
     "output_type": "stream",
     "text": [
      "Requirement already satisfied: beautifulsoup4 in c:\\users\\earne\\anaconda3\\lib\\site-packages (4.9.3)\n",
      "Requirement already satisfied: requests in c:\\users\\earne\\anaconda3\\lib\\site-packages (2.31.0)\n",
      "Requirement already satisfied: soupsieve>1.2 in c:\\users\\earne\\anaconda3\\lib\\site-packages (from beautifulsoup4) (2.2.1)\n",
      "Requirement already satisfied: charset-normalizer<4,>=2 in c:\\users\\earne\\anaconda3\\lib\\site-packages (from requests) (3.1.0)\n",
      "Requirement already satisfied: urllib3<3,>=1.21.1 in c:\\users\\earne\\anaconda3\\lib\\site-packages (from requests) (1.26.4)\n",
      "Requirement already satisfied: idna<4,>=2.5 in c:\\users\\earne\\anaconda3\\lib\\site-packages (from requests) (2.10)\n",
      "Requirement already satisfied: certifi>=2017.4.17 in c:\\users\\earne\\anaconda3\\lib\\site-packages (from requests) (2020.12.5)\n",
      "Requirement already satisfied: tqdm in c:\\users\\earne\\anaconda3\\lib\\site-packages (4.59.0)\n"
     ]
    }
   ],
   "source": [
    "#Install reqired libraries\n",
    "!pip install beautifulsoup4 requests\n",
    "!pip install tqdm"
   ]
  },
  {
   "cell_type": "code",
   "execution_count": 20,
   "metadata": {},
   "outputs": [],
   "source": [
    "#Import required libraries\n",
    "import requests\n",
    "from bs4 import BeautifulSoup\n",
    "import pandas as pd\n",
    "import matplotlib.pyplot as plt\n",
    "from nltk.corpus import stopwords\n",
    "from string import punctuation\n",
    "from wordcloud import WordCloud \n",
    "import re\n",
    "from collections import Counter\n",
    "from tqdm import tqdm\n",
    "import numpy as np\n",
    "import matplotlib.pyplot as plt"
   ]
  },
  {
   "attachments": {},
   "cell_type": "markdown",
   "metadata": {},
   "source": [
    "The first step in our effort is to scrape blog post text from the mlbtraderumors.com website.  This posts include text, dates posted, and the authors name.  We will scrape this information and store it in a dataframe that we can use to start our text analysis."
   ]
  },
  {
   "attachments": {},
   "cell_type": "markdown",
   "metadata": {},
   "source": [
    "# Get text data"
   ]
  },
  {
   "cell_type": "code",
   "execution_count": 21,
   "metadata": {},
   "outputs": [],
   "source": [
    "def scrape_website(url, file_path):\n",
    "    # Send a GET request to the website\n",
    "    response = requests.get(url)\n",
    "\n",
    "    # Parse the HTML content using BeautifulSoup\n",
    "    soup = BeautifulSoup(response.content, \"html.parser\")\n",
    "\n",
    "    # Find all the news article elements\n",
    "    articles = soup.find_all(\"article\")\n",
    "\n",
    "    # Create lists to store the extracted values\n",
    "    titles = []\n",
    "    authors = []\n",
    "    dates = []\n",
    "    contents = []\n",
    "\n",
    "    # Iterate over the articles and extract the text\n",
    "    with open(file_path, \"w\", encoding=\"utf-8\") as file:\n",
    "        for article in articles:\n",
    "            # Extract the article title\n",
    "            title_element = article.find(\"h2\")\n",
    "            title = title_element.text.strip() if title_element else \"\"\n",
    "            titles.append(title)\n",
    "\n",
    "            # Extract the article author\n",
    "            author_element = article.find(\"span\", class_=\"entry-author\")\n",
    "            author = author_element.text.strip() if author_element else \"\"\n",
    "            authors.append(author)\n",
    "\n",
    "            # Extract the article date\n",
    "            date_element = article.find(\"time\", class_=\"entry-time\")\n",
    "            date = date_element.text.strip() if date_element else \"\"\n",
    "            dates.append(date)\n",
    "\n",
    "            # Extract the article content\n",
    "            content_element = article.find(\"div\", class_=\"entry-content\")\n",
    "            content = content_element.text.strip() if content_element else \"\"\n",
    "            contents.append(content)\n",
    "\n",
    "            # Write the title and content to the file\n",
    "            file.write(\"Title: \" + title + \"\\n\")\n",
    "            file.write(\"Author: \" + author + \"\\n\")\n",
    "            file.write(\"Date: \" + date + \"\\n\")\n",
    "            file.write(\"Content: \" + content + \"\\n\")\n",
    "            file.write(\"---\\n\")\n",
    "\n",
    "    # Create a DataFrame from the extracted values\n",
    "    data = {\n",
    "        \"Title\": titles,\n",
    "        \"Author\": authors,\n",
    "        \"Date\": dates,\n",
    "        \"Content\": contents\n",
    "    }\n",
    "\n",
    "    df = pd.DataFrame(data)\n",
    "\n",
    "    # Drop rows without content\n",
    "    df.dropna()\n",
    "\n",
    "    return df"
   ]
  },
  {
   "attachments": {},
   "cell_type": "markdown",
   "metadata": {},
   "source": [
    "# Washington Nationals Data Collection and Cleaning"
   ]
  },
  {
   "cell_type": "code",
   "execution_count": 41,
   "metadata": {},
   "outputs": [
    {
     "data": {
      "text/html": [
       "<div>\n",
       "<style scoped>\n",
       "    .dataframe tbody tr th:only-of-type {\n",
       "        vertical-align: middle;\n",
       "    }\n",
       "\n",
       "    .dataframe tbody tr th {\n",
       "        vertical-align: top;\n",
       "    }\n",
       "\n",
       "    .dataframe thead th {\n",
       "        text-align: right;\n",
       "    }\n",
       "</style>\n",
       "<table border=\"1\" class=\"dataframe\">\n",
       "  <thead>\n",
       "    <tr style=\"text-align: right;\">\n",
       "      <th></th>\n",
       "      <th>Title</th>\n",
       "      <th>Author</th>\n",
       "      <th>Date</th>\n",
       "      <th>Content</th>\n",
       "    </tr>\n",
       "  </thead>\n",
       "  <tbody>\n",
       "    <tr>\n",
       "      <th>0</th>\n",
       "      <td>Sean Doolittle Completes Rehab Assignment, Hea...</td>\n",
       "      <td>Steve Adams</td>\n",
       "      <td>June 15, 2023</td>\n",
       "      <td>Veteran lefty Sean Doolittle was transferred f...</td>\n",
       "    </tr>\n",
       "    <tr>\n",
       "      <th>1</th>\n",
       "      <td>Nationals Release Erasmo Ramírez</td>\n",
       "      <td>Darragh McDonald</td>\n",
       "      <td>June 9, 2023</td>\n",
       "      <td>The Nationals have released right-hander Erasm...</td>\n",
       "    </tr>\n",
       "    <tr>\n",
       "      <th>2</th>\n",
       "      <td>Best Deadline Rental Returns In Recent History...</td>\n",
       "      <td>Darragh McDonald</td>\n",
       "      <td>June 8, 2023</td>\n",
       "      <td>With the trade deadline now less than two mont...</td>\n",
       "    </tr>\n",
       "    <tr>\n",
       "      <th>3</th>\n",
       "      <td>Nationals Claim Joe La Sorsa</td>\n",
       "      <td>Steve Adams</td>\n",
       "      <td>June 8, 2023</td>\n",
       "      <td>The Nationals have claimed left-hander Joe La ...</td>\n",
       "    </tr>\n",
       "    <tr>\n",
       "      <th>4</th>\n",
       "      <td>Nationals Outright Andres Machado</td>\n",
       "      <td>Anthony Franco</td>\n",
       "      <td>June 7, 2023</td>\n",
       "      <td>Nationals reliever Andrés Machado has gone unc...</td>\n",
       "    </tr>\n",
       "  </tbody>\n",
       "</table>\n",
       "</div>"
      ],
      "text/plain": [
       "                                               Title            Author  \\\n",
       "0  Sean Doolittle Completes Rehab Assignment, Hea...       Steve Adams   \n",
       "1                   Nationals Release Erasmo Ramírez  Darragh McDonald   \n",
       "2  Best Deadline Rental Returns In Recent History...  Darragh McDonald   \n",
       "3                       Nationals Claim Joe La Sorsa       Steve Adams   \n",
       "4                  Nationals Outright Andres Machado    Anthony Franco   \n",
       "\n",
       "            Date                                            Content  \n",
       "0  June 15, 2023  Veteran lefty Sean Doolittle was transferred f...  \n",
       "1   June 9, 2023  The Nationals have released right-hander Erasm...  \n",
       "2   June 8, 2023  With the trade deadline now less than two mont...  \n",
       "3   June 8, 2023  The Nationals have claimed left-hander Joe La ...  \n",
       "4   June 7, 2023  Nationals reliever Andrés Machado has gone unc...  "
      ]
     },
     "execution_count": 41,
     "metadata": {},
     "output_type": "execute_result"
    }
   ],
   "source": [
    "# URL of the website to scrape\n",
    "url = \"https://www.mlbtraderumors.com/washington-nationals?show=all\"\n",
    "file_path = \"C:/Users/earne/OneDrive - University of San Diego/MSADS/ADS-509/Project/data/mlbtraderumors_washington_nationals_articles1.txt\"\n",
    "\n",
    "# Scrape the website, write the scraped text to a file, and get the head of the DataFrame\n",
    "df = scrape_website(url, file_path)\n",
    "df.head()"
   ]
  },
  {
   "cell_type": "code",
   "execution_count": 42,
   "metadata": {},
   "outputs": [],
   "source": [
    "#change the Date column to a datetime object:\n",
    "df['Date'] = pd.to_datetime(df['Date'], format=\"%B %d, %Y\", errors= 'coerce')"
   ]
  },
  {
   "cell_type": "code",
   "execution_count": 43,
   "metadata": {},
   "outputs": [
    {
     "data": {
      "text/plain": [
       "Title              object\n",
       "Author             object\n",
       "Date       datetime64[ns]\n",
       "Content            object\n",
       "dtype: object"
      ]
     },
     "execution_count": 43,
     "metadata": {},
     "output_type": "execute_result"
    }
   ],
   "source": [
    "df.dtypes"
   ]
  },
  {
   "cell_type": "code",
   "execution_count": 80,
   "metadata": {},
   "outputs": [
    {
     "data": {
      "text/plain": [
       "Title      0\n",
       "Author     0\n",
       "Date       0\n",
       "Content    0\n",
       "dtype: int64"
      ]
     },
     "execution_count": 80,
     "metadata": {},
     "output_type": "execute_result"
    }
   ],
   "source": [
    "# Check for missing values\n",
    "df.isna().sum()"
   ]
  },
  {
   "cell_type": "code",
   "execution_count": 45,
   "metadata": {},
   "outputs": [
    {
     "data": {
      "text/plain": [
       "1030"
      ]
     },
     "execution_count": 45,
     "metadata": {},
     "output_type": "execute_result"
    }
   ],
   "source": [
    "len(df)"
   ]
  },
  {
   "cell_type": "code",
   "execution_count": 46,
   "metadata": {},
   "outputs": [
    {
     "data": {
      "text/html": [
       "<div>\n",
       "<style scoped>\n",
       "    .dataframe tbody tr th:only-of-type {\n",
       "        vertical-align: middle;\n",
       "    }\n",
       "\n",
       "    .dataframe tbody tr th {\n",
       "        vertical-align: top;\n",
       "    }\n",
       "\n",
       "    .dataframe thead th {\n",
       "        text-align: right;\n",
       "    }\n",
       "</style>\n",
       "<table border=\"1\" class=\"dataframe\">\n",
       "  <thead>\n",
       "    <tr style=\"text-align: right;\">\n",
       "      <th></th>\n",
       "      <th>Title</th>\n",
       "      <th>Author</th>\n",
       "      <th>Date</th>\n",
       "      <th>Content</th>\n",
       "    </tr>\n",
       "  </thead>\n",
       "  <tbody>\n",
       "    <tr>\n",
       "      <th>0</th>\n",
       "      <td>Sean Doolittle Completes Rehab Assignment, Hea...</td>\n",
       "      <td>Steve Adams</td>\n",
       "      <td>2023-06-15</td>\n",
       "      <td>Veteran lefty Sean Doolittle was transferred f...</td>\n",
       "    </tr>\n",
       "    <tr>\n",
       "      <th>1</th>\n",
       "      <td>Nationals Release Erasmo Ramírez</td>\n",
       "      <td>Darragh McDonald</td>\n",
       "      <td>2023-06-09</td>\n",
       "      <td>The Nationals have released right-hander Erasm...</td>\n",
       "    </tr>\n",
       "    <tr>\n",
       "      <th>2</th>\n",
       "      <td>Best Deadline Rental Returns In Recent History...</td>\n",
       "      <td>Darragh McDonald</td>\n",
       "      <td>2023-06-08</td>\n",
       "      <td>With the trade deadline now less than two mont...</td>\n",
       "    </tr>\n",
       "    <tr>\n",
       "      <th>3</th>\n",
       "      <td>Nationals Claim Joe La Sorsa</td>\n",
       "      <td>Steve Adams</td>\n",
       "      <td>2023-06-08</td>\n",
       "      <td>The Nationals have claimed left-hander Joe La ...</td>\n",
       "    </tr>\n",
       "    <tr>\n",
       "      <th>4</th>\n",
       "      <td>Nationals Outright Andres Machado</td>\n",
       "      <td>Anthony Franco</td>\n",
       "      <td>2023-06-07</td>\n",
       "      <td>Nationals reliever Andrés Machado has gone unc...</td>\n",
       "    </tr>\n",
       "    <tr>\n",
       "      <th>...</th>\n",
       "      <td>...</td>\n",
       "      <td>...</td>\n",
       "      <td>...</td>\n",
       "      <td>...</td>\n",
       "    </tr>\n",
       "    <tr>\n",
       "      <th>995</th>\n",
       "      <td>Nationals Notes: Deadline, Scherzer, Zimmerman</td>\n",
       "      <td>Steve Adams</td>\n",
       "      <td>2019-06-28</td>\n",
       "      <td>The resurgent Nationals have won eight of thei...</td>\n",
       "    </tr>\n",
       "    <tr>\n",
       "      <th>996</th>\n",
       "      <td>Alex Meyer Retires</td>\n",
       "      <td>Connor Byrne</td>\n",
       "      <td>2019-06-25</td>\n",
       "      <td>Right-hander Alex Meyer has announced his reti...</td>\n",
       "    </tr>\n",
       "    <tr>\n",
       "      <th>997</th>\n",
       "      <td>Nationals Select Jonny Venters</td>\n",
       "      <td>Steve Adams</td>\n",
       "      <td>2019-06-25</td>\n",
       "      <td>3:25pm: To make room for Venters and Rodney, t...</td>\n",
       "    </tr>\n",
       "    <tr>\n",
       "      <th>998</th>\n",
       "      <td>Nationals To Select Fernando Rodney On Tuesday</td>\n",
       "      <td>Connor Byrne</td>\n",
       "      <td>2019-06-24</td>\n",
       "      <td>The Nationals will add right-handed reliever F...</td>\n",
       "    </tr>\n",
       "    <tr>\n",
       "      <th>999</th>\n",
       "      <td>Nationals Release Trevor Rosenthal</td>\n",
       "      <td>Connor Byrne</td>\n",
       "      <td>2019-06-23</td>\n",
       "      <td>The Nationals have released reliever Trevor Ro...</td>\n",
       "    </tr>\n",
       "  </tbody>\n",
       "</table>\n",
       "<p>1000 rows × 4 columns</p>\n",
       "</div>"
      ],
      "text/plain": [
       "                                                 Title            Author  \\\n",
       "0    Sean Doolittle Completes Rehab Assignment, Hea...       Steve Adams   \n",
       "1                     Nationals Release Erasmo Ramírez  Darragh McDonald   \n",
       "2    Best Deadline Rental Returns In Recent History...  Darragh McDonald   \n",
       "3                         Nationals Claim Joe La Sorsa       Steve Adams   \n",
       "4                    Nationals Outright Andres Machado    Anthony Franco   \n",
       "..                                                 ...               ...   \n",
       "995     Nationals Notes: Deadline, Scherzer, Zimmerman       Steve Adams   \n",
       "996                                 Alex Meyer Retires      Connor Byrne   \n",
       "997                     Nationals Select Jonny Venters       Steve Adams   \n",
       "998     Nationals To Select Fernando Rodney On Tuesday      Connor Byrne   \n",
       "999                 Nationals Release Trevor Rosenthal      Connor Byrne   \n",
       "\n",
       "          Date                                            Content  \n",
       "0   2023-06-15  Veteran lefty Sean Doolittle was transferred f...  \n",
       "1   2023-06-09  The Nationals have released right-hander Erasm...  \n",
       "2   2023-06-08  With the trade deadline now less than two mont...  \n",
       "3   2023-06-08  The Nationals have claimed left-hander Joe La ...  \n",
       "4   2023-06-07  Nationals reliever Andrés Machado has gone unc...  \n",
       "..         ...                                                ...  \n",
       "995 2019-06-28  The resurgent Nationals have won eight of thei...  \n",
       "996 2019-06-25  Right-hander Alex Meyer has announced his reti...  \n",
       "997 2019-06-25  3:25pm: To make room for Venters and Rodney, t...  \n",
       "998 2019-06-24  The Nationals will add right-handed reliever F...  \n",
       "999 2019-06-23  The Nationals have released reliever Trevor Ro...  \n",
       "\n",
       "[1000 rows x 4 columns]"
      ]
     },
     "execution_count": 46,
     "metadata": {},
     "output_type": "execute_result"
    }
   ],
   "source": [
    "df = df.dropna()\n",
    "df"
   ]
  },
  {
   "cell_type": "code",
   "execution_count": 60,
   "metadata": {},
   "outputs": [
    {
     "data": {
      "text/plain": [
       "1000"
      ]
     },
     "execution_count": 60,
     "metadata": {},
     "output_type": "execute_result"
    }
   ],
   "source": [
    "len(df)"
   ]
  },
  {
   "attachments": {},
   "cell_type": "markdown",
   "metadata": {},
   "source": [
    "## Import data on the washington nationals from baseball-reference.com\n",
    "\n",
    "https://www.baseball-reference.com/teams/WSN/attend.shtml"
   ]
  },
  {
   "cell_type": "code",
   "execution_count": 47,
   "metadata": {},
   "outputs": [
    {
     "name": "stdout",
     "output_type": "stream",
     "text": [
      "Data saved to C:/Users/earne/OneDrive - University of San Diego/MSADS/ADS-509/Project/data/attendance_data.csv\n"
     ]
    }
   ],
   "source": [
    "import pandas as pd\n",
    "\n",
    "# URL of the webpage to scrape\n",
    "url = \"https://www.baseball-reference.com/teams/WSN/attend.shtml\"\n",
    "\n",
    "# Read the HTML table into a list of DataFrames\n",
    "tables = pd.read_html(url)\n",
    "\n",
    "# Select the table of interest (index 0 in this case)\n",
    "table = tables[0]\n",
    "\n",
    "# Save the DataFrame as a CSV file\n",
    "file_path = \"C:/Users/earne/OneDrive - University of San Diego/MSADS/ADS-509/Project/data/attendance_data.csv\"\n",
    "table.to_csv(file_path, index=False, header=True)\n",
    "\n",
    "print(\"Data saved to\", file_path)\n",
    "\n",
    "\n"
   ]
  },
  {
   "cell_type": "code",
   "execution_count": 48,
   "metadata": {},
   "outputs": [
    {
     "data": {
      "text/html": [
       "<div>\n",
       "<style scoped>\n",
       "    .dataframe tbody tr th:only-of-type {\n",
       "        vertical-align: middle;\n",
       "    }\n",
       "\n",
       "    .dataframe tbody tr th {\n",
       "        vertical-align: top;\n",
       "    }\n",
       "\n",
       "    .dataframe thead th {\n",
       "        text-align: right;\n",
       "    }\n",
       "</style>\n",
       "<table border=\"1\" class=\"dataframe\">\n",
       "  <thead>\n",
       "    <tr style=\"text-align: right;\">\n",
       "      <th></th>\n",
       "      <th>Year</th>\n",
       "      <th>Tm</th>\n",
       "      <th>Lg</th>\n",
       "      <th>W</th>\n",
       "      <th>L</th>\n",
       "      <th>Finish</th>\n",
       "      <th>Playoffs</th>\n",
       "      <th>Attendance</th>\n",
       "      <th>Attend/G</th>\n",
       "      <th>Rank</th>\n",
       "      <th>Est. Payroll</th>\n",
       "      <th>PPF</th>\n",
       "      <th>BPF</th>\n",
       "      <th>Stadium</th>\n",
       "    </tr>\n",
       "  </thead>\n",
       "  <tbody>\n",
       "    <tr>\n",
       "      <th>0</th>\n",
       "      <td>2023</td>\n",
       "      <td>Washington Nationals</td>\n",
       "      <td>NL East</td>\n",
       "      <td>27</td>\n",
       "      <td>44</td>\n",
       "      <td>5</td>\n",
       "      <td>NaN</td>\n",
       "      <td>810220.0</td>\n",
       "      <td>21898.0</td>\n",
       "      <td>12th of 15</td>\n",
       "      <td>$98,376,067</td>\n",
       "      <td>96</td>\n",
       "      <td>94</td>\n",
       "      <td>Nationals Park</td>\n",
       "    </tr>\n",
       "    <tr>\n",
       "      <th>1</th>\n",
       "      <td>2022</td>\n",
       "      <td>Washington Nationals</td>\n",
       "      <td>NL East</td>\n",
       "      <td>55</td>\n",
       "      <td>107</td>\n",
       "      <td>5</td>\n",
       "      <td>NaN</td>\n",
       "      <td>2026401.0</td>\n",
       "      <td>25017.0</td>\n",
       "      <td>11th of 15</td>\n",
       "      <td>$125,051,666</td>\n",
       "      <td>96</td>\n",
       "      <td>94</td>\n",
       "      <td>Nationals Park</td>\n",
       "    </tr>\n",
       "    <tr>\n",
       "      <th>2</th>\n",
       "      <td>2021</td>\n",
       "      <td>Washington Nationals</td>\n",
       "      <td>NL East</td>\n",
       "      <td>65</td>\n",
       "      <td>97</td>\n",
       "      <td>5</td>\n",
       "      <td>NaN</td>\n",
       "      <td>1465543.0</td>\n",
       "      <td>18093.0</td>\n",
       "      <td>12th of 15</td>\n",
       "      <td>$172,370,147</td>\n",
       "      <td>96</td>\n",
       "      <td>95</td>\n",
       "      <td>Nationals Park</td>\n",
       "    </tr>\n",
       "    <tr>\n",
       "      <th>3</th>\n",
       "      <td>2020</td>\n",
       "      <td>Washington Nationals</td>\n",
       "      <td>NL East</td>\n",
       "      <td>26</td>\n",
       "      <td>34</td>\n",
       "      <td>5</td>\n",
       "      <td>NaN</td>\n",
       "      <td>NaN</td>\n",
       "      <td>NaN</td>\n",
       "      <td>15th of 15</td>\n",
       "      <td>$172,237,283</td>\n",
       "      <td>99</td>\n",
       "      <td>99</td>\n",
       "      <td>Nationals Park</td>\n",
       "    </tr>\n",
       "    <tr>\n",
       "      <th>4</th>\n",
       "      <td>2019</td>\n",
       "      <td>Washington Nationals</td>\n",
       "      <td>NL East</td>\n",
       "      <td>93</td>\n",
       "      <td>69</td>\n",
       "      <td>2</td>\n",
       "      <td>Won WS (4-3)</td>\n",
       "      <td>2259781.0</td>\n",
       "      <td>27899.0</td>\n",
       "      <td>11th of 15</td>\n",
       "      <td>$203,016,595</td>\n",
       "      <td>102</td>\n",
       "      <td>102</td>\n",
       "      <td>Nationals Park</td>\n",
       "    </tr>\n",
       "  </tbody>\n",
       "</table>\n",
       "</div>"
      ],
      "text/plain": [
       "   Year                    Tm       Lg   W    L  Finish      Playoffs  \\\n",
       "0  2023  Washington Nationals  NL East  27   44       5           NaN   \n",
       "1  2022  Washington Nationals  NL East  55  107       5           NaN   \n",
       "2  2021  Washington Nationals  NL East  65   97       5           NaN   \n",
       "3  2020  Washington Nationals  NL East  26   34       5           NaN   \n",
       "4  2019  Washington Nationals  NL East  93   69       2  Won WS (4-3)   \n",
       "\n",
       "   Attendance  Attend/G        Rank  Est. Payroll  PPF  BPF         Stadium  \n",
       "0    810220.0   21898.0  12th of 15   $98,376,067   96   94  Nationals Park  \n",
       "1   2026401.0   25017.0  11th of 15  $125,051,666   96   94  Nationals Park  \n",
       "2   1465543.0   18093.0  12th of 15  $172,370,147   96   95  Nationals Park  \n",
       "3         NaN       NaN  15th of 15  $172,237,283   99   99  Nationals Park  \n",
       "4   2259781.0   27899.0  11th of 15  $203,016,595  102  102  Nationals Park  "
      ]
     },
     "execution_count": 48,
     "metadata": {},
     "output_type": "execute_result"
    }
   ],
   "source": [
    "path = \"C:/Users/earne/OneDrive - University of San Diego/MSADS/ADS-509/Project/data/\"\n",
    "\n",
    "nats_df = pd.DataFrame(pd.read_csv(path + 'attendance_data.csv'))\n",
    "nats_df.head()"
   ]
  },
  {
   "cell_type": "code",
   "execution_count": 49,
   "metadata": {},
   "outputs": [
    {
     "data": {
      "text/html": [
       "<div>\n",
       "<style scoped>\n",
       "    .dataframe tbody tr th:only-of-type {\n",
       "        vertical-align: middle;\n",
       "    }\n",
       "\n",
       "    .dataframe tbody tr th {\n",
       "        vertical-align: top;\n",
       "    }\n",
       "\n",
       "    .dataframe thead th {\n",
       "        text-align: right;\n",
       "    }\n",
       "</style>\n",
       "<table border=\"1\" class=\"dataframe\">\n",
       "  <thead>\n",
       "    <tr style=\"text-align: right;\">\n",
       "      <th></th>\n",
       "      <th>Year</th>\n",
       "      <th>Tm</th>\n",
       "      <th>Lg</th>\n",
       "      <th>W</th>\n",
       "      <th>L</th>\n",
       "      <th>Finish</th>\n",
       "      <th>Playoffs</th>\n",
       "      <th>Attendance</th>\n",
       "      <th>Attend/G</th>\n",
       "      <th>Rank</th>\n",
       "      <th>Est. Payroll</th>\n",
       "      <th>PPF</th>\n",
       "      <th>BPF</th>\n",
       "      <th>Stadium</th>\n",
       "    </tr>\n",
       "  </thead>\n",
       "  <tbody>\n",
       "    <tr>\n",
       "      <th>0</th>\n",
       "      <td>2023</td>\n",
       "      <td>Washington Nationals</td>\n",
       "      <td>NL East</td>\n",
       "      <td>27</td>\n",
       "      <td>44</td>\n",
       "      <td>5</td>\n",
       "      <td>NaN</td>\n",
       "      <td>810220.0</td>\n",
       "      <td>21898.0</td>\n",
       "      <td>12th of 15</td>\n",
       "      <td>$98,376,067</td>\n",
       "      <td>96</td>\n",
       "      <td>94</td>\n",
       "      <td>Nationals Park</td>\n",
       "    </tr>\n",
       "    <tr>\n",
       "      <th>1</th>\n",
       "      <td>2022</td>\n",
       "      <td>Washington Nationals</td>\n",
       "      <td>NL East</td>\n",
       "      <td>55</td>\n",
       "      <td>107</td>\n",
       "      <td>5</td>\n",
       "      <td>NaN</td>\n",
       "      <td>2026401.0</td>\n",
       "      <td>25017.0</td>\n",
       "      <td>11th of 15</td>\n",
       "      <td>$125,051,666</td>\n",
       "      <td>96</td>\n",
       "      <td>94</td>\n",
       "      <td>Nationals Park</td>\n",
       "    </tr>\n",
       "    <tr>\n",
       "      <th>2</th>\n",
       "      <td>2021</td>\n",
       "      <td>Washington Nationals</td>\n",
       "      <td>NL East</td>\n",
       "      <td>65</td>\n",
       "      <td>97</td>\n",
       "      <td>5</td>\n",
       "      <td>NaN</td>\n",
       "      <td>1465543.0</td>\n",
       "      <td>18093.0</td>\n",
       "      <td>12th of 15</td>\n",
       "      <td>$172,370,147</td>\n",
       "      <td>96</td>\n",
       "      <td>95</td>\n",
       "      <td>Nationals Park</td>\n",
       "    </tr>\n",
       "    <tr>\n",
       "      <th>3</th>\n",
       "      <td>2020</td>\n",
       "      <td>Washington Nationals</td>\n",
       "      <td>NL East</td>\n",
       "      <td>26</td>\n",
       "      <td>34</td>\n",
       "      <td>5</td>\n",
       "      <td>NaN</td>\n",
       "      <td>NaN</td>\n",
       "      <td>NaN</td>\n",
       "      <td>15th of 15</td>\n",
       "      <td>$172,237,283</td>\n",
       "      <td>99</td>\n",
       "      <td>99</td>\n",
       "      <td>Nationals Park</td>\n",
       "    </tr>\n",
       "    <tr>\n",
       "      <th>4</th>\n",
       "      <td>2019</td>\n",
       "      <td>Washington Nationals</td>\n",
       "      <td>NL East</td>\n",
       "      <td>93</td>\n",
       "      <td>69</td>\n",
       "      <td>2</td>\n",
       "      <td>Won WS (4-3)</td>\n",
       "      <td>2259781.0</td>\n",
       "      <td>27899.0</td>\n",
       "      <td>11th of 15</td>\n",
       "      <td>$203,016,595</td>\n",
       "      <td>102</td>\n",
       "      <td>102</td>\n",
       "      <td>Nationals Park</td>\n",
       "    </tr>\n",
       "    <tr>\n",
       "      <th>5</th>\n",
       "      <td>2018</td>\n",
       "      <td>Washington Nationals</td>\n",
       "      <td>NL East</td>\n",
       "      <td>82</td>\n",
       "      <td>80</td>\n",
       "      <td>2</td>\n",
       "      <td>NaN</td>\n",
       "      <td>2529604.0</td>\n",
       "      <td>31230.0</td>\n",
       "      <td>8th of 15</td>\n",
       "      <td>$188,886,699</td>\n",
       "      <td>105</td>\n",
       "      <td>106</td>\n",
       "      <td>Nationals Park</td>\n",
       "    </tr>\n",
       "    <tr>\n",
       "      <th>6</th>\n",
       "      <td>2017</td>\n",
       "      <td>Washington Nationals</td>\n",
       "      <td>NL East</td>\n",
       "      <td>97</td>\n",
       "      <td>65</td>\n",
       "      <td>1</td>\n",
       "      <td>Lost NLDS (3-2)</td>\n",
       "      <td>2524980.0</td>\n",
       "      <td>31173.0</td>\n",
       "      <td>7th of 15</td>\n",
       "      <td>$175,587,301</td>\n",
       "      <td>103</td>\n",
       "      <td>104</td>\n",
       "      <td>Nationals Park</td>\n",
       "    </tr>\n",
       "    <tr>\n",
       "      <th>7</th>\n",
       "      <td>2016</td>\n",
       "      <td>Washington Nationals</td>\n",
       "      <td>NL East</td>\n",
       "      <td>95</td>\n",
       "      <td>67</td>\n",
       "      <td>1</td>\n",
       "      <td>Lost NLDS (3-2)</td>\n",
       "      <td>2481938.0</td>\n",
       "      <td>30641.0</td>\n",
       "      <td>7th of 15</td>\n",
       "      <td>$152,967,400</td>\n",
       "      <td>102</td>\n",
       "      <td>103</td>\n",
       "      <td>Nationals Park</td>\n",
       "    </tr>\n",
       "    <tr>\n",
       "      <th>8</th>\n",
       "      <td>2015</td>\n",
       "      <td>Washington Nationals</td>\n",
       "      <td>NL East</td>\n",
       "      <td>83</td>\n",
       "      <td>79</td>\n",
       "      <td>2</td>\n",
       "      <td>NaN</td>\n",
       "      <td>2619843.0</td>\n",
       "      <td>32344.0</td>\n",
       "      <td>5th of 15</td>\n",
       "      <td>$176,496,372</td>\n",
       "      <td>101</td>\n",
       "      <td>102</td>\n",
       "      <td>Nationals Park</td>\n",
       "    </tr>\n",
       "    <tr>\n",
       "      <th>9</th>\n",
       "      <td>2014</td>\n",
       "      <td>Washington Nationals</td>\n",
       "      <td>NL East</td>\n",
       "      <td>96</td>\n",
       "      <td>66</td>\n",
       "      <td>1</td>\n",
       "      <td>Lost NLDS (3-1)</td>\n",
       "      <td>2579389.0</td>\n",
       "      <td>31844.0</td>\n",
       "      <td>7th of 15</td>\n",
       "      <td>$137,235,080</td>\n",
       "      <td>102</td>\n",
       "      <td>104</td>\n",
       "      <td>Nationals Park</td>\n",
       "    </tr>\n",
       "    <tr>\n",
       "      <th>10</th>\n",
       "      <td>2013</td>\n",
       "      <td>Washington Nationals</td>\n",
       "      <td>NL East</td>\n",
       "      <td>86</td>\n",
       "      <td>76</td>\n",
       "      <td>2</td>\n",
       "      <td>NaN</td>\n",
       "      <td>2652422.0</td>\n",
       "      <td>32746.0</td>\n",
       "      <td>6th of 15</td>\n",
       "      <td>$112,493,250</td>\n",
       "      <td>101</td>\n",
       "      <td>103</td>\n",
       "      <td>Nationals Park</td>\n",
       "    </tr>\n",
       "    <tr>\n",
       "      <th>11</th>\n",
       "      <td>2012</td>\n",
       "      <td>Washington Nationals</td>\n",
       "      <td>NL East</td>\n",
       "      <td>98</td>\n",
       "      <td>64</td>\n",
       "      <td>1</td>\n",
       "      <td>Lost NLDS (3-2)</td>\n",
       "      <td>2370794.0</td>\n",
       "      <td>29269.0</td>\n",
       "      <td>9th of 16</td>\n",
       "      <td>$92,386,000</td>\n",
       "      <td>101</td>\n",
       "      <td>101</td>\n",
       "      <td>Nationals Park</td>\n",
       "    </tr>\n",
       "    <tr>\n",
       "      <th>12</th>\n",
       "      <td>2011</td>\n",
       "      <td>Washington Nationals</td>\n",
       "      <td>NL East</td>\n",
       "      <td>80</td>\n",
       "      <td>81</td>\n",
       "      <td>3</td>\n",
       "      <td>NaN</td>\n",
       "      <td>1940478.0</td>\n",
       "      <td>24256.0</td>\n",
       "      <td>14th of 16</td>\n",
       "      <td>$68,492,928</td>\n",
       "      <td>100</td>\n",
       "      <td>100</td>\n",
       "      <td>Nationals Park</td>\n",
       "    </tr>\n",
       "    <tr>\n",
       "      <th>13</th>\n",
       "      <td>2010</td>\n",
       "      <td>Washington Nationals</td>\n",
       "      <td>NL East</td>\n",
       "      <td>69</td>\n",
       "      <td>93</td>\n",
       "      <td>5</td>\n",
       "      <td>NaN</td>\n",
       "      <td>1828066.0</td>\n",
       "      <td>22569.0</td>\n",
       "      <td>14th of 16</td>\n",
       "      <td>$67,701,000</td>\n",
       "      <td>100</td>\n",
       "      <td>99</td>\n",
       "      <td>Nationals Park</td>\n",
       "    </tr>\n",
       "    <tr>\n",
       "      <th>14</th>\n",
       "      <td>2009</td>\n",
       "      <td>Washington Nationals</td>\n",
       "      <td>NL East</td>\n",
       "      <td>59</td>\n",
       "      <td>103</td>\n",
       "      <td>5</td>\n",
       "      <td>NaN</td>\n",
       "      <td>1817226.0</td>\n",
       "      <td>22435.0</td>\n",
       "      <td>13th of 16</td>\n",
       "      <td>$64,384,000</td>\n",
       "      <td>101</td>\n",
       "      <td>99</td>\n",
       "      <td>Nationals Park</td>\n",
       "    </tr>\n",
       "    <tr>\n",
       "      <th>15</th>\n",
       "      <td>2008</td>\n",
       "      <td>Washington Nationals</td>\n",
       "      <td>NL East</td>\n",
       "      <td>59</td>\n",
       "      <td>102</td>\n",
       "      <td>5</td>\n",
       "      <td>NaN</td>\n",
       "      <td>2320400.0</td>\n",
       "      <td>29005.0</td>\n",
       "      <td>13th of 16</td>\n",
       "      <td>$54,961,000</td>\n",
       "      <td>100</td>\n",
       "      <td>98</td>\n",
       "      <td>Nationals Park</td>\n",
       "    </tr>\n",
       "    <tr>\n",
       "      <th>16</th>\n",
       "      <td>2007</td>\n",
       "      <td>Washington Nationals</td>\n",
       "      <td>NL East</td>\n",
       "      <td>73</td>\n",
       "      <td>89</td>\n",
       "      <td>4</td>\n",
       "      <td>NaN</td>\n",
       "      <td>1943812.0</td>\n",
       "      <td>23998.0</td>\n",
       "      <td>14th of 16</td>\n",
       "      <td>$36,947,500</td>\n",
       "      <td>95</td>\n",
       "      <td>94</td>\n",
       "      <td>Robert F. Kennedy Stadium</td>\n",
       "    </tr>\n",
       "    <tr>\n",
       "      <th>17</th>\n",
       "      <td>2006</td>\n",
       "      <td>Washington Nationals</td>\n",
       "      <td>NL East</td>\n",
       "      <td>71</td>\n",
       "      <td>91</td>\n",
       "      <td>5</td>\n",
       "      <td>NaN</td>\n",
       "      <td>2153056.0</td>\n",
       "      <td>26581.0</td>\n",
       "      <td>11th of 16</td>\n",
       "      <td>$63,143,000</td>\n",
       "      <td>95</td>\n",
       "      <td>94</td>\n",
       "      <td>Robert F. Kennedy Stadium</td>\n",
       "    </tr>\n",
       "    <tr>\n",
       "      <th>18</th>\n",
       "      <td>2005</td>\n",
       "      <td>Washington Nationals</td>\n",
       "      <td>NL East</td>\n",
       "      <td>81</td>\n",
       "      <td>81</td>\n",
       "      <td>5</td>\n",
       "      <td>NaN</td>\n",
       "      <td>2731993.0</td>\n",
       "      <td>33728.0</td>\n",
       "      <td>8th of 16</td>\n",
       "      <td>$48,581,500</td>\n",
       "      <td>96</td>\n",
       "      <td>95</td>\n",
       "      <td>Robert F. Kennedy Stadium</td>\n",
       "    </tr>\n",
       "  </tbody>\n",
       "</table>\n",
       "</div>"
      ],
      "text/plain": [
       "    Year                    Tm       Lg   W    L  Finish         Playoffs  \\\n",
       "0   2023  Washington Nationals  NL East  27   44       5              NaN   \n",
       "1   2022  Washington Nationals  NL East  55  107       5              NaN   \n",
       "2   2021  Washington Nationals  NL East  65   97       5              NaN   \n",
       "3   2020  Washington Nationals  NL East  26   34       5              NaN   \n",
       "4   2019  Washington Nationals  NL East  93   69       2     Won WS (4-3)   \n",
       "5   2018  Washington Nationals  NL East  82   80       2              NaN   \n",
       "6   2017  Washington Nationals  NL East  97   65       1  Lost NLDS (3-2)   \n",
       "7   2016  Washington Nationals  NL East  95   67       1  Lost NLDS (3-2)   \n",
       "8   2015  Washington Nationals  NL East  83   79       2              NaN   \n",
       "9   2014  Washington Nationals  NL East  96   66       1  Lost NLDS (3-1)   \n",
       "10  2013  Washington Nationals  NL East  86   76       2              NaN   \n",
       "11  2012  Washington Nationals  NL East  98   64       1  Lost NLDS (3-2)   \n",
       "12  2011  Washington Nationals  NL East  80   81       3              NaN   \n",
       "13  2010  Washington Nationals  NL East  69   93       5              NaN   \n",
       "14  2009  Washington Nationals  NL East  59  103       5              NaN   \n",
       "15  2008  Washington Nationals  NL East  59  102       5              NaN   \n",
       "16  2007  Washington Nationals  NL East  73   89       4              NaN   \n",
       "17  2006  Washington Nationals  NL East  71   91       5              NaN   \n",
       "18  2005  Washington Nationals  NL East  81   81       5              NaN   \n",
       "\n",
       "    Attendance  Attend/G        Rank  Est. Payroll  PPF  BPF  \\\n",
       "0     810220.0   21898.0  12th of 15   $98,376,067   96   94   \n",
       "1    2026401.0   25017.0  11th of 15  $125,051,666   96   94   \n",
       "2    1465543.0   18093.0  12th of 15  $172,370,147   96   95   \n",
       "3          NaN       NaN  15th of 15  $172,237,283   99   99   \n",
       "4    2259781.0   27899.0  11th of 15  $203,016,595  102  102   \n",
       "5    2529604.0   31230.0   8th of 15  $188,886,699  105  106   \n",
       "6    2524980.0   31173.0   7th of 15  $175,587,301  103  104   \n",
       "7    2481938.0   30641.0   7th of 15  $152,967,400  102  103   \n",
       "8    2619843.0   32344.0   5th of 15  $176,496,372  101  102   \n",
       "9    2579389.0   31844.0   7th of 15  $137,235,080  102  104   \n",
       "10   2652422.0   32746.0   6th of 15  $112,493,250  101  103   \n",
       "11   2370794.0   29269.0   9th of 16   $92,386,000  101  101   \n",
       "12   1940478.0   24256.0  14th of 16   $68,492,928  100  100   \n",
       "13   1828066.0   22569.0  14th of 16   $67,701,000  100   99   \n",
       "14   1817226.0   22435.0  13th of 16   $64,384,000  101   99   \n",
       "15   2320400.0   29005.0  13th of 16   $54,961,000  100   98   \n",
       "16   1943812.0   23998.0  14th of 16   $36,947,500   95   94   \n",
       "17   2153056.0   26581.0  11th of 16   $63,143,000   95   94   \n",
       "18   2731993.0   33728.0   8th of 16   $48,581,500   96   95   \n",
       "\n",
       "                      Stadium  \n",
       "0              Nationals Park  \n",
       "1              Nationals Park  \n",
       "2              Nationals Park  \n",
       "3              Nationals Park  \n",
       "4              Nationals Park  \n",
       "5              Nationals Park  \n",
       "6              Nationals Park  \n",
       "7              Nationals Park  \n",
       "8              Nationals Park  \n",
       "9              Nationals Park  \n",
       "10             Nationals Park  \n",
       "11             Nationals Park  \n",
       "12             Nationals Park  \n",
       "13             Nationals Park  \n",
       "14             Nationals Park  \n",
       "15             Nationals Park  \n",
       "16  Robert F. Kennedy Stadium  \n",
       "17  Robert F. Kennedy Stadium  \n",
       "18  Robert F. Kennedy Stadium  "
      ]
     },
     "execution_count": 49,
     "metadata": {},
     "output_type": "execute_result"
    }
   ],
   "source": [
    "nats_df= nats_df[nats_df['Year'] > 2004]\n",
    "nats_df"
   ]
  },
  {
   "cell_type": "code",
   "execution_count": 50,
   "metadata": {},
   "outputs": [
    {
     "data": {
      "text/html": [
       "<div>\n",
       "<style scoped>\n",
       "    .dataframe tbody tr th:only-of-type {\n",
       "        vertical-align: middle;\n",
       "    }\n",
       "\n",
       "    .dataframe tbody tr th {\n",
       "        vertical-align: top;\n",
       "    }\n",
       "\n",
       "    .dataframe thead th {\n",
       "        text-align: right;\n",
       "    }\n",
       "</style>\n",
       "<table border=\"1\" class=\"dataframe\">\n",
       "  <thead>\n",
       "    <tr style=\"text-align: right;\">\n",
       "      <th></th>\n",
       "      <th>Year</th>\n",
       "      <th>Tm</th>\n",
       "      <th>Lg</th>\n",
       "      <th>W</th>\n",
       "      <th>L</th>\n",
       "      <th>Finish</th>\n",
       "      <th>Playoffs</th>\n",
       "      <th>Attendance</th>\n",
       "      <th>Attend/G</th>\n",
       "      <th>Rank</th>\n",
       "      <th>Est. Payroll</th>\n",
       "      <th>PPF</th>\n",
       "      <th>BPF</th>\n",
       "      <th>Stadium</th>\n",
       "    </tr>\n",
       "  </thead>\n",
       "  <tbody>\n",
       "    <tr>\n",
       "      <th>0</th>\n",
       "      <td>2023</td>\n",
       "      <td>Washington Nationals</td>\n",
       "      <td>NL East</td>\n",
       "      <td>27</td>\n",
       "      <td>44</td>\n",
       "      <td>5</td>\n",
       "      <td>NaN</td>\n",
       "      <td>810220.0</td>\n",
       "      <td>21898.0</td>\n",
       "      <td>12th of 15</td>\n",
       "      <td>98376067</td>\n",
       "      <td>96</td>\n",
       "      <td>94</td>\n",
       "      <td>Nationals Park</td>\n",
       "    </tr>\n",
       "    <tr>\n",
       "      <th>1</th>\n",
       "      <td>2022</td>\n",
       "      <td>Washington Nationals</td>\n",
       "      <td>NL East</td>\n",
       "      <td>55</td>\n",
       "      <td>107</td>\n",
       "      <td>5</td>\n",
       "      <td>NaN</td>\n",
       "      <td>2026401.0</td>\n",
       "      <td>25017.0</td>\n",
       "      <td>11th of 15</td>\n",
       "      <td>125051666</td>\n",
       "      <td>96</td>\n",
       "      <td>94</td>\n",
       "      <td>Nationals Park</td>\n",
       "    </tr>\n",
       "    <tr>\n",
       "      <th>2</th>\n",
       "      <td>2021</td>\n",
       "      <td>Washington Nationals</td>\n",
       "      <td>NL East</td>\n",
       "      <td>65</td>\n",
       "      <td>97</td>\n",
       "      <td>5</td>\n",
       "      <td>NaN</td>\n",
       "      <td>1465543.0</td>\n",
       "      <td>18093.0</td>\n",
       "      <td>12th of 15</td>\n",
       "      <td>172370147</td>\n",
       "      <td>96</td>\n",
       "      <td>95</td>\n",
       "      <td>Nationals Park</td>\n",
       "    </tr>\n",
       "    <tr>\n",
       "      <th>3</th>\n",
       "      <td>2020</td>\n",
       "      <td>Washington Nationals</td>\n",
       "      <td>NL East</td>\n",
       "      <td>26</td>\n",
       "      <td>34</td>\n",
       "      <td>5</td>\n",
       "      <td>NaN</td>\n",
       "      <td>NaN</td>\n",
       "      <td>NaN</td>\n",
       "      <td>15th of 15</td>\n",
       "      <td>172237283</td>\n",
       "      <td>99</td>\n",
       "      <td>99</td>\n",
       "      <td>Nationals Park</td>\n",
       "    </tr>\n",
       "    <tr>\n",
       "      <th>4</th>\n",
       "      <td>2019</td>\n",
       "      <td>Washington Nationals</td>\n",
       "      <td>NL East</td>\n",
       "      <td>93</td>\n",
       "      <td>69</td>\n",
       "      <td>2</td>\n",
       "      <td>Won WS (4-3)</td>\n",
       "      <td>2259781.0</td>\n",
       "      <td>27899.0</td>\n",
       "      <td>11th of 15</td>\n",
       "      <td>203016595</td>\n",
       "      <td>102</td>\n",
       "      <td>102</td>\n",
       "      <td>Nationals Park</td>\n",
       "    </tr>\n",
       "  </tbody>\n",
       "</table>\n",
       "</div>"
      ],
      "text/plain": [
       "   Year                    Tm       Lg   W    L  Finish      Playoffs  \\\n",
       "0  2023  Washington Nationals  NL East  27   44       5           NaN   \n",
       "1  2022  Washington Nationals  NL East  55  107       5           NaN   \n",
       "2  2021  Washington Nationals  NL East  65   97       5           NaN   \n",
       "3  2020  Washington Nationals  NL East  26   34       5           NaN   \n",
       "4  2019  Washington Nationals  NL East  93   69       2  Won WS (4-3)   \n",
       "\n",
       "   Attendance  Attend/G        Rank Est. Payroll  PPF  BPF         Stadium  \n",
       "0    810220.0   21898.0  12th of 15     98376067   96   94  Nationals Park  \n",
       "1   2026401.0   25017.0  11th of 15    125051666   96   94  Nationals Park  \n",
       "2   1465543.0   18093.0  12th of 15    172370147   96   95  Nationals Park  \n",
       "3         NaN       NaN  15th of 15    172237283   99   99  Nationals Park  \n",
       "4   2259781.0   27899.0  11th of 15    203016595  102  102  Nationals Park  "
      ]
     },
     "execution_count": 50,
     "metadata": {},
     "output_type": "execute_result"
    }
   ],
   "source": [
    "#remove the dollar sign from Est. Payroll column\n",
    "nats_df['Est. Payroll'] = nats_df['Est. Payroll'].replace({'\\$':''}, regex = True)\n",
    "nats_df['Est. Payroll'] = nats_df['Est. Payroll'].replace({'\\,':''}, regex = True)\n",
    "nats_df.head()"
   ]
  },
  {
   "cell_type": "code",
   "execution_count": 51,
   "metadata": {},
   "outputs": [
    {
     "data": {
      "text/plain": [
       "Year              int64\n",
       "Tm               object\n",
       "Lg               object\n",
       "W                 int64\n",
       "L                 int64\n",
       "Finish            int64\n",
       "Playoffs         object\n",
       "Attendance      float64\n",
       "Attend/G        float64\n",
       "Rank             object\n",
       "Est. Payroll    float64\n",
       "PPF               int64\n",
       "BPF               int64\n",
       "Stadium          object\n",
       "dtype: object"
      ]
     },
     "execution_count": 51,
     "metadata": {},
     "output_type": "execute_result"
    }
   ],
   "source": [
    "nats_df['Est. Payroll'] = nats_df['Est. Payroll'].astype(float)\n",
    "nats_df.dtypes"
   ]
  },
  {
   "attachments": {},
   "cell_type": "markdown",
   "metadata": {},
   "source": [
    "### Create Binary feature that defines a successful year as wins greater than or equal to 50% of total games played"
   ]
  },
  {
   "cell_type": "code",
   "execution_count": 54,
   "metadata": {},
   "outputs": [
    {
     "data": {
      "text/html": [
       "<div>\n",
       "<style scoped>\n",
       "    .dataframe tbody tr th:only-of-type {\n",
       "        vertical-align: middle;\n",
       "    }\n",
       "\n",
       "    .dataframe tbody tr th {\n",
       "        vertical-align: top;\n",
       "    }\n",
       "\n",
       "    .dataframe thead th {\n",
       "        text-align: right;\n",
       "    }\n",
       "</style>\n",
       "<table border=\"1\" class=\"dataframe\">\n",
       "  <thead>\n",
       "    <tr style=\"text-align: right;\">\n",
       "      <th></th>\n",
       "      <th>Year</th>\n",
       "      <th>Tm</th>\n",
       "      <th>Lg</th>\n",
       "      <th>W</th>\n",
       "      <th>L</th>\n",
       "      <th>Finish</th>\n",
       "      <th>Playoffs</th>\n",
       "      <th>Attendance</th>\n",
       "      <th>Attend/G</th>\n",
       "      <th>Rank</th>\n",
       "      <th>Est. Payroll</th>\n",
       "      <th>PPF</th>\n",
       "      <th>BPF</th>\n",
       "      <th>Stadium</th>\n",
       "      <th>success</th>\n",
       "    </tr>\n",
       "  </thead>\n",
       "  <tbody>\n",
       "    <tr>\n",
       "      <th>0</th>\n",
       "      <td>2023</td>\n",
       "      <td>Washington Nationals</td>\n",
       "      <td>NL East</td>\n",
       "      <td>27</td>\n",
       "      <td>44</td>\n",
       "      <td>5</td>\n",
       "      <td>NaN</td>\n",
       "      <td>810220.0</td>\n",
       "      <td>21898.0</td>\n",
       "      <td>12th of 15</td>\n",
       "      <td>98376067.0</td>\n",
       "      <td>96</td>\n",
       "      <td>94</td>\n",
       "      <td>Nationals Park</td>\n",
       "      <td>0</td>\n",
       "    </tr>\n",
       "    <tr>\n",
       "      <th>1</th>\n",
       "      <td>2022</td>\n",
       "      <td>Washington Nationals</td>\n",
       "      <td>NL East</td>\n",
       "      <td>55</td>\n",
       "      <td>107</td>\n",
       "      <td>5</td>\n",
       "      <td>NaN</td>\n",
       "      <td>2026401.0</td>\n",
       "      <td>25017.0</td>\n",
       "      <td>11th of 15</td>\n",
       "      <td>125051666.0</td>\n",
       "      <td>96</td>\n",
       "      <td>94</td>\n",
       "      <td>Nationals Park</td>\n",
       "      <td>0</td>\n",
       "    </tr>\n",
       "    <tr>\n",
       "      <th>2</th>\n",
       "      <td>2021</td>\n",
       "      <td>Washington Nationals</td>\n",
       "      <td>NL East</td>\n",
       "      <td>65</td>\n",
       "      <td>97</td>\n",
       "      <td>5</td>\n",
       "      <td>NaN</td>\n",
       "      <td>1465543.0</td>\n",
       "      <td>18093.0</td>\n",
       "      <td>12th of 15</td>\n",
       "      <td>172370147.0</td>\n",
       "      <td>96</td>\n",
       "      <td>95</td>\n",
       "      <td>Nationals Park</td>\n",
       "      <td>0</td>\n",
       "    </tr>\n",
       "    <tr>\n",
       "      <th>3</th>\n",
       "      <td>2020</td>\n",
       "      <td>Washington Nationals</td>\n",
       "      <td>NL East</td>\n",
       "      <td>26</td>\n",
       "      <td>34</td>\n",
       "      <td>5</td>\n",
       "      <td>NaN</td>\n",
       "      <td>NaN</td>\n",
       "      <td>NaN</td>\n",
       "      <td>15th of 15</td>\n",
       "      <td>172237283.0</td>\n",
       "      <td>99</td>\n",
       "      <td>99</td>\n",
       "      <td>Nationals Park</td>\n",
       "      <td>0</td>\n",
       "    </tr>\n",
       "    <tr>\n",
       "      <th>4</th>\n",
       "      <td>2019</td>\n",
       "      <td>Washington Nationals</td>\n",
       "      <td>NL East</td>\n",
       "      <td>93</td>\n",
       "      <td>69</td>\n",
       "      <td>2</td>\n",
       "      <td>Won WS (4-3)</td>\n",
       "      <td>2259781.0</td>\n",
       "      <td>27899.0</td>\n",
       "      <td>11th of 15</td>\n",
       "      <td>203016595.0</td>\n",
       "      <td>102</td>\n",
       "      <td>102</td>\n",
       "      <td>Nationals Park</td>\n",
       "      <td>1</td>\n",
       "    </tr>\n",
       "  </tbody>\n",
       "</table>\n",
       "</div>"
      ],
      "text/plain": [
       "   Year                    Tm       Lg   W    L  Finish      Playoffs  \\\n",
       "0  2023  Washington Nationals  NL East  27   44       5           NaN   \n",
       "1  2022  Washington Nationals  NL East  55  107       5           NaN   \n",
       "2  2021  Washington Nationals  NL East  65   97       5           NaN   \n",
       "3  2020  Washington Nationals  NL East  26   34       5           NaN   \n",
       "4  2019  Washington Nationals  NL East  93   69       2  Won WS (4-3)   \n",
       "\n",
       "   Attendance  Attend/G        Rank  Est. Payroll  PPF  BPF         Stadium  \\\n",
       "0    810220.0   21898.0  12th of 15    98376067.0   96   94  Nationals Park   \n",
       "1   2026401.0   25017.0  11th of 15   125051666.0   96   94  Nationals Park   \n",
       "2   1465543.0   18093.0  12th of 15   172370147.0   96   95  Nationals Park   \n",
       "3         NaN       NaN  15th of 15   172237283.0   99   99  Nationals Park   \n",
       "4   2259781.0   27899.0  11th of 15   203016595.0  102  102  Nationals Park   \n",
       "\n",
       "   success  \n",
       "0        0  \n",
       "1        0  \n",
       "2        0  \n",
       "3        0  \n",
       "4        1  "
      ]
     },
     "execution_count": 54,
     "metadata": {},
     "output_type": "execute_result"
    }
   ],
   "source": [
    "#Add a column to define a binary output that has a 1 if the team has a winning record for the year, and 0 if they do not\n",
    "nats_df['success'] = (nats_df['W'] / (nats_df['W'] + nats_df['L']) >= 0.5).astype(int)\n",
    "nats_df.head()"
   ]
  },
  {
   "cell_type": "code",
   "execution_count": 55,
   "metadata": {},
   "outputs": [
    {
     "data": {
      "image/png": "[encoded data removed]",
      "text/plain": [
       "<Figure size 432x288 with 1 Axes>"
      ]
     },
     "metadata": {
      "needs_background": "light"
     },
     "output_type": "display_data"
    }
   ],
   "source": [
    "# Count the number of successes and failures\n",
    "success_counts = nats_df['success'].value_counts()\n",
    "\n",
    "# Create a bar plot\n",
    "plt.bar(success_counts.index, success_counts.values)\n",
    "plt.xticks(success_counts.index, ['Failure', 'Success'])\n",
    "plt.xlabel('Success')\n",
    "plt.ylabel('Count')\n",
    "plt.title('Success Counts')\n",
    "\n",
    "# Display the plot\n",
    "plt.show()"
   ]
  },
  {
   "cell_type": "code",
   "execution_count": 56,
   "metadata": {},
   "outputs": [
    {
     "data": {
      "text/html": [
       "<div>\n",
       "<style scoped>\n",
       "    .dataframe tbody tr th:only-of-type {\n",
       "        vertical-align: middle;\n",
       "    }\n",
       "\n",
       "    .dataframe tbody tr th {\n",
       "        vertical-align: top;\n",
       "    }\n",
       "\n",
       "    .dataframe thead th {\n",
       "        text-align: right;\n",
       "    }\n",
       "</style>\n",
       "<table border=\"1\" class=\"dataframe\">\n",
       "  <thead>\n",
       "    <tr style=\"text-align: right;\">\n",
       "      <th></th>\n",
       "      <th>Year</th>\n",
       "      <th>W</th>\n",
       "      <th>L</th>\n",
       "      <th>Finish</th>\n",
       "      <th>Attendance</th>\n",
       "      <th>Attend/G</th>\n",
       "      <th>Est. Payroll</th>\n",
       "      <th>PPF</th>\n",
       "      <th>BPF</th>\n",
       "      <th>success</th>\n",
       "    </tr>\n",
       "  </thead>\n",
       "  <tbody>\n",
       "    <tr>\n",
       "      <th>count</th>\n",
       "      <td>19.000000</td>\n",
       "      <td>19.000000</td>\n",
       "      <td>19.000000</td>\n",
       "      <td>19.000000</td>\n",
       "      <td>1.800000e+01</td>\n",
       "      <td>18.000000</td>\n",
       "      <td>1.900000e+01</td>\n",
       "      <td>19.000000</td>\n",
       "      <td>19.000000</td>\n",
       "      <td>19.000000</td>\n",
       "    </tr>\n",
       "    <tr>\n",
       "      <th>mean</th>\n",
       "      <td>2014.000000</td>\n",
       "      <td>73.421053</td>\n",
       "      <td>78.315789</td>\n",
       "      <td>3.368421</td>\n",
       "      <td>2.169775e+06</td>\n",
       "      <td>27484.777778</td>\n",
       "      <td>1.163850e+08</td>\n",
       "      <td>99.526316</td>\n",
       "      <td>99.263158</td>\n",
       "      <td>0.473684</td>\n",
       "    </tr>\n",
       "    <tr>\n",
       "      <th>std</th>\n",
       "      <td>5.627314</td>\n",
       "      <td>21.341966</td>\n",
       "      <td>19.359329</td>\n",
       "      <td>1.738790</td>\n",
       "      <td>4.883064e+05</td>\n",
       "      <td>4544.568362</td>\n",
       "      <td>5.466072e+07</td>\n",
       "      <td>2.988281</td>\n",
       "      <td>3.983886</td>\n",
       "      <td>0.512989</td>\n",
       "    </tr>\n",
       "    <tr>\n",
       "      <th>min</th>\n",
       "      <td>2005.000000</td>\n",
       "      <td>26.000000</td>\n",
       "      <td>34.000000</td>\n",
       "      <td>1.000000</td>\n",
       "      <td>8.102200e+05</td>\n",
       "      <td>18093.000000</td>\n",
       "      <td>3.694750e+07</td>\n",
       "      <td>95.000000</td>\n",
       "      <td>94.000000</td>\n",
       "      <td>0.000000</td>\n",
       "    </tr>\n",
       "    <tr>\n",
       "      <th>25%</th>\n",
       "      <td>2009.500000</td>\n",
       "      <td>62.000000</td>\n",
       "      <td>66.500000</td>\n",
       "      <td>2.000000</td>\n",
       "      <td>1.941312e+06</td>\n",
       "      <td>24062.500000</td>\n",
       "      <td>6.604250e+07</td>\n",
       "      <td>96.000000</td>\n",
       "      <td>95.000000</td>\n",
       "      <td>0.000000</td>\n",
       "    </tr>\n",
       "    <tr>\n",
       "      <th>50%</th>\n",
       "      <td>2014.000000</td>\n",
       "      <td>80.000000</td>\n",
       "      <td>80.000000</td>\n",
       "      <td>4.000000</td>\n",
       "      <td>2.290090e+06</td>\n",
       "      <td>28452.000000</td>\n",
       "      <td>1.124932e+08</td>\n",
       "      <td>100.000000</td>\n",
       "      <td>99.000000</td>\n",
       "      <td>0.000000</td>\n",
       "    </tr>\n",
       "    <tr>\n",
       "      <th>75%</th>\n",
       "      <td>2018.500000</td>\n",
       "      <td>89.500000</td>\n",
       "      <td>92.000000</td>\n",
       "      <td>5.000000</td>\n",
       "      <td>2.528448e+06</td>\n",
       "      <td>31215.750000</td>\n",
       "      <td>1.723037e+08</td>\n",
       "      <td>101.500000</td>\n",
       "      <td>102.500000</td>\n",
       "      <td>1.000000</td>\n",
       "    </tr>\n",
       "    <tr>\n",
       "      <th>max</th>\n",
       "      <td>2023.000000</td>\n",
       "      <td>98.000000</td>\n",
       "      <td>107.000000</td>\n",
       "      <td>5.000000</td>\n",
       "      <td>2.731993e+06</td>\n",
       "      <td>33728.000000</td>\n",
       "      <td>2.030166e+08</td>\n",
       "      <td>105.000000</td>\n",
       "      <td>106.000000</td>\n",
       "      <td>1.000000</td>\n",
       "    </tr>\n",
       "  </tbody>\n",
       "</table>\n",
       "</div>"
      ],
      "text/plain": [
       "              Year          W           L     Finish    Attendance  \\\n",
       "count    19.000000  19.000000   19.000000  19.000000  1.800000e+01   \n",
       "mean   2014.000000  73.421053   78.315789   3.368421  2.169775e+06   \n",
       "std       5.627314  21.341966   19.359329   1.738790  4.883064e+05   \n",
       "min    2005.000000  26.000000   34.000000   1.000000  8.102200e+05   \n",
       "25%    2009.500000  62.000000   66.500000   2.000000  1.941312e+06   \n",
       "50%    2014.000000  80.000000   80.000000   4.000000  2.290090e+06   \n",
       "75%    2018.500000  89.500000   92.000000   5.000000  2.528448e+06   \n",
       "max    2023.000000  98.000000  107.000000   5.000000  2.731993e+06   \n",
       "\n",
       "           Attend/G  Est. Payroll         PPF         BPF    success  \n",
       "count     18.000000  1.900000e+01   19.000000   19.000000  19.000000  \n",
       "mean   27484.777778  1.163850e+08   99.526316   99.263158   0.473684  \n",
       "std     4544.568362  5.466072e+07    2.988281    3.983886   0.512989  \n",
       "min    18093.000000  3.694750e+07   95.000000   94.000000   0.000000  \n",
       "25%    24062.500000  6.604250e+07   96.000000   95.000000   0.000000  \n",
       "50%    28452.000000  1.124932e+08  100.000000   99.000000   0.000000  \n",
       "75%    31215.750000  1.723037e+08  101.500000  102.500000   1.000000  \n",
       "max    33728.000000  2.030166e+08  105.000000  106.000000   1.000000  "
      ]
     },
     "execution_count": 56,
     "metadata": {},
     "output_type": "execute_result"
    }
   ],
   "source": [
    "nats_df.describe()"
   ]
  },
  {
   "cell_type": "code",
   "execution_count": 57,
   "metadata": {},
   "outputs": [
    {
     "data": {
      "image/png": "[encoded data removed]",
      "text/plain": [
       "<Figure size 720x432 with 1 Axes>"
      ]
     },
     "metadata": {
      "needs_background": "light"
     },
     "output_type": "display_data"
    }
   ],
   "source": [
    "#plot data\n",
    "# Plotting\n",
    "# Convert columns to numpy arrays\n",
    "year = np.array(nats_df['Year'])\n",
    "attendance = np.array(nats_df['Attendance'])\n",
    "\n",
    "plt.figure(figsize= (10,6))\n",
    "\n",
    "# Plotting Attendance over the years\n",
    "plt.plot(year, attendance, marker='o')\n",
    "plt.xlabel('Year')\n",
    "plt.ylabel('Attendance')\n",
    "plt.title('Attendance of Washington Nationals over the years')\n",
    "\n",
    "# Display the plot\n",
    "plt.show()"
   ]
  },
  {
   "cell_type": "code",
   "execution_count": 32,
   "metadata": {},
   "outputs": [
    {
     "data": {
      "image/png": "[encoded data removed]",
      "text/plain": [
       "<Figure size 720x432 with 1 Axes>"
      ]
     },
     "metadata": {
      "needs_background": "light"
     },
     "output_type": "display_data"
    }
   ],
   "source": [
    "# Plotting Wins over the years\n",
    "# Convert columns to numpy arrays\n",
    "year = np.array(nats_df['Year'])\n",
    "wins = np.array(nats_df['W'])\n",
    "\n",
    "plt.figure(figsize= (10,6))\n",
    "\n",
    "# Plotting Attendance over the years\n",
    "plt.plot(year, wins, marker='o')\n",
    "plt.xlabel('Year')\n",
    "plt.ylabel('Wins')\n",
    "plt.title('Wins by Washington Nationals over the years')\n",
    "\n",
    "# Display the plot\n",
    "plt.show()"
   ]
  },
  {
   "cell_type": "code",
   "execution_count": 33,
   "metadata": {},
   "outputs": [
    {
     "data": {
      "image/png": "[encoded data removed]",
      "text/plain": [
       "<Figure size 720x432 with 1 Axes>"
      ]
     },
     "metadata": {
      "needs_background": "light"
     },
     "output_type": "display_data"
    }
   ],
   "source": [
    "# Plotting Payroll over the years\n",
    "# Convert columns to numpy arrays\n",
    "year = np.array(nats_df['Year'])\n",
    "payroll = np.array(nats_df['Est. Payroll'])\n",
    "\n",
    "plt.figure(figsize= (10,6))\n",
    "\n",
    "# Plotting Attendance over the years\n",
    "plt.plot(year, payroll, marker='o')\n",
    "plt.xlabel('Year')\n",
    "plt.ylabel('Payroll')\n",
    "plt.title('Payroll of Washington Nationals over the years')\n",
    "\n",
    "# Display the plot\n",
    "plt.show()"
   ]
  },
  {
   "cell_type": "code",
   "execution_count": 58,
   "metadata": {},
   "outputs": [
    {
     "data": {
      "image/png": "[encoded data removed]",
      "text/plain": [
       "<Figure size 720x576 with 2 Axes>"
      ]
     },
     "metadata": {
      "needs_background": "light"
     },
     "output_type": "display_data"
    }
   ],
   "source": [
    "import seaborn as sns\n",
    "\n",
    "# Select numeric columns for correlation analysis\n",
    "numeric_cols = ['W', 'L', 'Attendance', 'Attend/G', 'Est. Payroll', 'PPF', 'BPF', 'success']\n",
    "numeric_df = nats_df[numeric_cols]\n",
    "\n",
    "# Correlation matrix\n",
    "correlation = numeric_df.corr()\n",
    "\n",
    "# Plotting the correlation heatmap\n",
    "plt.figure(figsize=(10, 8))\n",
    "sns.heatmap(correlation, annot=True, cmap='coolwarm')\n",
    "plt.title('Correlation Heatmap')\n",
    "\n",
    "# Display the plot\n",
    "plt.show()\n"
   ]
  },
  {
   "attachments": {},
   "cell_type": "markdown",
   "metadata": {},
   "source": [
    "Add column to for whether blog post occured in a successful year or not."
   ]
  },
  {
   "cell_type": "code",
   "execution_count": 61,
   "metadata": {},
   "outputs": [
    {
     "data": {
      "text/html": [
       "<div>\n",
       "<style scoped>\n",
       "    .dataframe tbody tr th:only-of-type {\n",
       "        vertical-align: middle;\n",
       "    }\n",
       "\n",
       "    .dataframe tbody tr th {\n",
       "        vertical-align: top;\n",
       "    }\n",
       "\n",
       "    .dataframe thead th {\n",
       "        text-align: right;\n",
       "    }\n",
       "</style>\n",
       "<table border=\"1\" class=\"dataframe\">\n",
       "  <thead>\n",
       "    <tr style=\"text-align: right;\">\n",
       "      <th></th>\n",
       "      <th>Title</th>\n",
       "      <th>Author</th>\n",
       "      <th>Date</th>\n",
       "      <th>Content</th>\n",
       "      <th>Year</th>\n",
       "      <th>success</th>\n",
       "      <th>Year_Successful</th>\n",
       "    </tr>\n",
       "  </thead>\n",
       "  <tbody>\n",
       "    <tr>\n",
       "      <th>0</th>\n",
       "      <td>Sean Doolittle Completes Rehab Assignment, Hea...</td>\n",
       "      <td>Steve Adams</td>\n",
       "      <td>2023-06-15</td>\n",
       "      <td>Veteran lefty Sean Doolittle was transferred f...</td>\n",
       "      <td>2023</td>\n",
       "      <td>0</td>\n",
       "      <td>0</td>\n",
       "    </tr>\n",
       "    <tr>\n",
       "      <th>1</th>\n",
       "      <td>Nationals Release Erasmo Ramírez</td>\n",
       "      <td>Darragh McDonald</td>\n",
       "      <td>2023-06-09</td>\n",
       "      <td>The Nationals have released right-hander Erasm...</td>\n",
       "      <td>2023</td>\n",
       "      <td>0</td>\n",
       "      <td>0</td>\n",
       "    </tr>\n",
       "    <tr>\n",
       "      <th>2</th>\n",
       "      <td>Best Deadline Rental Returns In Recent History...</td>\n",
       "      <td>Darragh McDonald</td>\n",
       "      <td>2023-06-08</td>\n",
       "      <td>With the trade deadline now less than two mont...</td>\n",
       "      <td>2023</td>\n",
       "      <td>0</td>\n",
       "      <td>0</td>\n",
       "    </tr>\n",
       "    <tr>\n",
       "      <th>3</th>\n",
       "      <td>Nationals Claim Joe La Sorsa</td>\n",
       "      <td>Steve Adams</td>\n",
       "      <td>2023-06-08</td>\n",
       "      <td>The Nationals have claimed left-hander Joe La ...</td>\n",
       "      <td>2023</td>\n",
       "      <td>0</td>\n",
       "      <td>0</td>\n",
       "    </tr>\n",
       "    <tr>\n",
       "      <th>4</th>\n",
       "      <td>Nationals Outright Andres Machado</td>\n",
       "      <td>Anthony Franco</td>\n",
       "      <td>2023-06-07</td>\n",
       "      <td>Nationals reliever Andrés Machado has gone unc...</td>\n",
       "      <td>2023</td>\n",
       "      <td>0</td>\n",
       "      <td>0</td>\n",
       "    </tr>\n",
       "  </tbody>\n",
       "</table>\n",
       "</div>"
      ],
      "text/plain": [
       "                                               Title            Author  \\\n",
       "0  Sean Doolittle Completes Rehab Assignment, Hea...       Steve Adams   \n",
       "1                   Nationals Release Erasmo Ramírez  Darragh McDonald   \n",
       "2  Best Deadline Rental Returns In Recent History...  Darragh McDonald   \n",
       "3                       Nationals Claim Joe La Sorsa       Steve Adams   \n",
       "4                  Nationals Outright Andres Machado    Anthony Franco   \n",
       "\n",
       "        Date                                            Content  Year  \\\n",
       "0 2023-06-15  Veteran lefty Sean Doolittle was transferred f...  2023   \n",
       "1 2023-06-09  The Nationals have released right-hander Erasm...  2023   \n",
       "2 2023-06-08  With the trade deadline now less than two mont...  2023   \n",
       "3 2023-06-08  The Nationals have claimed left-hander Joe La ...  2023   \n",
       "4 2023-06-07  Nationals reliever Andrés Machado has gone unc...  2023   \n",
       "\n",
       "   success  Year_Successful  \n",
       "0        0                0  \n",
       "1        0                0  \n",
       "2        0                0  \n",
       "3        0                0  \n",
       "4        0                0  "
      ]
     },
     "execution_count": 61,
     "metadata": {},
     "output_type": "execute_result"
    }
   ],
   "source": [
    "# Extract the year from the \"Date\" column in df DataFrame\n",
    "df['Year'] = pd.to_datetime(df['Date']).dt.year\n",
    "\n",
    "# Merge df and nats_df DataFrames on the \"Year\" column\n",
    "merged_df = pd.merge(df, nats_df[['Year', 'success']], on='Year', how='left')\n",
    "\n",
    "# Add a new column 'Year_Successful' based on 'success' column\n",
    "merged_df['Year_Successful'] = merged_df['success'].fillna(0).astype(int)\n",
    "\n",
    "merged_df.head()"
   ]
  },
  {
   "cell_type": "code",
   "execution_count": 62,
   "metadata": {},
   "outputs": [
    {
     "data": {
      "text/plain": [
       "1000"
      ]
     },
     "execution_count": 62,
     "metadata": {},
     "output_type": "execute_result"
    }
   ],
   "source": [
    "len(merged_df)"
   ]
  },
  {
   "attachments": {},
   "cell_type": "markdown",
   "metadata": {},
   "source": [
    "## Cleaning the Data"
   ]
  },
  {
   "cell_type": "code",
   "execution_count": 63,
   "metadata": {},
   "outputs": [],
   "source": [
    "#Identify any noise in the data\n",
    "RE_SUSPICIOUS = re.compile(r'[&#<>{}\\[\\]\\\\]')\n",
    "\n",
    "def impurity(text, min_len=10):\n",
    "    \"\"\"returns the share of suspicious characters in a text\"\"\"\n",
    "    if text == None or len(text) < min_len:\n",
    "        return 0\n",
    "    else:\n",
    "        return len(RE_SUSPICIOUS.findall(text))/len(text)\n"
   ]
  },
  {
   "cell_type": "code",
   "execution_count": 64,
   "metadata": {},
   "outputs": [
    {
     "data": {
      "text/plain": [
       "<bound method Series.apply of 0      Veteran lefty Sean Doolittle was transferred f...\n",
       "1      The Nationals have released right-hander Erasm...\n",
       "2      With the trade deadline now less than two mont...\n",
       "3      The Nationals have claimed left-hander Joe La ...\n",
       "4      Nationals reliever Andrés Machado has gone unc...\n",
       "                             ...                        \n",
       "995    The resurgent Nationals have won eight of thei...\n",
       "996    Right-hander Alex Meyer has announced his reti...\n",
       "997    3:25pm: To make room for Venters and Rodney, t...\n",
       "998    The Nationals will add right-handed reliever F...\n",
       "999    The Nationals have released reliever Trevor Ro...\n",
       "Name: Content, Length: 1000, dtype: object>"
      ]
     },
     "execution_count": 64,
     "metadata": {},
     "output_type": "execute_result"
    }
   ],
   "source": [
    "merged_df['Content'].apply"
   ]
  },
  {
   "cell_type": "code",
   "execution_count": 65,
   "metadata": {},
   "outputs": [
    {
     "data": {
      "text/html": [
       "<div>\n",
       "<style scoped>\n",
       "    .dataframe tbody tr th:only-of-type {\n",
       "        vertical-align: middle;\n",
       "    }\n",
       "\n",
       "    .dataframe tbody tr th {\n",
       "        vertical-align: top;\n",
       "    }\n",
       "\n",
       "    .dataframe thead th {\n",
       "        text-align: right;\n",
       "    }\n",
       "</style>\n",
       "<table border=\"1\" class=\"dataframe\">\n",
       "  <thead>\n",
       "    <tr style=\"text-align: right;\">\n",
       "      <th></th>\n",
       "      <th>Content</th>\n",
       "      <th>impurity</th>\n",
       "    </tr>\n",
       "  </thead>\n",
       "  <tbody>\n",
       "    <tr>\n",
       "      <th>601</th>\n",
       "      <td>The Nationals announced they’ve selected the contract of right-hander Steven Fuentes. The 23-yea...</td>\n",
       "      <td>0.003333</td>\n",
       "    </tr>\n",
       "    <tr>\n",
       "      <th>559</th>\n",
       "      <td>Kyle Schwarber is now a member of the Washington Nationals, in no small part because of Nats man...</td>\n",
       "      <td>0.003155</td>\n",
       "    </tr>\n",
       "    <tr>\n",
       "      <th>565</th>\n",
       "      <td>The Nationals accomplished a big part of their winter to-do list when they acquired Josh Bell fr...</td>\n",
       "      <td>0.002786</td>\n",
       "    </tr>\n",
       "  </tbody>\n",
       "</table>\n",
       "</div>"
      ],
      "text/plain": [
       "                                                                                                 Content  \\\n",
       "601  The Nationals announced they’ve selected the contract of right-hander Steven Fuentes. The 23-yea...   \n",
       "559  Kyle Schwarber is now a member of the Washington Nationals, in no small part because of Nats man...   \n",
       "565  The Nationals accomplished a big part of their winter to-do list when they acquired Josh Bell fr...   \n",
       "\n",
       "     impurity  \n",
       "601  0.003333  \n",
       "559  0.003155  \n",
       "565  0.002786  "
      ]
     },
     "execution_count": 65,
     "metadata": {},
     "output_type": "execute_result"
    }
   ],
   "source": [
    "pd.options.display.max_colwidth = 100 ###\n",
    "# add new column to data frame\n",
    "merged_df['impurity'] = merged_df['Content'].apply(impurity, min_len=10)\n",
    "\n",
    "# get the top 3 records\n",
    "merged_df[['Content', 'impurity']].sort_values(by='impurity', ascending=False).head(3)"
   ]
  },
  {
   "attachments": {},
   "cell_type": "markdown",
   "metadata": {},
   "source": [
    "The above shows the highest impurity levels for this data set.  Note, these are extremely low...well below 1% of all characters in each blog post are suspicious.\n",
    "\n",
    "Now we'll do some character normalization and tokenization"
   ]
  },
  {
   "cell_type": "code",
   "execution_count": 66,
   "metadata": {},
   "outputs": [
    {
     "data": {
      "text/html": [
       "<div>\n",
       "<style scoped>\n",
       "    .dataframe tbody tr th:only-of-type {\n",
       "        vertical-align: middle;\n",
       "    }\n",
       "\n",
       "    .dataframe tbody tr th {\n",
       "        vertical-align: top;\n",
       "    }\n",
       "\n",
       "    .dataframe thead th {\n",
       "        text-align: right;\n",
       "    }\n",
       "</style>\n",
       "<table border=\"1\" class=\"dataframe\">\n",
       "  <thead>\n",
       "    <tr style=\"text-align: right;\">\n",
       "      <th></th>\n",
       "      <th>Content</th>\n",
       "      <th>Contents_Normalized</th>\n",
       "    </tr>\n",
       "  </thead>\n",
       "  <tbody>\n",
       "    <tr>\n",
       "      <th>0</th>\n",
       "      <td>Veteran lefty Sean Doolittle was transferred from the Nationals’ Double-A affiliate to their Tri...</td>\n",
       "      <td>[veteran, lefti, sean, doolittl, transfer, nation, doublea, affili, triplea, club, thursday, sig...</td>\n",
       "    </tr>\n",
       "    <tr>\n",
       "      <th>1</th>\n",
       "      <td>The Nationals have released right-hander Erasmo Ramírez, according to his transactions tracker a...</td>\n",
       "      <td>[nation, releas, righthand, erasmo, ram, rez, accord, transact, tracker, mlbcom, design, assign,...</td>\n",
       "    </tr>\n",
       "    <tr>\n",
       "      <th>2</th>\n",
       "      <td>With the trade deadline now less than two months away, we at MLBTR are setting our sights backwa...</td>\n",
       "      <td>[trade, deadlin, less, two, month, away, mlbtr, set, sight, backward, bit, highlight, past, trad...</td>\n",
       "    </tr>\n",
       "    <tr>\n",
       "      <th>3</th>\n",
       "      <td>The Nationals have claimed left-hander Joe La Sorsa off waivers from the Rays, the team announce...</td>\n",
       "      <td>[nation, claim, lefthand, joe, la, sorsa, waiver, ray, team, announc, thursday, la, sorsa, desig...</td>\n",
       "    </tr>\n",
       "    <tr>\n",
       "      <th>4</th>\n",
       "      <td>Nationals reliever Andrés Machado has gone unclaimed on waivers after being designated for assig...</td>\n",
       "      <td>[nation, reliev, andr, machado, gone, unclaim, waiver, design, assign, week, club, announc, mach...</td>\n",
       "    </tr>\n",
       "  </tbody>\n",
       "</table>\n",
       "</div>"
      ],
      "text/plain": [
       "                                                                                               Content  \\\n",
       "0  Veteran lefty Sean Doolittle was transferred from the Nationals’ Double-A affiliate to their Tri...   \n",
       "1  The Nationals have released right-hander Erasmo Ramírez, according to his transactions tracker a...   \n",
       "2  With the trade deadline now less than two months away, we at MLBTR are setting our sights backwa...   \n",
       "3  The Nationals have claimed left-hander Joe La Sorsa off waivers from the Rays, the team announce...   \n",
       "4  Nationals reliever Andrés Machado has gone unclaimed on waivers after being designated for assig...   \n",
       "\n",
       "                                                                                   Contents_Normalized  \n",
       "0  [veteran, lefti, sean, doolittl, transfer, nation, doublea, affili, triplea, club, thursday, sig...  \n",
       "1  [nation, releas, righthand, erasmo, ram, rez, accord, transact, tracker, mlbcom, design, assign,...  \n",
       "2  [trade, deadlin, less, two, month, away, mlbtr, set, sight, backward, bit, highlight, past, trad...  \n",
       "3  [nation, claim, lefthand, joe, la, sorsa, waiver, ray, team, announc, thursday, la, sorsa, desig...  \n",
       "4  [nation, reliev, andr, machado, gone, unclaim, waiver, design, assign, week, club, announc, mach...  "
      ]
     },
     "execution_count": 66,
     "metadata": {},
     "output_type": "execute_result"
    }
   ],
   "source": [
    "import re\n",
    "import string\n",
    "from nltk.tokenize import word_tokenize\n",
    "from nltk.corpus import stopwords\n",
    "from nltk.stem import PorterStemmer\n",
    "\n",
    "# Example function to normalize the text in the \"Contents\" column\n",
    "def normalize_text(text):\n",
    "    # Lowercase the text\n",
    "    text = text.lower()\n",
    "\n",
    "    # Remove punctuation\n",
    "    text = text.translate(str.maketrans(\"\", \"\", string.punctuation))\n",
    "\n",
    "    # Remove special characters and digits\n",
    "    text = re.sub(r\"[^a-zA-Z]\", \" \", text)\n",
    "\n",
    "    # Tokenize the text\n",
    "    tokens = word_tokenize(text)\n",
    "\n",
    "    # Remove stopwords\n",
    "    stop_words = set(stopwords.words(\"english\"))\n",
    "    tokens = [token for token in tokens if token not in stop_words]\n",
    "\n",
    "    # Perform stemming\n",
    "    stemmer = PorterStemmer()\n",
    "    tokens = [stemmer.stem(token) for token in tokens]\n",
    "\n",
    "    return tokens\n",
    "\n",
    "# Apply normalization to the \"Contents\" column\n",
    "merged_df[\"Contents_Normalized\"] = merged_df[\"Content\"].apply(normalize_text)\n",
    "\n",
    "# Print the head of the DataFrame with the normalized contents\n",
    "merged_df[[\"Content\", \"Contents_Normalized\"]].head()\n"
   ]
  },
  {
   "cell_type": "code",
   "execution_count": 67,
   "metadata": {},
   "outputs": [
    {
     "data": {
      "text/html": [
       "<div>\n",
       "<style scoped>\n",
       "    .dataframe tbody tr th:only-of-type {\n",
       "        vertical-align: middle;\n",
       "    }\n",
       "\n",
       "    .dataframe tbody tr th {\n",
       "        vertical-align: top;\n",
       "    }\n",
       "\n",
       "    .dataframe thead th {\n",
       "        text-align: right;\n",
       "    }\n",
       "</style>\n",
       "<table border=\"1\" class=\"dataframe\">\n",
       "  <thead>\n",
       "    <tr style=\"text-align: right;\">\n",
       "      <th></th>\n",
       "      <th>Title</th>\n",
       "      <th>Author</th>\n",
       "      <th>Date</th>\n",
       "      <th>Content</th>\n",
       "      <th>Year</th>\n",
       "      <th>success</th>\n",
       "      <th>Year_Successful</th>\n",
       "      <th>impurity</th>\n",
       "      <th>Contents_Normalized</th>\n",
       "      <th>length</th>\n",
       "    </tr>\n",
       "  </thead>\n",
       "  <tbody>\n",
       "    <tr>\n",
       "      <th>0</th>\n",
       "      <td>Sean Doolittle Completes Rehab Assignment, Heads To Triple-A Rochester</td>\n",
       "      <td>Steve Adams</td>\n",
       "      <td>2023-06-15</td>\n",
       "      <td>Veteran lefty Sean Doolittle was transferred from the Nationals’ Double-A affiliate to their Tri...</td>\n",
       "      <td>2023</td>\n",
       "      <td>0</td>\n",
       "      <td>0</td>\n",
       "      <td>0.000000</td>\n",
       "      <td>[veteran, lefti, sean, doolittl, transfer, nation, doublea, affili, triplea, club, thursday, sig...</td>\n",
       "      <td>60</td>\n",
       "    </tr>\n",
       "    <tr>\n",
       "      <th>1</th>\n",
       "      <td>Nationals Release Erasmo Ramírez</td>\n",
       "      <td>Darragh McDonald</td>\n",
       "      <td>2023-06-09</td>\n",
       "      <td>The Nationals have released right-hander Erasmo Ramírez, according to his transactions tracker a...</td>\n",
       "      <td>2023</td>\n",
       "      <td>0</td>\n",
       "      <td>0</td>\n",
       "      <td>0.000000</td>\n",
       "      <td>[nation, releas, righthand, erasmo, ram, rez, accord, transact, tracker, mlbcom, design, assign,...</td>\n",
       "      <td>130</td>\n",
       "    </tr>\n",
       "    <tr>\n",
       "      <th>2</th>\n",
       "      <td>Best Deadline Rental Returns In Recent History, #8: Nationals Get Everyday Outfielder For Jon Le...</td>\n",
       "      <td>Darragh McDonald</td>\n",
       "      <td>2023-06-08</td>\n",
       "      <td>With the trade deadline now less than two months away, we at MLBTR are setting our sights backwa...</td>\n",
       "      <td>2023</td>\n",
       "      <td>0</td>\n",
       "      <td>0</td>\n",
       "      <td>0.000441</td>\n",
       "      <td>[trade, deadlin, less, two, month, away, mlbtr, set, sight, backward, bit, highlight, past, trad...</td>\n",
       "      <td>607</td>\n",
       "    </tr>\n",
       "    <tr>\n",
       "      <th>3</th>\n",
       "      <td>Nationals Claim Joe La Sorsa</td>\n",
       "      <td>Steve Adams</td>\n",
       "      <td>2023-06-08</td>\n",
       "      <td>The Nationals have claimed left-hander Joe La Sorsa off waivers from the Rays, the team announce...</td>\n",
       "      <td>2023</td>\n",
       "      <td>0</td>\n",
       "      <td>0</td>\n",
       "      <td>0.000000</td>\n",
       "      <td>[nation, claim, lefthand, joe, la, sorsa, waiver, ray, team, announc, thursday, la, sorsa, desig...</td>\n",
       "      <td>158</td>\n",
       "    </tr>\n",
       "    <tr>\n",
       "      <th>4</th>\n",
       "      <td>Nationals Outright Andres Machado</td>\n",
       "      <td>Anthony Franco</td>\n",
       "      <td>2023-06-07</td>\n",
       "      <td>Nationals reliever Andrés Machado has gone unclaimed on waivers after being designated for assig...</td>\n",
       "      <td>2023</td>\n",
       "      <td>0</td>\n",
       "      <td>0</td>\n",
       "      <td>0.000000</td>\n",
       "      <td>[nation, reliev, andr, machado, gone, unclaim, waiver, design, assign, week, club, announc, mach...</td>\n",
       "      <td>136</td>\n",
       "    </tr>\n",
       "  </tbody>\n",
       "</table>\n",
       "</div>"
      ],
      "text/plain": [
       "                                                                                                 Title  \\\n",
       "0                               Sean Doolittle Completes Rehab Assignment, Heads To Triple-A Rochester   \n",
       "1                                                                     Nationals Release Erasmo Ramírez   \n",
       "2  Best Deadline Rental Returns In Recent History, #8: Nationals Get Everyday Outfielder For Jon Le...   \n",
       "3                                                                         Nationals Claim Joe La Sorsa   \n",
       "4                                                                    Nationals Outright Andres Machado   \n",
       "\n",
       "             Author       Date  \\\n",
       "0       Steve Adams 2023-06-15   \n",
       "1  Darragh McDonald 2023-06-09   \n",
       "2  Darragh McDonald 2023-06-08   \n",
       "3       Steve Adams 2023-06-08   \n",
       "4    Anthony Franco 2023-06-07   \n",
       "\n",
       "                                                                                               Content  \\\n",
       "0  Veteran lefty Sean Doolittle was transferred from the Nationals’ Double-A affiliate to their Tri...   \n",
       "1  The Nationals have released right-hander Erasmo Ramírez, according to his transactions tracker a...   \n",
       "2  With the trade deadline now less than two months away, we at MLBTR are setting our sights backwa...   \n",
       "3  The Nationals have claimed left-hander Joe La Sorsa off waivers from the Rays, the team announce...   \n",
       "4  Nationals reliever Andrés Machado has gone unclaimed on waivers after being designated for assig...   \n",
       "\n",
       "   Year  success  Year_Successful  impurity  \\\n",
       "0  2023        0                0  0.000000   \n",
       "1  2023        0                0  0.000000   \n",
       "2  2023        0                0  0.000441   \n",
       "3  2023        0                0  0.000000   \n",
       "4  2023        0                0  0.000000   \n",
       "\n",
       "                                                                                   Contents_Normalized  \\\n",
       "0  [veteran, lefti, sean, doolittl, transfer, nation, doublea, affili, triplea, club, thursday, sig...   \n",
       "1  [nation, releas, righthand, erasmo, ram, rez, accord, transact, tracker, mlbcom, design, assign,...   \n",
       "2  [trade, deadlin, less, two, month, away, mlbtr, set, sight, backward, bit, highlight, past, trad...   \n",
       "3  [nation, claim, lefthand, joe, la, sorsa, waiver, ray, team, announc, thursday, la, sorsa, desig...   \n",
       "4  [nation, reliev, andr, machado, gone, unclaim, waiver, design, assign, week, club, announc, mach...   \n",
       "\n",
       "   length  \n",
       "0      60  \n",
       "1     130  \n",
       "2     607  \n",
       "3     158  \n",
       "4     136  "
      ]
     },
     "execution_count": 67,
     "metadata": {},
     "output_type": "execute_result"
    }
   ],
   "source": [
    "merged_df['length'] = merged_df['Contents_Normalized'].str.len()\n",
    "merged_df.head()"
   ]
  },
  {
   "attachments": {},
   "cell_type": "markdown",
   "metadata": {},
   "source": [
    "## Look at descriptive stats for text in dataframe"
   ]
  },
  {
   "cell_type": "code",
   "execution_count": 68,
   "metadata": {},
   "outputs": [
    {
     "data": {
      "text/plain": [
       "<AxesSubplot:>"
      ]
     },
     "execution_count": 68,
     "metadata": {},
     "output_type": "execute_result"
    },
    {
     "data": {
      "image/png": "[encoded data removed]",
      "text/plain": [
       "<Figure size 576x72 with 1 Axes>"
      ]
     },
     "metadata": {
      "needs_background": "light"
     },
     "output_type": "display_data"
    }
   ],
   "source": [
    "merged_df['length'].plot(kind='box', vert=False, figsize=(8, 1))"
   ]
  },
  {
   "cell_type": "code",
   "execution_count": 70,
   "metadata": {},
   "outputs": [
    {
     "data": {
      "text/plain": [
       "<AxesSubplot:>"
      ]
     },
     "execution_count": 70,
     "metadata": {},
     "output_type": "execute_result"
    },
    {
     "data": {
      "image/png": "[encoded data removed]",
      "text/plain": [
       "<Figure size 576x72 with 1 Axes>"
      ]
     },
     "metadata": {
      "needs_background": "light"
     },
     "output_type": "display_data"
    }
   ],
   "source": [
    "merged_df['Title_length'] = merged_df['Title'].str.len()\n",
    "merged_df['Title_length'].plot(kind='box', vert=False, figsize=(8, 1))"
   ]
  },
  {
   "cell_type": "code",
   "execution_count": 71,
   "metadata": {},
   "outputs": [
    {
     "data": {
      "text/plain": [
       "<AxesSubplot:ylabel='Frequency'>"
      ]
     },
     "execution_count": 71,
     "metadata": {},
     "output_type": "execute_result"
    },
    {
     "data": {
      "image/png": "[encoded data removed]",
      "text/plain": [
       "<Figure size 576x144 with 1 Axes>"
      ]
     },
     "metadata": {
      "needs_background": "light"
     },
     "output_type": "display_data"
    }
   ],
   "source": [
    "merged_df['length'].plot(kind='hist', bins=30, figsize=(8,2))"
   ]
  },
  {
   "cell_type": "code",
   "execution_count": 72,
   "metadata": {},
   "outputs": [
    {
     "data": {
      "text/plain": [
       "<AxesSubplot:title={'center':'Avg. Post Length'}, xlabel='Month'>"
      ]
     },
     "execution_count": 72,
     "metadata": {},
     "output_type": "execute_result"
    },
    {
     "data": {
      "image/png": "[encoded data removed]",
      "text/plain": [
       "<Figure size 432x144 with 1 Axes>"
      ]
     },
     "metadata": {
      "needs_background": "light"
     },
     "output_type": "display_data"
    }
   ],
   "source": [
    "# Extract the month from the date and create a new column\n",
    "merged_df['Month'] = merged_df['Date'].dt.month\n",
    "\n",
    "# Plot the average post length\n",
    "merged_df.groupby('Month').agg({'length': 'mean'}) \\\n",
    "  .plot(title=\"Avg. Post Length\", ylim=(0,500), figsize=(6,2))\n"
   ]
  },
  {
   "cell_type": "code",
   "execution_count": 73,
   "metadata": {},
   "outputs": [],
   "source": [
    "def count_words(df, column='Contents_Normalized', preprocess=None, min_freq=2):\n",
    "\n",
    "    # process tokens and update counter\n",
    "    def update(doc):\n",
    "        tokens = doc if preprocess is None else preprocess(doc)\n",
    "        counter.update(tokens)\n",
    "\n",
    "    # create counter and run through all data\n",
    "    counter = Counter()\n",
    "    tqdm.pandas() #initialize tqdm for progress bar\n",
    "    df[column].apply(update)\n",
    "\n",
    "    # transform counter into data frame\n",
    "    freq_df = pd.DataFrame.from_dict(counter, orient='index', columns=['freq'])\n",
    "    freq_df = freq_df.query('freq >= @min_freq')\n",
    "    freq_df.index.name = 'token'\n",
    "    \n",
    "    return freq_df.sort_values('freq', ascending=False)"
   ]
  },
  {
   "cell_type": "code",
   "execution_count": 74,
   "metadata": {},
   "outputs": [
    {
     "data": {
      "text/html": [
       "<div>\n",
       "<style scoped>\n",
       "    .dataframe tbody tr th:only-of-type {\n",
       "        vertical-align: middle;\n",
       "    }\n",
       "\n",
       "    .dataframe tbody tr th {\n",
       "        vertical-align: top;\n",
       "    }\n",
       "\n",
       "    .dataframe thead th {\n",
       "        text-align: right;\n",
       "    }\n",
       "</style>\n",
       "<table border=\"1\" class=\"dataframe\">\n",
       "  <thead>\n",
       "    <tr style=\"text-align: right;\">\n",
       "      <th></th>\n",
       "      <th>freq</th>\n",
       "    </tr>\n",
       "    <tr>\n",
       "      <th>token</th>\n",
       "      <th></th>\n",
       "    </tr>\n",
       "  </thead>\n",
       "  <tbody>\n",
       "    <tr>\n",
       "      <th>season</th>\n",
       "      <td>3102</td>\n",
       "    </tr>\n",
       "    <tr>\n",
       "      <th>nation</th>\n",
       "      <td>2758</td>\n",
       "    </tr>\n",
       "    <tr>\n",
       "      <th>year</th>\n",
       "      <td>2411</td>\n",
       "    </tr>\n",
       "    <tr>\n",
       "      <th>leagu</th>\n",
       "      <td>1804</td>\n",
       "    </tr>\n",
       "    <tr>\n",
       "      <th>nat</th>\n",
       "      <td>1609</td>\n",
       "    </tr>\n",
       "  </tbody>\n",
       "</table>\n",
       "</div>"
      ],
      "text/plain": [
       "        freq\n",
       "token       \n",
       "season  3102\n",
       "nation  2758\n",
       "year    2411\n",
       "leagu   1804\n",
       "nat     1609"
      ]
     },
     "execution_count": 74,
     "metadata": {},
     "output_type": "execute_result"
    }
   ],
   "source": [
    "freq_df = count_words(merged_df)\n",
    "freq_df.head(5)"
   ]
  },
  {
   "cell_type": "code",
   "execution_count": 75,
   "metadata": {},
   "outputs": [
    {
     "data": {
      "text/plain": [
       "6440"
      ]
     },
     "execution_count": 75,
     "metadata": {},
     "output_type": "execute_result"
    }
   ],
   "source": [
    "#How many tokens are in the df?\n",
    "len(freq_df)"
   ]
  },
  {
   "cell_type": "code",
   "execution_count": 77,
   "metadata": {},
   "outputs": [
    {
     "data": {
      "text/html": [
       "<div>\n",
       "<style scoped>\n",
       "    .dataframe tbody tr th:only-of-type {\n",
       "        vertical-align: middle;\n",
       "    }\n",
       "\n",
       "    .dataframe tbody tr th {\n",
       "        vertical-align: top;\n",
       "    }\n",
       "\n",
       "    .dataframe thead th {\n",
       "        text-align: right;\n",
       "    }\n",
       "</style>\n",
       "<table border=\"1\" class=\"dataframe\">\n",
       "  <thead>\n",
       "    <tr style=\"text-align: right;\">\n",
       "      <th></th>\n",
       "      <th>freq</th>\n",
       "    </tr>\n",
       "    <tr>\n",
       "      <th>token</th>\n",
       "      <th></th>\n",
       "    </tr>\n",
       "  </thead>\n",
       "  <tbody>\n",
       "    <tr>\n",
       "      <th>Washington</th>\n",
       "      <td>1259</td>\n",
       "    </tr>\n",
       "    <tr>\n",
       "      <th>appearances</th>\n",
       "      <td>618</td>\n",
       "    </tr>\n",
       "    <tr>\n",
       "      <th>organization</th>\n",
       "      <td>384</td>\n",
       "    </tr>\n",
       "    <tr>\n",
       "      <th>outfielder</th>\n",
       "      <td>258</td>\n",
       "    </tr>\n",
       "    <tr>\n",
       "      <th>arbitration</th>\n",
       "      <td>254</td>\n",
       "    </tr>\n",
       "  </tbody>\n",
       "</table>\n",
       "</div>"
      ],
      "text/plain": [
       "              freq\n",
       "token             \n",
       "Washington    1259\n",
       "appearances    618\n",
       "organization   384\n",
       "outfielder     258\n",
       "arbitration    254"
      ]
     },
     "execution_count": 77,
     "metadata": {},
     "output_type": "execute_result"
    }
   ],
   "source": [
    "# top words with 10+ characters\n",
    "count_words(merged_df, column='Content', \n",
    "            preprocess=lambda Content: re.findall(r\"\\w{10,}\", Content)).head(5)\n",
    "\n"
   ]
  },
  {
   "cell_type": "code",
   "execution_count": 78,
   "metadata": {},
   "outputs": [
    {
     "data": {
      "text/plain": [
       "[Text(0.5, 0, 'Frequency'), Text(0, 0.5, 'Token'), Text(0.5, 1.0, 'Top Words')]"
      ]
     },
     "execution_count": 78,
     "metadata": {},
     "output_type": "execute_result"
    },
    {
     "data": {
      "image/png": "[encoded data removed]",
      "text/plain": [
       "<Figure size 576x216 with 1 Axes>"
      ]
     },
     "metadata": {
      "needs_background": "light"
     },
     "output_type": "display_data"
    }
   ],
   "source": [
    "ax = freq_df.head(15).plot(kind='barh', width=0.95, figsize=(8,3))\n",
    "ax.invert_yaxis()\n",
    "ax.set(xlabel='Frequency', ylabel='Token', title='Top Words')"
   ]
  },
  {
   "attachments": {},
   "cell_type": "markdown",
   "metadata": {},
   "source": [
    "# San Diego Padres Data Collection and Cleaning"
   ]
  },
  {
   "cell_type": "code",
   "execution_count": 106,
   "metadata": {},
   "outputs": [
    {
     "data": {
      "text/html": [
       "<div>\n",
       "<style scoped>\n",
       "    .dataframe tbody tr th:only-of-type {\n",
       "        vertical-align: middle;\n",
       "    }\n",
       "\n",
       "    .dataframe tbody tr th {\n",
       "        vertical-align: top;\n",
       "    }\n",
       "\n",
       "    .dataframe thead th {\n",
       "        text-align: right;\n",
       "    }\n",
       "</style>\n",
       "<table border=\"1\" class=\"dataframe\">\n",
       "  <thead>\n",
       "    <tr style=\"text-align: right;\">\n",
       "      <th></th>\n",
       "      <th>Title</th>\n",
       "      <th>Author</th>\n",
       "      <th>Date</th>\n",
       "      <th>Content</th>\n",
       "    </tr>\n",
       "  </thead>\n",
       "  <tbody>\n",
       "    <tr>\n",
       "      <th>0</th>\n",
       "      <td>Jose Iglesias Opts Out Of Contract With Padres</td>\n",
       "      <td>Anthony Franco</td>\n",
       "      <td>June 19, 2023</td>\n",
       "      <td>Veteran infielder José Iglesias has opted out of his minor league deal with the Padres, reports ...</td>\n",
       "    </tr>\n",
       "    <tr>\n",
       "      <th>1</th>\n",
       "      <td>Seth Lugo To Return Tuesday</td>\n",
       "      <td>Nick Deeds</td>\n",
       "      <td>June 18, 2023</td>\n",
       "      <td>The Padres expect to welcome right-hander Seth Lugo back into the fold on Tuesday, when he figur...</td>\n",
       "    </tr>\n",
       "    <tr>\n",
       "      <th>2</th>\n",
       "      <td>Padres Select Preston Tucker</td>\n",
       "      <td>Nick Deeds</td>\n",
       "      <td>June 18, 2023</td>\n",
       "      <td>In a somewhat unusual move, the Padres have selected the contract of outfielder Preston Tucker b...</td>\n",
       "    </tr>\n",
       "    <tr>\n",
       "      <th>3</th>\n",
       "      <td>Juan Soto Has Found His Stride After Slow Start</td>\n",
       "      <td>Anthony Franco</td>\n",
       "      <td>June 13, 2023</td>\n",
       "      <td>Early in the year, there was a decent amount of trepidation about Juan Soto. The Padres supersta...</td>\n",
       "    </tr>\n",
       "    <tr>\n",
       "      <th>4</th>\n",
       "      <td>Jack Baldschun Passes Away</td>\n",
       "      <td>Anthony Franco</td>\n",
       "      <td>June 9, 2023</td>\n",
       "      <td>Former big league reliever Jack Baldschun passed away this week after a battle with leukemia, ac...</td>\n",
       "    </tr>\n",
       "  </tbody>\n",
       "</table>\n",
       "</div>"
      ],
      "text/plain": [
       "                                             Title          Author  \\\n",
       "0   Jose Iglesias Opts Out Of Contract With Padres  Anthony Franco   \n",
       "1                      Seth Lugo To Return Tuesday      Nick Deeds   \n",
       "2                     Padres Select Preston Tucker      Nick Deeds   \n",
       "3  Juan Soto Has Found His Stride After Slow Start  Anthony Franco   \n",
       "4                       Jack Baldschun Passes Away  Anthony Franco   \n",
       "\n",
       "            Date  \\\n",
       "0  June 19, 2023   \n",
       "1  June 18, 2023   \n",
       "2  June 18, 2023   \n",
       "3  June 13, 2023   \n",
       "4   June 9, 2023   \n",
       "\n",
       "                                                                                               Content  \n",
       "0  Veteran infielder José Iglesias has opted out of his minor league deal with the Padres, reports ...  \n",
       "1  The Padres expect to welcome right-hander Seth Lugo back into the fold on Tuesday, when he figur...  \n",
       "2  In a somewhat unusual move, the Padres have selected the contract of outfielder Preston Tucker b...  \n",
       "3  Early in the year, there was a decent amount of trepidation about Juan Soto. The Padres supersta...  \n",
       "4  Former big league reliever Jack Baldschun passed away this week after a battle with leukemia, ac...  "
      ]
     },
     "execution_count": 106,
     "metadata": {},
     "output_type": "execute_result"
    }
   ],
   "source": [
    "# URL of the website to scrape\n",
    "url = \"https://www.mlbtraderumors.com/san-diego-padres?show=all\"\n",
    "file_path = \"C:/Users/earne/OneDrive - University of San Diego/MSADS/ADS-509/Project/data/mlbtraderumors_padres_articles1.txt\"\n",
    "\n",
    "# Scrape the website, write the scraped text to a file, and get the head of the DataFrame\n",
    "sd_df = scrape_website(url, file_path)\n",
    "sd_df.head()"
   ]
  },
  {
   "cell_type": "code",
   "execution_count": 107,
   "metadata": {},
   "outputs": [],
   "source": [
    "#change the Date column to a datetime object:\n",
    "sd_df['Date'] = pd.to_datetime(sd_df['Date'], format=\"%B %d, %Y\", errors= 'coerce')"
   ]
  },
  {
   "cell_type": "code",
   "execution_count": 108,
   "metadata": {},
   "outputs": [
    {
     "data": {
      "text/plain": [
       "Title              object\n",
       "Author             object\n",
       "Date       datetime64[ns]\n",
       "Content            object\n",
       "dtype: object"
      ]
     },
     "execution_count": 108,
     "metadata": {},
     "output_type": "execute_result"
    }
   ],
   "source": [
    "sd_df.dtypes"
   ]
  },
  {
   "cell_type": "code",
   "execution_count": 109,
   "metadata": {},
   "outputs": [
    {
     "data": {
      "text/plain": [
       "Title       0\n",
       "Author      0\n",
       "Date       30\n",
       "Content     0\n",
       "dtype: int64"
      ]
     },
     "execution_count": 109,
     "metadata": {},
     "output_type": "execute_result"
    }
   ],
   "source": [
    "# Check for missing values\n",
    "sd_df.isna().sum()"
   ]
  },
  {
   "cell_type": "code",
   "execution_count": 110,
   "metadata": {},
   "outputs": [
    {
     "data": {
      "text/plain": [
       "1030"
      ]
     },
     "execution_count": 110,
     "metadata": {},
     "output_type": "execute_result"
    }
   ],
   "source": [
    "len(sd_df)"
   ]
  },
  {
   "cell_type": "code",
   "execution_count": 111,
   "metadata": {},
   "outputs": [
    {
     "data": {
      "text/html": [
       "<div>\n",
       "<style scoped>\n",
       "    .dataframe tbody tr th:only-of-type {\n",
       "        vertical-align: middle;\n",
       "    }\n",
       "\n",
       "    .dataframe tbody tr th {\n",
       "        vertical-align: top;\n",
       "    }\n",
       "\n",
       "    .dataframe thead th {\n",
       "        text-align: right;\n",
       "    }\n",
       "</style>\n",
       "<table border=\"1\" class=\"dataframe\">\n",
       "  <thead>\n",
       "    <tr style=\"text-align: right;\">\n",
       "      <th></th>\n",
       "      <th>Title</th>\n",
       "      <th>Author</th>\n",
       "      <th>Date</th>\n",
       "      <th>Content</th>\n",
       "    </tr>\n",
       "  </thead>\n",
       "  <tbody>\n",
       "    <tr>\n",
       "      <th>0</th>\n",
       "      <td>Jose Iglesias Opts Out Of Contract With Padres</td>\n",
       "      <td>Anthony Franco</td>\n",
       "      <td>2023-06-19</td>\n",
       "      <td>Veteran infielder José Iglesias has opted out of his minor league deal with the Padres, reports ...</td>\n",
       "    </tr>\n",
       "    <tr>\n",
       "      <th>1</th>\n",
       "      <td>Seth Lugo To Return Tuesday</td>\n",
       "      <td>Nick Deeds</td>\n",
       "      <td>2023-06-18</td>\n",
       "      <td>The Padres expect to welcome right-hander Seth Lugo back into the fold on Tuesday, when he figur...</td>\n",
       "    </tr>\n",
       "    <tr>\n",
       "      <th>2</th>\n",
       "      <td>Padres Select Preston Tucker</td>\n",
       "      <td>Nick Deeds</td>\n",
       "      <td>2023-06-18</td>\n",
       "      <td>In a somewhat unusual move, the Padres have selected the contract of outfielder Preston Tucker b...</td>\n",
       "    </tr>\n",
       "    <tr>\n",
       "      <th>3</th>\n",
       "      <td>Juan Soto Has Found His Stride After Slow Start</td>\n",
       "      <td>Anthony Franco</td>\n",
       "      <td>2023-06-13</td>\n",
       "      <td>Early in the year, there was a decent amount of trepidation about Juan Soto. The Padres supersta...</td>\n",
       "    </tr>\n",
       "    <tr>\n",
       "      <th>4</th>\n",
       "      <td>Jack Baldschun Passes Away</td>\n",
       "      <td>Anthony Franco</td>\n",
       "      <td>2023-06-09</td>\n",
       "      <td>Former big league reliever Jack Baldschun passed away this week after a battle with leukemia, ac...</td>\n",
       "    </tr>\n",
       "    <tr>\n",
       "      <th>...</th>\n",
       "      <td>...</td>\n",
       "      <td>...</td>\n",
       "      <td>...</td>\n",
       "      <td>...</td>\n",
       "    </tr>\n",
       "    <tr>\n",
       "      <th>995</th>\n",
       "      <td>Latest On Cordero, Richards, Nix</td>\n",
       "      <td>Mark Polishuk</td>\n",
       "      <td>2019-09-07</td>\n",
       "      <td>Franchy Cordero has suffered another setback while rehabbing a quad injury, Jeff Sanders of the ...</td>\n",
       "    </tr>\n",
       "    <tr>\n",
       "      <th>996</th>\n",
       "      <td>Adrian Morejon Will Not Return To Majors This Year</td>\n",
       "      <td>Jeff Todd</td>\n",
       "      <td>2019-09-04</td>\n",
       "      <td>Padres southpaw Adrian Morejon will not make it back to the bigs in 2019, Dennis Lin of The Athl...</td>\n",
       "    </tr>\n",
       "    <tr>\n",
       "      <th>997</th>\n",
       "      <td>Padres Select Seth Mejias-Brean</td>\n",
       "      <td>Steve Adams</td>\n",
       "      <td>2019-09-03</td>\n",
       "      <td>The Padres announced prior to tonight’s game that they’ve selected the contract of infielder Set...</td>\n",
       "    </tr>\n",
       "    <tr>\n",
       "      <th>998</th>\n",
       "      <td>Padres Select Ronald Bolanos</td>\n",
       "      <td>Steve Adams</td>\n",
       "      <td>2019-09-02</td>\n",
       "      <td>The Padres announced Monday that they’ve selected the contract of right-hander Ronald Bolanos fr...</td>\n",
       "    </tr>\n",
       "    <tr>\n",
       "      <th>999</th>\n",
       "      <td>Notable September Callups</td>\n",
       "      <td>Anthony Franco</td>\n",
       "      <td>2019-09-01</td>\n",
       "      <td>We’ll track the flurry of notable callups as roster expand on September 1.\\nLatest Moves\\n\\nThe ...</td>\n",
       "    </tr>\n",
       "  </tbody>\n",
       "</table>\n",
       "<p>1000 rows × 4 columns</p>\n",
       "</div>"
      ],
      "text/plain": [
       "                                                  Title          Author  \\\n",
       "0        Jose Iglesias Opts Out Of Contract With Padres  Anthony Franco   \n",
       "1                           Seth Lugo To Return Tuesday      Nick Deeds   \n",
       "2                          Padres Select Preston Tucker      Nick Deeds   \n",
       "3       Juan Soto Has Found His Stride After Slow Start  Anthony Franco   \n",
       "4                            Jack Baldschun Passes Away  Anthony Franco   \n",
       "..                                                  ...             ...   \n",
       "995                    Latest On Cordero, Richards, Nix   Mark Polishuk   \n",
       "996  Adrian Morejon Will Not Return To Majors This Year       Jeff Todd   \n",
       "997                     Padres Select Seth Mejias-Brean     Steve Adams   \n",
       "998                        Padres Select Ronald Bolanos     Steve Adams   \n",
       "999                           Notable September Callups  Anthony Franco   \n",
       "\n",
       "          Date  \\\n",
       "0   2023-06-19   \n",
       "1   2023-06-18   \n",
       "2   2023-06-18   \n",
       "3   2023-06-13   \n",
       "4   2023-06-09   \n",
       "..         ...   \n",
       "995 2019-09-07   \n",
       "996 2019-09-04   \n",
       "997 2019-09-03   \n",
       "998 2019-09-02   \n",
       "999 2019-09-01   \n",
       "\n",
       "                                                                                                 Content  \n",
       "0    Veteran infielder José Iglesias has opted out of his minor league deal with the Padres, reports ...  \n",
       "1    The Padres expect to welcome right-hander Seth Lugo back into the fold on Tuesday, when he figur...  \n",
       "2    In a somewhat unusual move, the Padres have selected the contract of outfielder Preston Tucker b...  \n",
       "3    Early in the year, there was a decent amount of trepidation about Juan Soto. The Padres supersta...  \n",
       "4    Former big league reliever Jack Baldschun passed away this week after a battle with leukemia, ac...  \n",
       "..                                                                                                   ...  \n",
       "995  Franchy Cordero has suffered another setback while rehabbing a quad injury, Jeff Sanders of the ...  \n",
       "996  Padres southpaw Adrian Morejon will not make it back to the bigs in 2019, Dennis Lin of The Athl...  \n",
       "997  The Padres announced prior to tonight’s game that they’ve selected the contract of infielder Set...  \n",
       "998  The Padres announced Monday that they’ve selected the contract of right-hander Ronald Bolanos fr...  \n",
       "999  We’ll track the flurry of notable callups as roster expand on September 1.\\nLatest Moves\\n\\nThe ...  \n",
       "\n",
       "[1000 rows x 4 columns]"
      ]
     },
     "execution_count": 111,
     "metadata": {},
     "output_type": "execute_result"
    }
   ],
   "source": [
    "sd_df = sd_df.dropna()\n",
    "sd_df"
   ]
  },
  {
   "cell_type": "code",
   "execution_count": 112,
   "metadata": {},
   "outputs": [
    {
     "data": {
      "text/plain": [
       "1000"
      ]
     },
     "execution_count": 112,
     "metadata": {},
     "output_type": "execute_result"
    }
   ],
   "source": [
    "len(sd_df)"
   ]
  },
  {
   "attachments": {},
   "cell_type": "markdown",
   "metadata": {},
   "source": [
    "## Import data on the San Diego Padres from baseball-reference.com\n",
    "\n",
    "https://www.baseball-reference.com/teams/SDP/attend.shtml"
   ]
  },
  {
   "cell_type": "code",
   "execution_count": 90,
   "metadata": {},
   "outputs": [
    {
     "name": "stdout",
     "output_type": "stream",
     "text": [
      "Data saved to C:/Users/earne/OneDrive - University of San Diego/MSADS/ADS-509/Project/data/sdp_attendance_data.csv\n"
     ]
    }
   ],
   "source": [
    "import pandas as pd\n",
    "\n",
    "# URL of the webpage to scrape\n",
    "url = \"https://www.baseball-reference.com/teams/SDP/attend.shtml\"\n",
    "\n",
    "# Read the HTML table into a list of DataFrames\n",
    "tables = pd.read_html(url)\n",
    "\n",
    "# Select the table of interest (index 0 in this case)\n",
    "table = tables[0]\n",
    "\n",
    "# Save the DataFrame as a CSV file\n",
    "file_path = \"C:/Users/earne/OneDrive - University of San Diego/MSADS/ADS-509/Project/data/sdp_attendance_data.csv\"\n",
    "table.to_csv(file_path, index=False, header=True)\n",
    "\n",
    "print(\"Data saved to\", file_path)\n",
    "\n",
    "\n"
   ]
  },
  {
   "cell_type": "code",
   "execution_count": 91,
   "metadata": {},
   "outputs": [
    {
     "data": {
      "text/html": [
       "<div>\n",
       "<style scoped>\n",
       "    .dataframe tbody tr th:only-of-type {\n",
       "        vertical-align: middle;\n",
       "    }\n",
       "\n",
       "    .dataframe tbody tr th {\n",
       "        vertical-align: top;\n",
       "    }\n",
       "\n",
       "    .dataframe thead th {\n",
       "        text-align: right;\n",
       "    }\n",
       "</style>\n",
       "<table border=\"1\" class=\"dataframe\">\n",
       "  <thead>\n",
       "    <tr style=\"text-align: right;\">\n",
       "      <th></th>\n",
       "      <th>Year</th>\n",
       "      <th>Tm</th>\n",
       "      <th>Lg</th>\n",
       "      <th>W</th>\n",
       "      <th>L</th>\n",
       "      <th>Finish</th>\n",
       "      <th>Playoffs</th>\n",
       "      <th>Attendance</th>\n",
       "      <th>Attend/G</th>\n",
       "      <th>Rank</th>\n",
       "      <th>Est. Payroll</th>\n",
       "      <th>PPF</th>\n",
       "      <th>BPF</th>\n",
       "      <th>Stadium</th>\n",
       "    </tr>\n",
       "  </thead>\n",
       "  <tbody>\n",
       "    <tr>\n",
       "      <th>0</th>\n",
       "      <td>2023</td>\n",
       "      <td>San Diego Padres</td>\n",
       "      <td>NL West</td>\n",
       "      <td>35</td>\n",
       "      <td>37</td>\n",
       "      <td>4</td>\n",
       "      <td>NaN</td>\n",
       "      <td>1549480.0</td>\n",
       "      <td>39730.0</td>\n",
       "      <td>2nd of 15</td>\n",
       "      <td>$234,100,139</td>\n",
       "      <td>93</td>\n",
       "      <td>93</td>\n",
       "      <td>Petco Park</td>\n",
       "    </tr>\n",
       "    <tr>\n",
       "      <th>1</th>\n",
       "      <td>2022</td>\n",
       "      <td>San Diego Padres</td>\n",
       "      <td>NL West</td>\n",
       "      <td>89</td>\n",
       "      <td>73</td>\n",
       "      <td>2</td>\n",
       "      <td>Lost NLCS (4-1)</td>\n",
       "      <td>2987470.0</td>\n",
       "      <td>36882.0</td>\n",
       "      <td>4th of 15</td>\n",
       "      <td>$173,600,824</td>\n",
       "      <td>93</td>\n",
       "      <td>93</td>\n",
       "      <td>Petco Park</td>\n",
       "    </tr>\n",
       "    <tr>\n",
       "      <th>2</th>\n",
       "      <td>2021</td>\n",
       "      <td>San Diego Padres</td>\n",
       "      <td>NL West</td>\n",
       "      <td>79</td>\n",
       "      <td>83</td>\n",
       "      <td>3</td>\n",
       "      <td>NaN</td>\n",
       "      <td>2191950.0</td>\n",
       "      <td>27061.0</td>\n",
       "      <td>3rd of 15</td>\n",
       "      <td>$151,984,286</td>\n",
       "      <td>92</td>\n",
       "      <td>92</td>\n",
       "      <td>Petco Park</td>\n",
       "    </tr>\n",
       "    <tr>\n",
       "      <th>3</th>\n",
       "      <td>2020</td>\n",
       "      <td>San Diego Padres</td>\n",
       "      <td>NL West</td>\n",
       "      <td>37</td>\n",
       "      <td>23</td>\n",
       "      <td>2</td>\n",
       "      <td>Lost NLDS (3-0)</td>\n",
       "      <td>NaN</td>\n",
       "      <td>NaN</td>\n",
       "      <td>12th of 15</td>\n",
       "      <td>$141,953,667</td>\n",
       "      <td>93</td>\n",
       "      <td>93</td>\n",
       "      <td>Petco Park</td>\n",
       "    </tr>\n",
       "    <tr>\n",
       "      <th>4</th>\n",
       "      <td>2019</td>\n",
       "      <td>San Diego Padres</td>\n",
       "      <td>NL West</td>\n",
       "      <td>70</td>\n",
       "      <td>92</td>\n",
       "      <td>5</td>\n",
       "      <td>NaN</td>\n",
       "      <td>2396399.0</td>\n",
       "      <td>29585.0</td>\n",
       "      <td>10th of 15</td>\n",
       "      <td>$90,260,767</td>\n",
       "      <td>95</td>\n",
       "      <td>94</td>\n",
       "      <td>Petco Park</td>\n",
       "    </tr>\n",
       "  </tbody>\n",
       "</table>\n",
       "</div>"
      ],
      "text/plain": [
       "   Year                Tm       Lg   W   L  Finish         Playoffs  \\\n",
       "0  2023  San Diego Padres  NL West  35  37       4              NaN   \n",
       "1  2022  San Diego Padres  NL West  89  73       2  Lost NLCS (4-1)   \n",
       "2  2021  San Diego Padres  NL West  79  83       3              NaN   \n",
       "3  2020  San Diego Padres  NL West  37  23       2  Lost NLDS (3-0)   \n",
       "4  2019  San Diego Padres  NL West  70  92       5              NaN   \n",
       "\n",
       "   Attendance  Attend/G        Rank  Est. Payroll  PPF  BPF     Stadium  \n",
       "0   1549480.0   39730.0   2nd of 15  $234,100,139   93   93  Petco Park  \n",
       "1   2987470.0   36882.0   4th of 15  $173,600,824   93   93  Petco Park  \n",
       "2   2191950.0   27061.0   3rd of 15  $151,984,286   92   92  Petco Park  \n",
       "3         NaN       NaN  12th of 15  $141,953,667   93   93  Petco Park  \n",
       "4   2396399.0   29585.0  10th of 15   $90,260,767   95   94  Petco Park  "
      ]
     },
     "execution_count": 91,
     "metadata": {},
     "output_type": "execute_result"
    }
   ],
   "source": [
    "path = \"C:/Users/earne/OneDrive - University of San Diego/MSADS/ADS-509/Project/data/\"\n",
    "\n",
    "pads_df = pd.DataFrame(pd.read_csv(path + 'sdp_attendance_data.csv'))\n",
    "pads_df.head()"
   ]
  },
  {
   "cell_type": "code",
   "execution_count": 92,
   "metadata": {},
   "outputs": [
    {
     "data": {
      "text/html": [
       "<div>\n",
       "<style scoped>\n",
       "    .dataframe tbody tr th:only-of-type {\n",
       "        vertical-align: middle;\n",
       "    }\n",
       "\n",
       "    .dataframe tbody tr th {\n",
       "        vertical-align: top;\n",
       "    }\n",
       "\n",
       "    .dataframe thead th {\n",
       "        text-align: right;\n",
       "    }\n",
       "</style>\n",
       "<table border=\"1\" class=\"dataframe\">\n",
       "  <thead>\n",
       "    <tr style=\"text-align: right;\">\n",
       "      <th></th>\n",
       "      <th>Year</th>\n",
       "      <th>Tm</th>\n",
       "      <th>Lg</th>\n",
       "      <th>W</th>\n",
       "      <th>L</th>\n",
       "      <th>Finish</th>\n",
       "      <th>Playoffs</th>\n",
       "      <th>Attendance</th>\n",
       "      <th>Attend/G</th>\n",
       "      <th>Rank</th>\n",
       "      <th>Est. Payroll</th>\n",
       "      <th>PPF</th>\n",
       "      <th>BPF</th>\n",
       "      <th>Stadium</th>\n",
       "    </tr>\n",
       "  </thead>\n",
       "  <tbody>\n",
       "    <tr>\n",
       "      <th>0</th>\n",
       "      <td>2023</td>\n",
       "      <td>San Diego Padres</td>\n",
       "      <td>NL West</td>\n",
       "      <td>35</td>\n",
       "      <td>37</td>\n",
       "      <td>4</td>\n",
       "      <td>NaN</td>\n",
       "      <td>1549480.0</td>\n",
       "      <td>39730.0</td>\n",
       "      <td>2nd of 15</td>\n",
       "      <td>$234,100,139</td>\n",
       "      <td>93</td>\n",
       "      <td>93</td>\n",
       "      <td>Petco Park</td>\n",
       "    </tr>\n",
       "    <tr>\n",
       "      <th>1</th>\n",
       "      <td>2022</td>\n",
       "      <td>San Diego Padres</td>\n",
       "      <td>NL West</td>\n",
       "      <td>89</td>\n",
       "      <td>73</td>\n",
       "      <td>2</td>\n",
       "      <td>Lost NLCS (4-1)</td>\n",
       "      <td>2987470.0</td>\n",
       "      <td>36882.0</td>\n",
       "      <td>4th of 15</td>\n",
       "      <td>$173,600,824</td>\n",
       "      <td>93</td>\n",
       "      <td>93</td>\n",
       "      <td>Petco Park</td>\n",
       "    </tr>\n",
       "    <tr>\n",
       "      <th>2</th>\n",
       "      <td>2021</td>\n",
       "      <td>San Diego Padres</td>\n",
       "      <td>NL West</td>\n",
       "      <td>79</td>\n",
       "      <td>83</td>\n",
       "      <td>3</td>\n",
       "      <td>NaN</td>\n",
       "      <td>2191950.0</td>\n",
       "      <td>27061.0</td>\n",
       "      <td>3rd of 15</td>\n",
       "      <td>$151,984,286</td>\n",
       "      <td>92</td>\n",
       "      <td>92</td>\n",
       "      <td>Petco Park</td>\n",
       "    </tr>\n",
       "    <tr>\n",
       "      <th>3</th>\n",
       "      <td>2020</td>\n",
       "      <td>San Diego Padres</td>\n",
       "      <td>NL West</td>\n",
       "      <td>37</td>\n",
       "      <td>23</td>\n",
       "      <td>2</td>\n",
       "      <td>Lost NLDS (3-0)</td>\n",
       "      <td>NaN</td>\n",
       "      <td>NaN</td>\n",
       "      <td>12th of 15</td>\n",
       "      <td>$141,953,667</td>\n",
       "      <td>93</td>\n",
       "      <td>93</td>\n",
       "      <td>Petco Park</td>\n",
       "    </tr>\n",
       "    <tr>\n",
       "      <th>4</th>\n",
       "      <td>2019</td>\n",
       "      <td>San Diego Padres</td>\n",
       "      <td>NL West</td>\n",
       "      <td>70</td>\n",
       "      <td>92</td>\n",
       "      <td>5</td>\n",
       "      <td>NaN</td>\n",
       "      <td>2396399.0</td>\n",
       "      <td>29585.0</td>\n",
       "      <td>10th of 15</td>\n",
       "      <td>$90,260,767</td>\n",
       "      <td>95</td>\n",
       "      <td>94</td>\n",
       "      <td>Petco Park</td>\n",
       "    </tr>\n",
       "    <tr>\n",
       "      <th>5</th>\n",
       "      <td>2018</td>\n",
       "      <td>San Diego Padres</td>\n",
       "      <td>NL West</td>\n",
       "      <td>66</td>\n",
       "      <td>96</td>\n",
       "      <td>5</td>\n",
       "      <td>NaN</td>\n",
       "      <td>2168536.0</td>\n",
       "      <td>26772.0</td>\n",
       "      <td>11th of 15</td>\n",
       "      <td>$93,821,067</td>\n",
       "      <td>95</td>\n",
       "      <td>93</td>\n",
       "      <td>Petco Park</td>\n",
       "    </tr>\n",
       "    <tr>\n",
       "      <th>6</th>\n",
       "      <td>2017</td>\n",
       "      <td>San Diego Padres</td>\n",
       "      <td>NL West</td>\n",
       "      <td>71</td>\n",
       "      <td>91</td>\n",
       "      <td>4</td>\n",
       "      <td>NaN</td>\n",
       "      <td>2138491.0</td>\n",
       "      <td>26401.0</td>\n",
       "      <td>10th of 15</td>\n",
       "      <td>$49,248,767</td>\n",
       "      <td>97</td>\n",
       "      <td>95</td>\n",
       "      <td>Petco Park</td>\n",
       "    </tr>\n",
       "    <tr>\n",
       "      <th>7</th>\n",
       "      <td>2016</td>\n",
       "      <td>San Diego Padres</td>\n",
       "      <td>NL West</td>\n",
       "      <td>68</td>\n",
       "      <td>94</td>\n",
       "      <td>5</td>\n",
       "      <td>NaN</td>\n",
       "      <td>2351422.0</td>\n",
       "      <td>29030.0</td>\n",
       "      <td>8th of 15</td>\n",
       "      <td>$50,656,166</td>\n",
       "      <td>95</td>\n",
       "      <td>95</td>\n",
       "      <td>Petco Park</td>\n",
       "    </tr>\n",
       "    <tr>\n",
       "      <th>8</th>\n",
       "      <td>2015</td>\n",
       "      <td>San Diego Padres</td>\n",
       "      <td>NL West</td>\n",
       "      <td>74</td>\n",
       "      <td>88</td>\n",
       "      <td>4</td>\n",
       "      <td>NaN</td>\n",
       "      <td>2459752.0</td>\n",
       "      <td>30367.0</td>\n",
       "      <td>10th of 15</td>\n",
       "      <td>$125,203,700</td>\n",
       "      <td>95</td>\n",
       "      <td>95</td>\n",
       "      <td>Petco Park</td>\n",
       "    </tr>\n",
       "    <tr>\n",
       "      <th>9</th>\n",
       "      <td>2014</td>\n",
       "      <td>San Diego Padres</td>\n",
       "      <td>NL West</td>\n",
       "      <td>77</td>\n",
       "      <td>85</td>\n",
       "      <td>3</td>\n",
       "      <td>NaN</td>\n",
       "      <td>2195373.0</td>\n",
       "      <td>27103.0</td>\n",
       "      <td>12th of 15</td>\n",
       "      <td>$76,662,100</td>\n",
       "      <td>92</td>\n",
       "      <td>92</td>\n",
       "      <td>Petco Park</td>\n",
       "    </tr>\n",
       "    <tr>\n",
       "      <th>10</th>\n",
       "      <td>2013</td>\n",
       "      <td>San Diego Padres</td>\n",
       "      <td>NL West</td>\n",
       "      <td>76</td>\n",
       "      <td>86</td>\n",
       "      <td>3</td>\n",
       "      <td>NaN</td>\n",
       "      <td>2166691.0</td>\n",
       "      <td>26749.0</td>\n",
       "      <td>12th of 15</td>\n",
       "      <td>$65,988,600</td>\n",
       "      <td>91</td>\n",
       "      <td>91</td>\n",
       "      <td>Petco Park</td>\n",
       "    </tr>\n",
       "    <tr>\n",
       "      <th>11</th>\n",
       "      <td>2012</td>\n",
       "      <td>San Diego Padres</td>\n",
       "      <td>NL West</td>\n",
       "      <td>76</td>\n",
       "      <td>86</td>\n",
       "      <td>4</td>\n",
       "      <td>NaN</td>\n",
       "      <td>2123721.0</td>\n",
       "      <td>26219.0</td>\n",
       "      <td>14th of 16</td>\n",
       "      <td>$55,494,700</td>\n",
       "      <td>91</td>\n",
       "      <td>91</td>\n",
       "      <td>Petco Park</td>\n",
       "    </tr>\n",
       "    <tr>\n",
       "      <th>12</th>\n",
       "      <td>2011</td>\n",
       "      <td>San Diego Padres</td>\n",
       "      <td>NL West</td>\n",
       "      <td>71</td>\n",
       "      <td>91</td>\n",
       "      <td>5</td>\n",
       "      <td>NaN</td>\n",
       "      <td>2143018.0</td>\n",
       "      <td>26457.0</td>\n",
       "      <td>11th of 16</td>\n",
       "      <td>$45,869,140</td>\n",
       "      <td>93</td>\n",
       "      <td>93</td>\n",
       "      <td>Petco Park</td>\n",
       "    </tr>\n",
       "    <tr>\n",
       "      <th>13</th>\n",
       "      <td>2010</td>\n",
       "      <td>San Diego Padres</td>\n",
       "      <td>NL West</td>\n",
       "      <td>90</td>\n",
       "      <td>72</td>\n",
       "      <td>2</td>\n",
       "      <td>NaN</td>\n",
       "      <td>2131774.0</td>\n",
       "      <td>26318.0</td>\n",
       "      <td>11th of 16</td>\n",
       "      <td>$37,799,300</td>\n",
       "      <td>91</td>\n",
       "      <td>91</td>\n",
       "      <td>Petco Park</td>\n",
       "    </tr>\n",
       "    <tr>\n",
       "      <th>14</th>\n",
       "      <td>2009</td>\n",
       "      <td>San Diego Padres</td>\n",
       "      <td>NL West</td>\n",
       "      <td>75</td>\n",
       "      <td>87</td>\n",
       "      <td>4</td>\n",
       "      <td>NaN</td>\n",
       "      <td>1919603.0</td>\n",
       "      <td>23699.0</td>\n",
       "      <td>12th of 16</td>\n",
       "      <td>$50,954,200</td>\n",
       "      <td>90</td>\n",
       "      <td>90</td>\n",
       "      <td>Petco Park</td>\n",
       "    </tr>\n",
       "    <tr>\n",
       "      <th>15</th>\n",
       "      <td>2008</td>\n",
       "      <td>San Diego Padres</td>\n",
       "      <td>NL West</td>\n",
       "      <td>63</td>\n",
       "      <td>99</td>\n",
       "      <td>5</td>\n",
       "      <td>NaN</td>\n",
       "      <td>2427535.0</td>\n",
       "      <td>29970.0</td>\n",
       "      <td>12th of 16</td>\n",
       "      <td>$73,677,616</td>\n",
       "      <td>88</td>\n",
       "      <td>87</td>\n",
       "      <td>Petco Park</td>\n",
       "    </tr>\n",
       "    <tr>\n",
       "      <th>16</th>\n",
       "      <td>2007</td>\n",
       "      <td>San Diego Padres</td>\n",
       "      <td>NL West</td>\n",
       "      <td>89</td>\n",
       "      <td>74</td>\n",
       "      <td>3</td>\n",
       "      <td>NaN</td>\n",
       "      <td>2790074.0</td>\n",
       "      <td>34445.0</td>\n",
       "      <td>9th of 16</td>\n",
       "      <td>$58,110,567</td>\n",
       "      <td>90</td>\n",
       "      <td>90</td>\n",
       "      <td>Petco Park</td>\n",
       "    </tr>\n",
       "    <tr>\n",
       "      <th>17</th>\n",
       "      <td>2006</td>\n",
       "      <td>San Diego Padres</td>\n",
       "      <td>NL West</td>\n",
       "      <td>88</td>\n",
       "      <td>74</td>\n",
       "      <td>1</td>\n",
       "      <td>Lost NLDS (3-1)</td>\n",
       "      <td>2659757.0</td>\n",
       "      <td>32837.0</td>\n",
       "      <td>8th of 16</td>\n",
       "      <td>$69,896,141</td>\n",
       "      <td>90</td>\n",
       "      <td>91</td>\n",
       "      <td>Petco Park</td>\n",
       "    </tr>\n",
       "    <tr>\n",
       "      <th>18</th>\n",
       "      <td>2005</td>\n",
       "      <td>San Diego Padres</td>\n",
       "      <td>NL West</td>\n",
       "      <td>82</td>\n",
       "      <td>80</td>\n",
       "      <td>1</td>\n",
       "      <td>Lost NLDS (3-0)</td>\n",
       "      <td>2869787.0</td>\n",
       "      <td>35429.0</td>\n",
       "      <td>5th of 16</td>\n",
       "      <td>$63,290,833</td>\n",
       "      <td>91</td>\n",
       "      <td>91</td>\n",
       "      <td>Petco Park</td>\n",
       "    </tr>\n",
       "  </tbody>\n",
       "</table>\n",
       "</div>"
      ],
      "text/plain": [
       "    Year                Tm       Lg   W   L  Finish         Playoffs  \\\n",
       "0   2023  San Diego Padres  NL West  35  37       4              NaN   \n",
       "1   2022  San Diego Padres  NL West  89  73       2  Lost NLCS (4-1)   \n",
       "2   2021  San Diego Padres  NL West  79  83       3              NaN   \n",
       "3   2020  San Diego Padres  NL West  37  23       2  Lost NLDS (3-0)   \n",
       "4   2019  San Diego Padres  NL West  70  92       5              NaN   \n",
       "5   2018  San Diego Padres  NL West  66  96       5              NaN   \n",
       "6   2017  San Diego Padres  NL West  71  91       4              NaN   \n",
       "7   2016  San Diego Padres  NL West  68  94       5              NaN   \n",
       "8   2015  San Diego Padres  NL West  74  88       4              NaN   \n",
       "9   2014  San Diego Padres  NL West  77  85       3              NaN   \n",
       "10  2013  San Diego Padres  NL West  76  86       3              NaN   \n",
       "11  2012  San Diego Padres  NL West  76  86       4              NaN   \n",
       "12  2011  San Diego Padres  NL West  71  91       5              NaN   \n",
       "13  2010  San Diego Padres  NL West  90  72       2              NaN   \n",
       "14  2009  San Diego Padres  NL West  75  87       4              NaN   \n",
       "15  2008  San Diego Padres  NL West  63  99       5              NaN   \n",
       "16  2007  San Diego Padres  NL West  89  74       3              NaN   \n",
       "17  2006  San Diego Padres  NL West  88  74       1  Lost NLDS (3-1)   \n",
       "18  2005  San Diego Padres  NL West  82  80       1  Lost NLDS (3-0)   \n",
       "\n",
       "    Attendance  Attend/G        Rank  Est. Payroll  PPF  BPF     Stadium  \n",
       "0    1549480.0   39730.0   2nd of 15  $234,100,139   93   93  Petco Park  \n",
       "1    2987470.0   36882.0   4th of 15  $173,600,824   93   93  Petco Park  \n",
       "2    2191950.0   27061.0   3rd of 15  $151,984,286   92   92  Petco Park  \n",
       "3          NaN       NaN  12th of 15  $141,953,667   93   93  Petco Park  \n",
       "4    2396399.0   29585.0  10th of 15   $90,260,767   95   94  Petco Park  \n",
       "5    2168536.0   26772.0  11th of 15   $93,821,067   95   93  Petco Park  \n",
       "6    2138491.0   26401.0  10th of 15   $49,248,767   97   95  Petco Park  \n",
       "7    2351422.0   29030.0   8th of 15   $50,656,166   95   95  Petco Park  \n",
       "8    2459752.0   30367.0  10th of 15  $125,203,700   95   95  Petco Park  \n",
       "9    2195373.0   27103.0  12th of 15   $76,662,100   92   92  Petco Park  \n",
       "10   2166691.0   26749.0  12th of 15   $65,988,600   91   91  Petco Park  \n",
       "11   2123721.0   26219.0  14th of 16   $55,494,700   91   91  Petco Park  \n",
       "12   2143018.0   26457.0  11th of 16   $45,869,140   93   93  Petco Park  \n",
       "13   2131774.0   26318.0  11th of 16   $37,799,300   91   91  Petco Park  \n",
       "14   1919603.0   23699.0  12th of 16   $50,954,200   90   90  Petco Park  \n",
       "15   2427535.0   29970.0  12th of 16   $73,677,616   88   87  Petco Park  \n",
       "16   2790074.0   34445.0   9th of 16   $58,110,567   90   90  Petco Park  \n",
       "17   2659757.0   32837.0   8th of 16   $69,896,141   90   91  Petco Park  \n",
       "18   2869787.0   35429.0   5th of 16   $63,290,833   91   91  Petco Park  "
      ]
     },
     "execution_count": 92,
     "metadata": {},
     "output_type": "execute_result"
    }
   ],
   "source": [
    "pads_df= pads_df[nats_df['Year'] > 2004]\n",
    "pads_df"
   ]
  },
  {
   "cell_type": "code",
   "execution_count": 93,
   "metadata": {},
   "outputs": [
    {
     "data": {
      "text/html": [
       "<div>\n",
       "<style scoped>\n",
       "    .dataframe tbody tr th:only-of-type {\n",
       "        vertical-align: middle;\n",
       "    }\n",
       "\n",
       "    .dataframe tbody tr th {\n",
       "        vertical-align: top;\n",
       "    }\n",
       "\n",
       "    .dataframe thead th {\n",
       "        text-align: right;\n",
       "    }\n",
       "</style>\n",
       "<table border=\"1\" class=\"dataframe\">\n",
       "  <thead>\n",
       "    <tr style=\"text-align: right;\">\n",
       "      <th></th>\n",
       "      <th>Year</th>\n",
       "      <th>Tm</th>\n",
       "      <th>Lg</th>\n",
       "      <th>W</th>\n",
       "      <th>L</th>\n",
       "      <th>Finish</th>\n",
       "      <th>Playoffs</th>\n",
       "      <th>Attendance</th>\n",
       "      <th>Attend/G</th>\n",
       "      <th>Rank</th>\n",
       "      <th>Est. Payroll</th>\n",
       "      <th>PPF</th>\n",
       "      <th>BPF</th>\n",
       "      <th>Stadium</th>\n",
       "    </tr>\n",
       "  </thead>\n",
       "  <tbody>\n",
       "    <tr>\n",
       "      <th>0</th>\n",
       "      <td>2023</td>\n",
       "      <td>San Diego Padres</td>\n",
       "      <td>NL West</td>\n",
       "      <td>35</td>\n",
       "      <td>37</td>\n",
       "      <td>4</td>\n",
       "      <td>NaN</td>\n",
       "      <td>1549480.0</td>\n",
       "      <td>39730.0</td>\n",
       "      <td>2nd of 15</td>\n",
       "      <td>234100139</td>\n",
       "      <td>93</td>\n",
       "      <td>93</td>\n",
       "      <td>Petco Park</td>\n",
       "    </tr>\n",
       "    <tr>\n",
       "      <th>1</th>\n",
       "      <td>2022</td>\n",
       "      <td>San Diego Padres</td>\n",
       "      <td>NL West</td>\n",
       "      <td>89</td>\n",
       "      <td>73</td>\n",
       "      <td>2</td>\n",
       "      <td>Lost NLCS (4-1)</td>\n",
       "      <td>2987470.0</td>\n",
       "      <td>36882.0</td>\n",
       "      <td>4th of 15</td>\n",
       "      <td>173600824</td>\n",
       "      <td>93</td>\n",
       "      <td>93</td>\n",
       "      <td>Petco Park</td>\n",
       "    </tr>\n",
       "    <tr>\n",
       "      <th>2</th>\n",
       "      <td>2021</td>\n",
       "      <td>San Diego Padres</td>\n",
       "      <td>NL West</td>\n",
       "      <td>79</td>\n",
       "      <td>83</td>\n",
       "      <td>3</td>\n",
       "      <td>NaN</td>\n",
       "      <td>2191950.0</td>\n",
       "      <td>27061.0</td>\n",
       "      <td>3rd of 15</td>\n",
       "      <td>151984286</td>\n",
       "      <td>92</td>\n",
       "      <td>92</td>\n",
       "      <td>Petco Park</td>\n",
       "    </tr>\n",
       "    <tr>\n",
       "      <th>3</th>\n",
       "      <td>2020</td>\n",
       "      <td>San Diego Padres</td>\n",
       "      <td>NL West</td>\n",
       "      <td>37</td>\n",
       "      <td>23</td>\n",
       "      <td>2</td>\n",
       "      <td>Lost NLDS (3-0)</td>\n",
       "      <td>NaN</td>\n",
       "      <td>NaN</td>\n",
       "      <td>12th of 15</td>\n",
       "      <td>141953667</td>\n",
       "      <td>93</td>\n",
       "      <td>93</td>\n",
       "      <td>Petco Park</td>\n",
       "    </tr>\n",
       "    <tr>\n",
       "      <th>4</th>\n",
       "      <td>2019</td>\n",
       "      <td>San Diego Padres</td>\n",
       "      <td>NL West</td>\n",
       "      <td>70</td>\n",
       "      <td>92</td>\n",
       "      <td>5</td>\n",
       "      <td>NaN</td>\n",
       "      <td>2396399.0</td>\n",
       "      <td>29585.0</td>\n",
       "      <td>10th of 15</td>\n",
       "      <td>90260767</td>\n",
       "      <td>95</td>\n",
       "      <td>94</td>\n",
       "      <td>Petco Park</td>\n",
       "    </tr>\n",
       "  </tbody>\n",
       "</table>\n",
       "</div>"
      ],
      "text/plain": [
       "   Year                Tm       Lg   W   L  Finish         Playoffs  \\\n",
       "0  2023  San Diego Padres  NL West  35  37       4              NaN   \n",
       "1  2022  San Diego Padres  NL West  89  73       2  Lost NLCS (4-1)   \n",
       "2  2021  San Diego Padres  NL West  79  83       3              NaN   \n",
       "3  2020  San Diego Padres  NL West  37  23       2  Lost NLDS (3-0)   \n",
       "4  2019  San Diego Padres  NL West  70  92       5              NaN   \n",
       "\n",
       "   Attendance  Attend/G        Rank Est. Payroll  PPF  BPF     Stadium  \n",
       "0   1549480.0   39730.0   2nd of 15    234100139   93   93  Petco Park  \n",
       "1   2987470.0   36882.0   4th of 15    173600824   93   93  Petco Park  \n",
       "2   2191950.0   27061.0   3rd of 15    151984286   92   92  Petco Park  \n",
       "3         NaN       NaN  12th of 15    141953667   93   93  Petco Park  \n",
       "4   2396399.0   29585.0  10th of 15     90260767   95   94  Petco Park  "
      ]
     },
     "execution_count": 93,
     "metadata": {},
     "output_type": "execute_result"
    }
   ],
   "source": [
    "#remove the dollar sign from Est. Payroll column\n",
    "pads_df['Est. Payroll'] = pads_df['Est. Payroll'].replace({'\\$':''}, regex = True)\n",
    "pads_df['Est. Payroll'] = pads_df['Est. Payroll'].replace({'\\,':''}, regex = True)\n",
    "pads_df.head()"
   ]
  },
  {
   "cell_type": "code",
   "execution_count": 94,
   "metadata": {},
   "outputs": [
    {
     "data": {
      "text/plain": [
       "Year              int64\n",
       "Tm               object\n",
       "Lg               object\n",
       "W                 int64\n",
       "L                 int64\n",
       "Finish            int64\n",
       "Playoffs         object\n",
       "Attendance      float64\n",
       "Attend/G        float64\n",
       "Rank             object\n",
       "Est. Payroll    float64\n",
       "PPF               int64\n",
       "BPF               int64\n",
       "Stadium          object\n",
       "dtype: object"
      ]
     },
     "execution_count": 94,
     "metadata": {},
     "output_type": "execute_result"
    }
   ],
   "source": [
    "pads_df['Est. Payroll'] = pads_df['Est. Payroll'].astype(float)\n",
    "pads_df.dtypes"
   ]
  },
  {
   "attachments": {},
   "cell_type": "markdown",
   "metadata": {},
   "source": [
    "### Create Binary feature that defines a successful year as wins greater than or equal to 50% of total games played"
   ]
  },
  {
   "cell_type": "code",
   "execution_count": 97,
   "metadata": {},
   "outputs": [
    {
     "data": {
      "text/html": [
       "<div>\n",
       "<style scoped>\n",
       "    .dataframe tbody tr th:only-of-type {\n",
       "        vertical-align: middle;\n",
       "    }\n",
       "\n",
       "    .dataframe tbody tr th {\n",
       "        vertical-align: top;\n",
       "    }\n",
       "\n",
       "    .dataframe thead th {\n",
       "        text-align: right;\n",
       "    }\n",
       "</style>\n",
       "<table border=\"1\" class=\"dataframe\">\n",
       "  <thead>\n",
       "    <tr style=\"text-align: right;\">\n",
       "      <th></th>\n",
       "      <th>Year</th>\n",
       "      <th>Tm</th>\n",
       "      <th>Lg</th>\n",
       "      <th>W</th>\n",
       "      <th>L</th>\n",
       "      <th>Finish</th>\n",
       "      <th>Playoffs</th>\n",
       "      <th>Attendance</th>\n",
       "      <th>Attend/G</th>\n",
       "      <th>Rank</th>\n",
       "      <th>Est. Payroll</th>\n",
       "      <th>PPF</th>\n",
       "      <th>BPF</th>\n",
       "      <th>Stadium</th>\n",
       "      <th>success</th>\n",
       "    </tr>\n",
       "  </thead>\n",
       "  <tbody>\n",
       "    <tr>\n",
       "      <th>0</th>\n",
       "      <td>2023</td>\n",
       "      <td>San Diego Padres</td>\n",
       "      <td>NL West</td>\n",
       "      <td>35</td>\n",
       "      <td>37</td>\n",
       "      <td>4</td>\n",
       "      <td>NaN</td>\n",
       "      <td>1549480.0</td>\n",
       "      <td>39730.0</td>\n",
       "      <td>2nd of 15</td>\n",
       "      <td>234100139.0</td>\n",
       "      <td>93</td>\n",
       "      <td>93</td>\n",
       "      <td>Petco Park</td>\n",
       "      <td>0</td>\n",
       "    </tr>\n",
       "    <tr>\n",
       "      <th>1</th>\n",
       "      <td>2022</td>\n",
       "      <td>San Diego Padres</td>\n",
       "      <td>NL West</td>\n",
       "      <td>89</td>\n",
       "      <td>73</td>\n",
       "      <td>2</td>\n",
       "      <td>Lost NLCS (4-1)</td>\n",
       "      <td>2987470.0</td>\n",
       "      <td>36882.0</td>\n",
       "      <td>4th of 15</td>\n",
       "      <td>173600824.0</td>\n",
       "      <td>93</td>\n",
       "      <td>93</td>\n",
       "      <td>Petco Park</td>\n",
       "      <td>1</td>\n",
       "    </tr>\n",
       "    <tr>\n",
       "      <th>2</th>\n",
       "      <td>2021</td>\n",
       "      <td>San Diego Padres</td>\n",
       "      <td>NL West</td>\n",
       "      <td>79</td>\n",
       "      <td>83</td>\n",
       "      <td>3</td>\n",
       "      <td>NaN</td>\n",
       "      <td>2191950.0</td>\n",
       "      <td>27061.0</td>\n",
       "      <td>3rd of 15</td>\n",
       "      <td>151984286.0</td>\n",
       "      <td>92</td>\n",
       "      <td>92</td>\n",
       "      <td>Petco Park</td>\n",
       "      <td>0</td>\n",
       "    </tr>\n",
       "    <tr>\n",
       "      <th>3</th>\n",
       "      <td>2020</td>\n",
       "      <td>San Diego Padres</td>\n",
       "      <td>NL West</td>\n",
       "      <td>37</td>\n",
       "      <td>23</td>\n",
       "      <td>2</td>\n",
       "      <td>Lost NLDS (3-0)</td>\n",
       "      <td>NaN</td>\n",
       "      <td>NaN</td>\n",
       "      <td>12th of 15</td>\n",
       "      <td>141953667.0</td>\n",
       "      <td>93</td>\n",
       "      <td>93</td>\n",
       "      <td>Petco Park</td>\n",
       "      <td>1</td>\n",
       "    </tr>\n",
       "    <tr>\n",
       "      <th>4</th>\n",
       "      <td>2019</td>\n",
       "      <td>San Diego Padres</td>\n",
       "      <td>NL West</td>\n",
       "      <td>70</td>\n",
       "      <td>92</td>\n",
       "      <td>5</td>\n",
       "      <td>NaN</td>\n",
       "      <td>2396399.0</td>\n",
       "      <td>29585.0</td>\n",
       "      <td>10th of 15</td>\n",
       "      <td>90260767.0</td>\n",
       "      <td>95</td>\n",
       "      <td>94</td>\n",
       "      <td>Petco Park</td>\n",
       "      <td>0</td>\n",
       "    </tr>\n",
       "  </tbody>\n",
       "</table>\n",
       "</div>"
      ],
      "text/plain": [
       "   Year                Tm       Lg   W   L  Finish         Playoffs  \\\n",
       "0  2023  San Diego Padres  NL West  35  37       4              NaN   \n",
       "1  2022  San Diego Padres  NL West  89  73       2  Lost NLCS (4-1)   \n",
       "2  2021  San Diego Padres  NL West  79  83       3              NaN   \n",
       "3  2020  San Diego Padres  NL West  37  23       2  Lost NLDS (3-0)   \n",
       "4  2019  San Diego Padres  NL West  70  92       5              NaN   \n",
       "\n",
       "   Attendance  Attend/G        Rank  Est. Payroll  PPF  BPF     Stadium  \\\n",
       "0   1549480.0   39730.0   2nd of 15   234100139.0   93   93  Petco Park   \n",
       "1   2987470.0   36882.0   4th of 15   173600824.0   93   93  Petco Park   \n",
       "2   2191950.0   27061.0   3rd of 15   151984286.0   92   92  Petco Park   \n",
       "3         NaN       NaN  12th of 15   141953667.0   93   93  Petco Park   \n",
       "4   2396399.0   29585.0  10th of 15    90260767.0   95   94  Petco Park   \n",
       "\n",
       "   success  \n",
       "0        0  \n",
       "1        1  \n",
       "2        0  \n",
       "3        1  \n",
       "4        0  "
      ]
     },
     "execution_count": 97,
     "metadata": {},
     "output_type": "execute_result"
    }
   ],
   "source": [
    "#Add a column to define a binary output that has a 1 if the team has a winning record for the year, and 0 if they do not\n",
    "pads_df['success'] = (pads_df['W'] / (pads_df['W'] + nats_df['L']) >= 0.5).astype(int)\n",
    "pads_df.head()"
   ]
  },
  {
   "cell_type": "code",
   "execution_count": 98,
   "metadata": {},
   "outputs": [
    {
     "data": {
      "image/png": "[encoded data removed]",
      "text/plain": [
       "<Figure size 432x288 with 1 Axes>"
      ]
     },
     "metadata": {
      "needs_background": "light"
     },
     "output_type": "display_data"
    }
   ],
   "source": [
    "# Count the number of successes and failures\n",
    "success_counts = pads_df['success'].value_counts()\n",
    "\n",
    "# Create a bar plot\n",
    "plt.bar(success_counts.index, success_counts.values)\n",
    "plt.xticks(success_counts.index, ['Failure', 'Success'])\n",
    "plt.xlabel('Success')\n",
    "plt.ylabel('Count')\n",
    "plt.title('Success Counts')\n",
    "\n",
    "# Display the plot\n",
    "plt.show()"
   ]
  },
  {
   "cell_type": "code",
   "execution_count": 99,
   "metadata": {},
   "outputs": [
    {
     "data": {
      "text/html": [
       "<div>\n",
       "<style scoped>\n",
       "    .dataframe tbody tr th:only-of-type {\n",
       "        vertical-align: middle;\n",
       "    }\n",
       "\n",
       "    .dataframe tbody tr th {\n",
       "        vertical-align: top;\n",
       "    }\n",
       "\n",
       "    .dataframe thead th {\n",
       "        text-align: right;\n",
       "    }\n",
       "</style>\n",
       "<table border=\"1\" class=\"dataframe\">\n",
       "  <thead>\n",
       "    <tr style=\"text-align: right;\">\n",
       "      <th></th>\n",
       "      <th>Year</th>\n",
       "      <th>W</th>\n",
       "      <th>L</th>\n",
       "      <th>Finish</th>\n",
       "      <th>Attendance</th>\n",
       "      <th>Attend/G</th>\n",
       "      <th>Est. Payroll</th>\n",
       "      <th>PPF</th>\n",
       "      <th>BPF</th>\n",
       "      <th>success</th>\n",
       "    </tr>\n",
       "  </thead>\n",
       "  <tbody>\n",
       "    <tr>\n",
       "      <th>count</th>\n",
       "      <td>19.000000</td>\n",
       "      <td>19.000000</td>\n",
       "      <td>19.000000</td>\n",
       "      <td>19.000000</td>\n",
       "      <td>1.800000e+01</td>\n",
       "      <td>18.000000</td>\n",
       "      <td>1.900000e+01</td>\n",
       "      <td>19.000000</td>\n",
       "      <td>19.000000</td>\n",
       "      <td>19.000000</td>\n",
       "    </tr>\n",
       "    <tr>\n",
       "      <th>mean</th>\n",
       "      <td>2014.000000</td>\n",
       "      <td>72.421053</td>\n",
       "      <td>79.526316</td>\n",
       "      <td>3.421053</td>\n",
       "      <td>2.315046e+06</td>\n",
       "      <td>29725.222222</td>\n",
       "      <td>8.992487e+07</td>\n",
       "      <td>92.368421</td>\n",
       "      <td>92.105263</td>\n",
       "      <td>0.315789</td>\n",
       "    </tr>\n",
       "    <tr>\n",
       "      <th>std</th>\n",
       "      <td>5.627314</td>\n",
       "      <td>15.104509</td>\n",
       "      <td>19.288363</td>\n",
       "      <td>1.346427</td>\n",
       "      <td>3.508207e+05</td>\n",
       "      <td>4407.785713</td>\n",
       "      <td>5.233473e+07</td>\n",
       "      <td>2.290331</td>\n",
       "      <td>2.024701</td>\n",
       "      <td>0.477567</td>\n",
       "    </tr>\n",
       "    <tr>\n",
       "      <th>min</th>\n",
       "      <td>2005.000000</td>\n",
       "      <td>35.000000</td>\n",
       "      <td>23.000000</td>\n",
       "      <td>1.000000</td>\n",
       "      <td>1.549480e+06</td>\n",
       "      <td>23699.000000</td>\n",
       "      <td>3.779930e+07</td>\n",
       "      <td>88.000000</td>\n",
       "      <td>87.000000</td>\n",
       "      <td>0.000000</td>\n",
       "    </tr>\n",
       "    <tr>\n",
       "      <th>25%</th>\n",
       "      <td>2009.500000</td>\n",
       "      <td>69.000000</td>\n",
       "      <td>74.000000</td>\n",
       "      <td>2.500000</td>\n",
       "      <td>2.139623e+06</td>\n",
       "      <td>26530.000000</td>\n",
       "      <td>5.322445e+07</td>\n",
       "      <td>91.000000</td>\n",
       "      <td>91.000000</td>\n",
       "      <td>0.000000</td>\n",
       "    </tr>\n",
       "    <tr>\n",
       "      <th>50%</th>\n",
       "      <td>2014.000000</td>\n",
       "      <td>75.000000</td>\n",
       "      <td>86.000000</td>\n",
       "      <td>4.000000</td>\n",
       "      <td>2.193662e+06</td>\n",
       "      <td>28066.500000</td>\n",
       "      <td>6.989614e+07</td>\n",
       "      <td>92.000000</td>\n",
       "      <td>92.000000</td>\n",
       "      <td>0.000000</td>\n",
       "    </tr>\n",
       "    <tr>\n",
       "      <th>75%</th>\n",
       "      <td>2018.500000</td>\n",
       "      <td>80.500000</td>\n",
       "      <td>91.000000</td>\n",
       "      <td>4.500000</td>\n",
       "      <td>2.451698e+06</td>\n",
       "      <td>32219.500000</td>\n",
       "      <td>1.095124e+08</td>\n",
       "      <td>94.000000</td>\n",
       "      <td>93.000000</td>\n",
       "      <td>1.000000</td>\n",
       "    </tr>\n",
       "    <tr>\n",
       "      <th>max</th>\n",
       "      <td>2023.000000</td>\n",
       "      <td>90.000000</td>\n",
       "      <td>99.000000</td>\n",
       "      <td>5.000000</td>\n",
       "      <td>2.987470e+06</td>\n",
       "      <td>39730.000000</td>\n",
       "      <td>2.341001e+08</td>\n",
       "      <td>97.000000</td>\n",
       "      <td>95.000000</td>\n",
       "      <td>1.000000</td>\n",
       "    </tr>\n",
       "  </tbody>\n",
       "</table>\n",
       "</div>"
      ],
      "text/plain": [
       "              Year          W          L     Finish    Attendance  \\\n",
       "count    19.000000  19.000000  19.000000  19.000000  1.800000e+01   \n",
       "mean   2014.000000  72.421053  79.526316   3.421053  2.315046e+06   \n",
       "std       5.627314  15.104509  19.288363   1.346427  3.508207e+05   \n",
       "min    2005.000000  35.000000  23.000000   1.000000  1.549480e+06   \n",
       "25%    2009.500000  69.000000  74.000000   2.500000  2.139623e+06   \n",
       "50%    2014.000000  75.000000  86.000000   4.000000  2.193662e+06   \n",
       "75%    2018.500000  80.500000  91.000000   4.500000  2.451698e+06   \n",
       "max    2023.000000  90.000000  99.000000   5.000000  2.987470e+06   \n",
       "\n",
       "           Attend/G  Est. Payroll        PPF        BPF    success  \n",
       "count     18.000000  1.900000e+01  19.000000  19.000000  19.000000  \n",
       "mean   29725.222222  8.992487e+07  92.368421  92.105263   0.315789  \n",
       "std     4407.785713  5.233473e+07   2.290331   2.024701   0.477567  \n",
       "min    23699.000000  3.779930e+07  88.000000  87.000000   0.000000  \n",
       "25%    26530.000000  5.322445e+07  91.000000  91.000000   0.000000  \n",
       "50%    28066.500000  6.989614e+07  92.000000  92.000000   0.000000  \n",
       "75%    32219.500000  1.095124e+08  94.000000  93.000000   1.000000  \n",
       "max    39730.000000  2.341001e+08  97.000000  95.000000   1.000000  "
      ]
     },
     "execution_count": 99,
     "metadata": {},
     "output_type": "execute_result"
    }
   ],
   "source": [
    "pads_df.describe()"
   ]
  },
  {
   "cell_type": "code",
   "execution_count": 100,
   "metadata": {},
   "outputs": [
    {
     "data": {
      "image/png": "[encoded data removed]",
      "text/plain": [
       "<Figure size 720x432 with 1 Axes>"
      ]
     },
     "metadata": {
      "needs_background": "light"
     },
     "output_type": "display_data"
    }
   ],
   "source": [
    "# Plotting\n",
    "# Convert columns to numpy arrays\n",
    "year = np.array(pads_df['Year'])\n",
    "attendance = np.array(pads_df['Attendance'])\n",
    "\n",
    "plt.figure(figsize= (10,6))\n",
    "\n",
    "# Plotting Attendance over the years\n",
    "plt.plot(year, attendance, marker='o')\n",
    "plt.xlabel('Year')\n",
    "plt.ylabel('Attendance')\n",
    "plt.title('Attendance of San Diego Padres over the years')\n",
    "\n",
    "# Display the plot\n",
    "plt.show()"
   ]
  },
  {
   "cell_type": "code",
   "execution_count": 101,
   "metadata": {},
   "outputs": [
    {
     "data": {
      "image/png": "[encoded data removed]",
      "text/plain": [
       "<Figure size 720x432 with 1 Axes>"
      ]
     },
     "metadata": {
      "needs_background": "light"
     },
     "output_type": "display_data"
    }
   ],
   "source": [
    "# Plotting Wins over the years\n",
    "# Convert columns to numpy arrays\n",
    "year = np.array(pads_df['Year'])\n",
    "wins = np.array(pads_df['W'])\n",
    "\n",
    "plt.figure(figsize= (10,6))\n",
    "\n",
    "# Plotting Attendance over the years\n",
    "plt.plot(year, wins, marker='o')\n",
    "plt.xlabel('Year')\n",
    "plt.ylabel('Wins')\n",
    "plt.title('Wins by San Diego Padres over the years')\n",
    "\n",
    "# Display the plot\n",
    "plt.show()"
   ]
  },
  {
   "cell_type": "code",
   "execution_count": 103,
   "metadata": {},
   "outputs": [
    {
     "data": {
      "image/png": "[encoded data removed]",
      "text/plain": [
       "<Figure size 720x432 with 1 Axes>"
      ]
     },
     "metadata": {
      "needs_background": "light"
     },
     "output_type": "display_data"
    }
   ],
   "source": [
    "# Plotting Payroll over the years\n",
    "# Convert columns to numpy arrays\n",
    "year = np.array(pads_df['Year'])\n",
    "payroll = np.array(pads_df['Est. Payroll'])\n",
    "\n",
    "plt.figure(figsize= (10,6))\n",
    "\n",
    "# Plotting Attendance over the years\n",
    "plt.plot(year, payroll, marker='o')\n",
    "plt.xlabel('Year')\n",
    "plt.ylabel('Payroll')\n",
    "plt.title('Payroll of San Diego Padres over the years')\n",
    "\n",
    "# Display the plot\n",
    "plt.show()"
   ]
  },
  {
   "cell_type": "code",
   "execution_count": 104,
   "metadata": {},
   "outputs": [
    {
     "data": {
      "image/png": "[encoded data removed]",
      "text/plain": [
       "<Figure size 720x576 with 2 Axes>"
      ]
     },
     "metadata": {
      "needs_background": "light"
     },
     "output_type": "display_data"
    }
   ],
   "source": [
    "import seaborn as sns\n",
    "\n",
    "# Select numeric columns for correlation analysis\n",
    "numeric_cols = ['W', 'L', 'Attendance', 'Attend/G', 'Est. Payroll', 'PPF', 'BPF', 'success']\n",
    "numeric_df = pads_df[numeric_cols]\n",
    "\n",
    "# Correlation matrix\n",
    "correlation = numeric_df.corr()\n",
    "\n",
    "# Plotting the correlation heatmap\n",
    "plt.figure(figsize=(10, 8))\n",
    "sns.heatmap(correlation, annot=True, cmap='coolwarm')\n",
    "plt.title('Correlation Heatmap')\n",
    "\n",
    "# Display the plot\n",
    "plt.show()"
   ]
  },
  {
   "cell_type": "code",
   "execution_count": 113,
   "metadata": {},
   "outputs": [
    {
     "data": {
      "text/html": [
       "<div>\n",
       "<style scoped>\n",
       "    .dataframe tbody tr th:only-of-type {\n",
       "        vertical-align: middle;\n",
       "    }\n",
       "\n",
       "    .dataframe tbody tr th {\n",
       "        vertical-align: top;\n",
       "    }\n",
       "\n",
       "    .dataframe thead th {\n",
       "        text-align: right;\n",
       "    }\n",
       "</style>\n",
       "<table border=\"1\" class=\"dataframe\">\n",
       "  <thead>\n",
       "    <tr style=\"text-align: right;\">\n",
       "      <th></th>\n",
       "      <th>Title</th>\n",
       "      <th>Author</th>\n",
       "      <th>Date</th>\n",
       "      <th>Content</th>\n",
       "      <th>Year</th>\n",
       "      <th>success</th>\n",
       "      <th>Year_Successful</th>\n",
       "    </tr>\n",
       "  </thead>\n",
       "  <tbody>\n",
       "    <tr>\n",
       "      <th>0</th>\n",
       "      <td>Jose Iglesias Opts Out Of Contract With Padres</td>\n",
       "      <td>Anthony Franco</td>\n",
       "      <td>2023-06-19</td>\n",
       "      <td>Veteran infielder José Iglesias has opted out of his minor league deal with the Padres, reports ...</td>\n",
       "      <td>2023</td>\n",
       "      <td>0</td>\n",
       "      <td>0</td>\n",
       "    </tr>\n",
       "    <tr>\n",
       "      <th>1</th>\n",
       "      <td>Seth Lugo To Return Tuesday</td>\n",
       "      <td>Nick Deeds</td>\n",
       "      <td>2023-06-18</td>\n",
       "      <td>The Padres expect to welcome right-hander Seth Lugo back into the fold on Tuesday, when he figur...</td>\n",
       "      <td>2023</td>\n",
       "      <td>0</td>\n",
       "      <td>0</td>\n",
       "    </tr>\n",
       "    <tr>\n",
       "      <th>2</th>\n",
       "      <td>Padres Select Preston Tucker</td>\n",
       "      <td>Nick Deeds</td>\n",
       "      <td>2023-06-18</td>\n",
       "      <td>In a somewhat unusual move, the Padres have selected the contract of outfielder Preston Tucker b...</td>\n",
       "      <td>2023</td>\n",
       "      <td>0</td>\n",
       "      <td>0</td>\n",
       "    </tr>\n",
       "    <tr>\n",
       "      <th>3</th>\n",
       "      <td>Juan Soto Has Found His Stride After Slow Start</td>\n",
       "      <td>Anthony Franco</td>\n",
       "      <td>2023-06-13</td>\n",
       "      <td>Early in the year, there was a decent amount of trepidation about Juan Soto. The Padres supersta...</td>\n",
       "      <td>2023</td>\n",
       "      <td>0</td>\n",
       "      <td>0</td>\n",
       "    </tr>\n",
       "    <tr>\n",
       "      <th>4</th>\n",
       "      <td>Jack Baldschun Passes Away</td>\n",
       "      <td>Anthony Franco</td>\n",
       "      <td>2023-06-09</td>\n",
       "      <td>Former big league reliever Jack Baldschun passed away this week after a battle with leukemia, ac...</td>\n",
       "      <td>2023</td>\n",
       "      <td>0</td>\n",
       "      <td>0</td>\n",
       "    </tr>\n",
       "  </tbody>\n",
       "</table>\n",
       "</div>"
      ],
      "text/plain": [
       "                                             Title          Author       Date  \\\n",
       "0   Jose Iglesias Opts Out Of Contract With Padres  Anthony Franco 2023-06-19   \n",
       "1                      Seth Lugo To Return Tuesday      Nick Deeds 2023-06-18   \n",
       "2                     Padres Select Preston Tucker      Nick Deeds 2023-06-18   \n",
       "3  Juan Soto Has Found His Stride After Slow Start  Anthony Franco 2023-06-13   \n",
       "4                       Jack Baldschun Passes Away  Anthony Franco 2023-06-09   \n",
       "\n",
       "                                                                                               Content  \\\n",
       "0  Veteran infielder José Iglesias has opted out of his minor league deal with the Padres, reports ...   \n",
       "1  The Padres expect to welcome right-hander Seth Lugo back into the fold on Tuesday, when he figur...   \n",
       "2  In a somewhat unusual move, the Padres have selected the contract of outfielder Preston Tucker b...   \n",
       "3  Early in the year, there was a decent amount of trepidation about Juan Soto. The Padres supersta...   \n",
       "4  Former big league reliever Jack Baldschun passed away this week after a battle with leukemia, ac...   \n",
       "\n",
       "   Year  success  Year_Successful  \n",
       "0  2023        0                0  \n",
       "1  2023        0                0  \n",
       "2  2023        0                0  \n",
       "3  2023        0                0  \n",
       "4  2023        0                0  "
      ]
     },
     "execution_count": 113,
     "metadata": {},
     "output_type": "execute_result"
    }
   ],
   "source": [
    "# Extract the year from the \"Date\" column in df DataFrame\n",
    "sd_df['Year'] = pd.to_datetime(sd_df['Date']).dt.year\n",
    "\n",
    "# Merge df and pads_df DataFrames on the \"Year\" column\n",
    "merged_sd_df = pd.merge(sd_df, pads_df[['Year', 'success']], on='Year', how='left')\n",
    "\n",
    "# Add a new column 'Year_Successful' based on 'success' column\n",
    "merged_sd_df['Year_Successful'] = merged_sd_df['success'].fillna(0).astype(int)\n",
    "\n",
    "merged_sd_df.head()"
   ]
  },
  {
   "cell_type": "code",
   "execution_count": 114,
   "metadata": {},
   "outputs": [
    {
     "data": {
      "text/plain": [
       "1000"
      ]
     },
     "execution_count": 114,
     "metadata": {},
     "output_type": "execute_result"
    }
   ],
   "source": [
    "len(merged_sd_df)"
   ]
  },
  {
   "attachments": {},
   "cell_type": "markdown",
   "metadata": {},
   "source": [
    "##Cleaning the Data"
   ]
  },
  {
   "cell_type": "code",
   "execution_count": null,
   "metadata": {},
   "outputs": [],
   "source": [
    "#Identify any noise in the data\n",
    "RE_SUSPICIOUS = re.compile(r'[&#<>{}\\[\\]\\\\]')\n",
    "\n",
    "def impurity(text, min_len=10):\n",
    "    \"\"\"returns the share of suspicious characters in a text\"\"\"\n",
    "    if text == None or len(text) < min_len:\n",
    "        return 0\n",
    "    else:\n",
    "        return len(RE_SUSPICIOUS.findall(text))/len(text)"
   ]
  },
  {
   "cell_type": "code",
   "execution_count": 115,
   "metadata": {},
   "outputs": [
    {
     "data": {
      "text/plain": [
       "<bound method Series.apply of 0      Veteran infielder José Iglesias has opted out of his minor league deal with the Padres, reports ...\n",
       "1      The Padres expect to welcome right-hander Seth Lugo back into the fold on Tuesday, when he figur...\n",
       "2      In a somewhat unusual move, the Padres have selected the contract of outfielder Preston Tucker b...\n",
       "3      Early in the year, there was a decent amount of trepidation about Juan Soto. The Padres supersta...\n",
       "4      Former big league reliever Jack Baldschun passed away this week after a battle with leukemia, ac...\n",
       "                                                      ...                                                 \n",
       "995    Franchy Cordero has suffered another setback while rehabbing a quad injury, Jeff Sanders of the ...\n",
       "996    Padres southpaw Adrian Morejon will not make it back to the bigs in 2019, Dennis Lin of The Athl...\n",
       "997    The Padres announced prior to tonight’s game that they’ve selected the contract of infielder Set...\n",
       "998    The Padres announced Monday that they’ve selected the contract of right-hander Ronald Bolanos fr...\n",
       "999    We’ll track the flurry of notable callups as roster expand on September 1.\\nLatest Moves\\n\\nThe ...\n",
       "Name: Content, Length: 1000, dtype: object>"
      ]
     },
     "execution_count": 115,
     "metadata": {},
     "output_type": "execute_result"
    }
   ],
   "source": [
    "merged_sd_df['Content'].apply"
   ]
  },
  {
   "cell_type": "code",
   "execution_count": 116,
   "metadata": {},
   "outputs": [
    {
     "data": {
      "text/html": [
       "<div>\n",
       "<style scoped>\n",
       "    .dataframe tbody tr th:only-of-type {\n",
       "        vertical-align: middle;\n",
       "    }\n",
       "\n",
       "    .dataframe tbody tr th {\n",
       "        vertical-align: top;\n",
       "    }\n",
       "\n",
       "    .dataframe thead th {\n",
       "        text-align: right;\n",
       "    }\n",
       "</style>\n",
       "<table border=\"1\" class=\"dataframe\">\n",
       "  <thead>\n",
       "    <tr style=\"text-align: right;\">\n",
       "      <th></th>\n",
       "      <th>Content</th>\n",
       "      <th>impurity</th>\n",
       "    </tr>\n",
       "  </thead>\n",
       "  <tbody>\n",
       "    <tr>\n",
       "      <th>57</th>\n",
       "      <td>Jake Cronenworth signed a seven-year, $80MM extension with the Padres, so what does that mean fo...</td>\n",
       "      <td>0.009479</td>\n",
       "    </tr>\n",
       "    <tr>\n",
       "      <th>127</th>\n",
       "      <td>Major League Baseball’s international signing period for 2023 has officially opened up today, wi...</td>\n",
       "      <td>0.005563</td>\n",
       "    </tr>\n",
       "    <tr>\n",
       "      <th>838</th>\n",
       "      <td>What is the role of the Players’ Union in the Astros’ sign-stealing scandal? Why are the Padres ...</td>\n",
       "      <td>0.003484</td>\n",
       "    </tr>\n",
       "  </tbody>\n",
       "</table>\n",
       "</div>"
      ],
      "text/plain": [
       "                                                                                                 Content  \\\n",
       "57   Jake Cronenworth signed a seven-year, $80MM extension with the Padres, so what does that mean fo...   \n",
       "127  Major League Baseball’s international signing period for 2023 has officially opened up today, wi...   \n",
       "838  What is the role of the Players’ Union in the Astros’ sign-stealing scandal? Why are the Padres ...   \n",
       "\n",
       "     impurity  \n",
       "57   0.009479  \n",
       "127  0.005563  \n",
       "838  0.003484  "
      ]
     },
     "execution_count": 116,
     "metadata": {},
     "output_type": "execute_result"
    }
   ],
   "source": [
    "pd.options.display.max_colwidth = 100 ###\n",
    "# add new column to data frame\n",
    "merged_sd_df['impurity'] = merged_sd_df['Content'].apply(impurity, min_len=10)\n",
    "\n",
    "# get the top 3 records\n",
    "merged_sd_df[['Content', 'impurity']].sort_values(by='impurity', ascending=False).head(3)"
   ]
  },
  {
   "attachments": {},
   "cell_type": "markdown",
   "metadata": {},
   "source": [
    "The above shows the highest impurity levels for this data set.  Note, these are extremely low...well below 1% of all characters in each blog post are suspicious.\n",
    "\n",
    "Now we'll do some character normalization and tokenization"
   ]
  },
  {
   "cell_type": "code",
   "execution_count": null,
   "metadata": {},
   "outputs": [],
   "source": [
    "import re\n",
    "import string\n",
    "from nltk.tokenize import word_tokenize\n",
    "from nltk.corpus import stopwords\n",
    "from nltk.stem import PorterStemmer\n",
    "\n",
    "# Example function to normalize the text in the \"Contents\" column\n",
    "def normalize_text(text):\n",
    "    # Lowercase the text\n",
    "    text = text.lower()\n",
    "\n",
    "    # Remove punctuation\n",
    "    text = text.translate(str.maketrans(\"\", \"\", string.punctuation))\n",
    "\n",
    "    # Remove special characters and digits\n",
    "    text = re.sub(r\"[^a-zA-Z]\", \" \", text)\n",
    "\n",
    "    # Tokenize the text\n",
    "    tokens = word_tokenize(text)\n",
    "\n",
    "    # Remove stopwords\n",
    "    stop_words = set(stopwords.words(\"english\"))\n",
    "    tokens = [token for token in tokens if token not in stop_words]\n",
    "\n",
    "    # Perform stemming\n",
    "    stemmer = PorterStemmer()\n",
    "    tokens = [stemmer.stem(token) for token in tokens]\n",
    "\n",
    "    return tokens"
   ]
  },
  {
   "cell_type": "code",
   "execution_count": 117,
   "metadata": {},
   "outputs": [
    {
     "data": {
      "text/html": [
       "<div>\n",
       "<style scoped>\n",
       "    .dataframe tbody tr th:only-of-type {\n",
       "        vertical-align: middle;\n",
       "    }\n",
       "\n",
       "    .dataframe tbody tr th {\n",
       "        vertical-align: top;\n",
       "    }\n",
       "\n",
       "    .dataframe thead th {\n",
       "        text-align: right;\n",
       "    }\n",
       "</style>\n",
       "<table border=\"1\" class=\"dataframe\">\n",
       "  <thead>\n",
       "    <tr style=\"text-align: right;\">\n",
       "      <th></th>\n",
       "      <th>Content</th>\n",
       "      <th>Contents_Normalized</th>\n",
       "    </tr>\n",
       "  </thead>\n",
       "  <tbody>\n",
       "    <tr>\n",
       "      <th>0</th>\n",
       "      <td>Veteran infielder José Iglesias has opted out of his minor league deal with the Padres, reports ...</td>\n",
       "      <td>[veteran, infield, jo, iglesia, opt, minor, leagu, deal, padr, report, mark, feinsand, mlbcom, t...</td>\n",
       "    </tr>\n",
       "    <tr>\n",
       "      <th>1</th>\n",
       "      <td>The Padres expect to welcome right-hander Seth Lugo back into the fold on Tuesday, when he figur...</td>\n",
       "      <td>[padr, expect, welcom, righthand, seth, lugo, back, fold, tuesday, figur, start, giant, san, fra...</td>\n",
       "    </tr>\n",
       "    <tr>\n",
       "      <th>2</th>\n",
       "      <td>In a somewhat unusual move, the Padres have selected the contract of outfielder Preston Tucker b...</td>\n",
       "      <td>[somewhat, unusu, move, padr, select, contract, outfield, preston, tucker, promptli, place, day,...</td>\n",
       "    </tr>\n",
       "    <tr>\n",
       "      <th>3</th>\n",
       "      <td>Early in the year, there was a decent amount of trepidation about Juan Soto. The Padres supersta...</td>\n",
       "      <td>[earli, year, decent, amount, trepid, juan, soto, padr, superstar, still, reach, base, excel, cl...</td>\n",
       "    </tr>\n",
       "    <tr>\n",
       "      <th>4</th>\n",
       "      <td>Former big league reliever Jack Baldschun passed away this week after a battle with leukemia, ac...</td>\n",
       "      <td>[former, big, leagu, reliev, jack, baldschun, pass, away, week, battl, leukemia, accord, obituar...</td>\n",
       "    </tr>\n",
       "  </tbody>\n",
       "</table>\n",
       "</div>"
      ],
      "text/plain": [
       "                                                                                               Content  \\\n",
       "0  Veteran infielder José Iglesias has opted out of his minor league deal with the Padres, reports ...   \n",
       "1  The Padres expect to welcome right-hander Seth Lugo back into the fold on Tuesday, when he figur...   \n",
       "2  In a somewhat unusual move, the Padres have selected the contract of outfielder Preston Tucker b...   \n",
       "3  Early in the year, there was a decent amount of trepidation about Juan Soto. The Padres supersta...   \n",
       "4  Former big league reliever Jack Baldschun passed away this week after a battle with leukemia, ac...   \n",
       "\n",
       "                                                                                   Contents_Normalized  \n",
       "0  [veteran, infield, jo, iglesia, opt, minor, leagu, deal, padr, report, mark, feinsand, mlbcom, t...  \n",
       "1  [padr, expect, welcom, righthand, seth, lugo, back, fold, tuesday, figur, start, giant, san, fra...  \n",
       "2  [somewhat, unusu, move, padr, select, contract, outfield, preston, tucker, promptli, place, day,...  \n",
       "3  [earli, year, decent, amount, trepid, juan, soto, padr, superstar, still, reach, base, excel, cl...  \n",
       "4  [former, big, leagu, reliev, jack, baldschun, pass, away, week, battl, leukemia, accord, obituar...  "
      ]
     },
     "execution_count": 117,
     "metadata": {},
     "output_type": "execute_result"
    }
   ],
   "source": [
    "# Apply normalization to the \"Contents\" column\n",
    "merged_sd_df[\"Contents_Normalized\"] = merged_sd_df[\"Content\"].apply(normalize_text)\n",
    "\n",
    "# Print the head of the DataFrame with the normalized contents\n",
    "merged_sd_df[[\"Content\", \"Contents_Normalized\"]].head()"
   ]
  },
  {
   "cell_type": "code",
   "execution_count": 118,
   "metadata": {},
   "outputs": [
    {
     "data": {
      "text/html": [
       "<div>\n",
       "<style scoped>\n",
       "    .dataframe tbody tr th:only-of-type {\n",
       "        vertical-align: middle;\n",
       "    }\n",
       "\n",
       "    .dataframe tbody tr th {\n",
       "        vertical-align: top;\n",
       "    }\n",
       "\n",
       "    .dataframe thead th {\n",
       "        text-align: right;\n",
       "    }\n",
       "</style>\n",
       "<table border=\"1\" class=\"dataframe\">\n",
       "  <thead>\n",
       "    <tr style=\"text-align: right;\">\n",
       "      <th></th>\n",
       "      <th>Title</th>\n",
       "      <th>Author</th>\n",
       "      <th>Date</th>\n",
       "      <th>Content</th>\n",
       "      <th>Year</th>\n",
       "      <th>success</th>\n",
       "      <th>Year_Successful</th>\n",
       "      <th>impurity</th>\n",
       "      <th>Contents_Normalized</th>\n",
       "      <th>length</th>\n",
       "    </tr>\n",
       "  </thead>\n",
       "  <tbody>\n",
       "    <tr>\n",
       "      <th>0</th>\n",
       "      <td>Jose Iglesias Opts Out Of Contract With Padres</td>\n",
       "      <td>Anthony Franco</td>\n",
       "      <td>2023-06-19</td>\n",
       "      <td>Veteran infielder José Iglesias has opted out of his minor league deal with the Padres, reports ...</td>\n",
       "      <td>2023</td>\n",
       "      <td>0</td>\n",
       "      <td>0</td>\n",
       "      <td>0.0</td>\n",
       "      <td>[veteran, infield, jo, iglesia, opt, minor, leagu, deal, padr, report, mark, feinsand, mlbcom, t...</td>\n",
       "      <td>181</td>\n",
       "    </tr>\n",
       "    <tr>\n",
       "      <th>1</th>\n",
       "      <td>Seth Lugo To Return Tuesday</td>\n",
       "      <td>Nick Deeds</td>\n",
       "      <td>2023-06-18</td>\n",
       "      <td>The Padres expect to welcome right-hander Seth Lugo back into the fold on Tuesday, when he figur...</td>\n",
       "      <td>2023</td>\n",
       "      <td>0</td>\n",
       "      <td>0</td>\n",
       "      <td>0.0</td>\n",
       "      <td>[padr, expect, welcom, righthand, seth, lugo, back, fold, tuesday, figur, start, giant, san, fra...</td>\n",
       "      <td>76</td>\n",
       "    </tr>\n",
       "    <tr>\n",
       "      <th>2</th>\n",
       "      <td>Padres Select Preston Tucker</td>\n",
       "      <td>Nick Deeds</td>\n",
       "      <td>2023-06-18</td>\n",
       "      <td>In a somewhat unusual move, the Padres have selected the contract of outfielder Preston Tucker b...</td>\n",
       "      <td>2023</td>\n",
       "      <td>0</td>\n",
       "      <td>0</td>\n",
       "      <td>0.0</td>\n",
       "      <td>[somewhat, unusu, move, padr, select, contract, outfield, preston, tucker, promptli, place, day,...</td>\n",
       "      <td>306</td>\n",
       "    </tr>\n",
       "    <tr>\n",
       "      <th>3</th>\n",
       "      <td>Juan Soto Has Found His Stride After Slow Start</td>\n",
       "      <td>Anthony Franco</td>\n",
       "      <td>2023-06-13</td>\n",
       "      <td>Early in the year, there was a decent amount of trepidation about Juan Soto. The Padres supersta...</td>\n",
       "      <td>2023</td>\n",
       "      <td>0</td>\n",
       "      <td>0</td>\n",
       "      <td>0.0</td>\n",
       "      <td>[earli, year, decent, amount, trepid, juan, soto, padr, superstar, still, reach, base, excel, cl...</td>\n",
       "      <td>363</td>\n",
       "    </tr>\n",
       "    <tr>\n",
       "      <th>4</th>\n",
       "      <td>Jack Baldschun Passes Away</td>\n",
       "      <td>Anthony Franco</td>\n",
       "      <td>2023-06-09</td>\n",
       "      <td>Former big league reliever Jack Baldschun passed away this week after a battle with leukemia, ac...</td>\n",
       "      <td>2023</td>\n",
       "      <td>0</td>\n",
       "      <td>0</td>\n",
       "      <td>0.0</td>\n",
       "      <td>[former, big, leagu, reliev, jack, baldschun, pass, away, week, battl, leukemia, accord, obituar...</td>\n",
       "      <td>219</td>\n",
       "    </tr>\n",
       "  </tbody>\n",
       "</table>\n",
       "</div>"
      ],
      "text/plain": [
       "                                             Title          Author       Date  \\\n",
       "0   Jose Iglesias Opts Out Of Contract With Padres  Anthony Franco 2023-06-19   \n",
       "1                      Seth Lugo To Return Tuesday      Nick Deeds 2023-06-18   \n",
       "2                     Padres Select Preston Tucker      Nick Deeds 2023-06-18   \n",
       "3  Juan Soto Has Found His Stride After Slow Start  Anthony Franco 2023-06-13   \n",
       "4                       Jack Baldschun Passes Away  Anthony Franco 2023-06-09   \n",
       "\n",
       "                                                                                               Content  \\\n",
       "0  Veteran infielder José Iglesias has opted out of his minor league deal with the Padres, reports ...   \n",
       "1  The Padres expect to welcome right-hander Seth Lugo back into the fold on Tuesday, when he figur...   \n",
       "2  In a somewhat unusual move, the Padres have selected the contract of outfielder Preston Tucker b...   \n",
       "3  Early in the year, there was a decent amount of trepidation about Juan Soto. The Padres supersta...   \n",
       "4  Former big league reliever Jack Baldschun passed away this week after a battle with leukemia, ac...   \n",
       "\n",
       "   Year  success  Year_Successful  impurity  \\\n",
       "0  2023        0                0       0.0   \n",
       "1  2023        0                0       0.0   \n",
       "2  2023        0                0       0.0   \n",
       "3  2023        0                0       0.0   \n",
       "4  2023        0                0       0.0   \n",
       "\n",
       "                                                                                   Contents_Normalized  \\\n",
       "0  [veteran, infield, jo, iglesia, opt, minor, leagu, deal, padr, report, mark, feinsand, mlbcom, t...   \n",
       "1  [padr, expect, welcom, righthand, seth, lugo, back, fold, tuesday, figur, start, giant, san, fra...   \n",
       "2  [somewhat, unusu, move, padr, select, contract, outfield, preston, tucker, promptli, place, day,...   \n",
       "3  [earli, year, decent, amount, trepid, juan, soto, padr, superstar, still, reach, base, excel, cl...   \n",
       "4  [former, big, leagu, reliev, jack, baldschun, pass, away, week, battl, leukemia, accord, obituar...   \n",
       "\n",
       "   length  \n",
       "0     181  \n",
       "1      76  \n",
       "2     306  \n",
       "3     363  \n",
       "4     219  "
      ]
     },
     "execution_count": 118,
     "metadata": {},
     "output_type": "execute_result"
    }
   ],
   "source": [
    "merged_sd_df['length'] = merged_sd_df['Contents_Normalized'].str.len()\n",
    "merged_sd_df.head()"
   ]
  },
  {
   "attachments": {},
   "cell_type": "markdown",
   "metadata": {},
   "source": [
    "## Look at descriptive stats for text in dataframe"
   ]
  },
  {
   "cell_type": "code",
   "execution_count": 119,
   "metadata": {},
   "outputs": [
    {
     "data": {
      "text/plain": [
       "<AxesSubplot:>"
      ]
     },
     "execution_count": 119,
     "metadata": {},
     "output_type": "execute_result"
    },
    {
     "data": {
      "image/png": "[encoded data removed]",
      "text/plain": [
       "<Figure size 576x72 with 1 Axes>"
      ]
     },
     "metadata": {
      "needs_background": "light"
     },
     "output_type": "display_data"
    }
   ],
   "source": [
    "merged_sd_df['length'].plot(kind='box', vert=False, figsize=(8, 1))"
   ]
  },
  {
   "cell_type": "code",
   "execution_count": 121,
   "metadata": {},
   "outputs": [
    {
     "data": {
      "text/plain": [
       "<AxesSubplot:>"
      ]
     },
     "execution_count": 121,
     "metadata": {},
     "output_type": "execute_result"
    },
    {
     "data": {
      "image/png": "[encoded data removed]",
      "text/plain": [
       "<Figure size 576x72 with 1 Axes>"
      ]
     },
     "metadata": {
      "needs_background": "light"
     },
     "output_type": "display_data"
    }
   ],
   "source": [
    "merged_sd_df['Title_length'] = merged_sd_df['Title'].str.len()\n",
    "merged_sd_df['Title_length'].plot(kind='box', vert=False, figsize=(8, 1))"
   ]
  },
  {
   "cell_type": "code",
   "execution_count": 122,
   "metadata": {},
   "outputs": [
    {
     "data": {
      "text/plain": [
       "<AxesSubplot:ylabel='Frequency'>"
      ]
     },
     "execution_count": 122,
     "metadata": {},
     "output_type": "execute_result"
    },
    {
     "data": {
      "image/png": "[encoded data removed]",
      "text/plain": [
       "<Figure size 576x144 with 1 Axes>"
      ]
     },
     "metadata": {
      "needs_background": "light"
     },
     "output_type": "display_data"
    }
   ],
   "source": [
    "merged_sd_df['length'].plot(kind='hist', bins=30, figsize=(8,2))"
   ]
  },
  {
   "cell_type": "code",
   "execution_count": 123,
   "metadata": {},
   "outputs": [],
   "source": [
    "# Extract the month from the date and create a new column\n",
    "merged_sd_df['Month'] = merged_sd_df['Date'].dt.month"
   ]
  },
  {
   "cell_type": "code",
   "execution_count": 124,
   "metadata": {},
   "outputs": [
    {
     "data": {
      "text/plain": [
       "<AxesSubplot:title={'center':'Avg. Post Length'}, xlabel='Month'>"
      ]
     },
     "execution_count": 124,
     "metadata": {},
     "output_type": "execute_result"
    },
    {
     "data": {
      "image/png": "[encoded data removed]",
      "text/plain": [
       "<Figure size 432x144 with 1 Axes>"
      ]
     },
     "metadata": {
      "needs_background": "light"
     },
     "output_type": "display_data"
    }
   ],
   "source": [
    "# Plot the average post length\n",
    "merged_sd_df.groupby('Month').agg({'length': 'mean'}) \\\n",
    "  .plot(title=\"Avg. Post Length\", ylim=(0,500), figsize=(6,2))"
   ]
  },
  {
   "cell_type": "code",
   "execution_count": null,
   "metadata": {},
   "outputs": [],
   "source": [
    "def count_words(df, column='Contents_Normalized', preprocess=None, min_freq=2):\n",
    "\n",
    "    # process tokens and update counter\n",
    "    def update(doc):\n",
    "        tokens = doc if preprocess is None else preprocess(doc)\n",
    "        counter.update(tokens)\n",
    "\n",
    "    # create counter and run through all data\n",
    "    counter = Counter()\n",
    "    tqdm.pandas() #initialize tqdm for progress bar\n",
    "    df[column].apply(update)\n",
    "\n",
    "    # transform counter into data frame\n",
    "    freq_df = pd.DataFrame.from_dict(counter, orient='index', columns=['freq'])\n",
    "    freq_df = freq_df.query('freq >= @min_freq')\n",
    "    freq_df.index.name = 'token'\n",
    "    \n",
    "    return freq_df.sort_values('freq', ascending=False)"
   ]
  },
  {
   "cell_type": "code",
   "execution_count": 125,
   "metadata": {},
   "outputs": [
    {
     "data": {
      "text/html": [
       "<div>\n",
       "<style scoped>\n",
       "    .dataframe tbody tr th:only-of-type {\n",
       "        vertical-align: middle;\n",
       "    }\n",
       "\n",
       "    .dataframe tbody tr th {\n",
       "        vertical-align: top;\n",
       "    }\n",
       "\n",
       "    .dataframe thead th {\n",
       "        text-align: right;\n",
       "    }\n",
       "</style>\n",
       "<table border=\"1\" class=\"dataframe\">\n",
       "  <thead>\n",
       "    <tr style=\"text-align: right;\">\n",
       "      <th></th>\n",
       "      <th>freq</th>\n",
       "    </tr>\n",
       "    <tr>\n",
       "      <th>token</th>\n",
       "      <th></th>\n",
       "    </tr>\n",
       "  </thead>\n",
       "  <tbody>\n",
       "    <tr>\n",
       "      <th>padr</th>\n",
       "      <td>3767</td>\n",
       "    </tr>\n",
       "    <tr>\n",
       "      <th>season</th>\n",
       "      <td>3481</td>\n",
       "    </tr>\n",
       "    <tr>\n",
       "      <th>year</th>\n",
       "      <td>2697</td>\n",
       "    </tr>\n",
       "    <tr>\n",
       "      <th>mm</th>\n",
       "      <td>2363</td>\n",
       "    </tr>\n",
       "    <tr>\n",
       "      <th>leagu</th>\n",
       "      <td>1831</td>\n",
       "    </tr>\n",
       "  </tbody>\n",
       "</table>\n",
       "</div>"
      ],
      "text/plain": [
       "        freq\n",
       "token       \n",
       "padr    3767\n",
       "season  3481\n",
       "year    2697\n",
       "mm      2363\n",
       "leagu   1831"
      ]
     },
     "execution_count": 125,
     "metadata": {},
     "output_type": "execute_result"
    }
   ],
   "source": [
    "freq_df = count_words(merged_sd_df)\n",
    "freq_df.head(5)"
   ]
  },
  {
   "cell_type": "code",
   "execution_count": 126,
   "metadata": {},
   "outputs": [
    {
     "data": {
      "text/plain": [
       "6529"
      ]
     },
     "execution_count": 126,
     "metadata": {},
     "output_type": "execute_result"
    }
   ],
   "source": [
    "#How many tokens are in the df?\n",
    "len(freq_df)"
   ]
  },
  {
   "cell_type": "code",
   "execution_count": 127,
   "metadata": {},
   "outputs": [
    {
     "data": {
      "text/plain": [
       "[Text(0.5, 0, 'Frequency'), Text(0, 0.5, 'Token'), Text(0.5, 1.0, 'Top Words')]"
      ]
     },
     "execution_count": 127,
     "metadata": {},
     "output_type": "execute_result"
    },
    {
     "data": {
      "image/png": "[encoded data removed]",
      "text/plain": [
       "<Figure size 576x216 with 1 Axes>"
      ]
     },
     "metadata": {
      "needs_background": "light"
     },
     "output_type": "display_data"
    }
   ],
   "source": [
    "# top words with 10+ characters\n",
    "count_words(merged_sd_df, column='Content', \n",
    "            preprocess=lambda Content: re.findall(r\"\\w{10,}\", Content)).head(5)\n",
    "\n",
    "\n",
    "ax = freq_df.head(15).plot(kind='barh', width=0.95, figsize=(8,3))\n",
    "ax.invert_yaxis()\n",
    "ax.set(xlabel='Frequency', ylabel='Token', title='Top Words')"
   ]
  },
  {
   "attachments": {},
   "cell_type": "markdown",
   "metadata": {},
   "source": [
    "# Combine to one df for further analysis and modeling"
   ]
  },
  {
   "cell_type": "code",
   "execution_count": 129,
   "metadata": {},
   "outputs": [
    {
     "data": {
      "text/plain": [
       "2000"
      ]
     },
     "execution_count": 129,
     "metadata": {},
     "output_type": "execute_result"
    }
   ],
   "source": [
    "comb_df = pd.concat([merged_df, merged_sd_df], ignore_index= True)\n",
    "len(comb_df)"
   ]
  },
  {
   "cell_type": "code",
   "execution_count": 130,
   "metadata": {},
   "outputs": [
    {
     "data": {
      "text/html": [
       "<div>\n",
       "<style scoped>\n",
       "    .dataframe tbody tr th:only-of-type {\n",
       "        vertical-align: middle;\n",
       "    }\n",
       "\n",
       "    .dataframe tbody tr th {\n",
       "        vertical-align: top;\n",
       "    }\n",
       "\n",
       "    .dataframe thead th {\n",
       "        text-align: right;\n",
       "    }\n",
       "</style>\n",
       "<table border=\"1\" class=\"dataframe\">\n",
       "  <thead>\n",
       "    <tr style=\"text-align: right;\">\n",
       "      <th></th>\n",
       "      <th>Title</th>\n",
       "      <th>Author</th>\n",
       "      <th>Date</th>\n",
       "      <th>Content</th>\n",
       "      <th>Year</th>\n",
       "      <th>success</th>\n",
       "      <th>Year_Successful</th>\n",
       "      <th>impurity</th>\n",
       "      <th>Contents_Normalized</th>\n",
       "      <th>length</th>\n",
       "      <th>Title_length</th>\n",
       "      <th>Month</th>\n",
       "    </tr>\n",
       "  </thead>\n",
       "  <tbody>\n",
       "    <tr>\n",
       "      <th>0</th>\n",
       "      <td>Sean Doolittle Completes Rehab Assignment, Heads To Triple-A Rochester</td>\n",
       "      <td>Steve Adams</td>\n",
       "      <td>2023-06-15</td>\n",
       "      <td>Veteran lefty Sean Doolittle was transferred from the Nationals’ Double-A affiliate to their Tri...</td>\n",
       "      <td>2023</td>\n",
       "      <td>0</td>\n",
       "      <td>0</td>\n",
       "      <td>0.000000</td>\n",
       "      <td>[veteran, lefti, sean, doolittl, transfer, nation, doublea, affili, triplea, club, thursday, sig...</td>\n",
       "      <td>60</td>\n",
       "      <td>70</td>\n",
       "      <td>6</td>\n",
       "    </tr>\n",
       "    <tr>\n",
       "      <th>1</th>\n",
       "      <td>Nationals Release Erasmo Ramírez</td>\n",
       "      <td>Darragh McDonald</td>\n",
       "      <td>2023-06-09</td>\n",
       "      <td>The Nationals have released right-hander Erasmo Ramírez, according to his transactions tracker a...</td>\n",
       "      <td>2023</td>\n",
       "      <td>0</td>\n",
       "      <td>0</td>\n",
       "      <td>0.000000</td>\n",
       "      <td>[nation, releas, righthand, erasmo, ram, rez, accord, transact, tracker, mlbcom, design, assign,...</td>\n",
       "      <td>130</td>\n",
       "      <td>32</td>\n",
       "      <td>6</td>\n",
       "    </tr>\n",
       "    <tr>\n",
       "      <th>2</th>\n",
       "      <td>Best Deadline Rental Returns In Recent History, #8: Nationals Get Everyday Outfielder For Jon Le...</td>\n",
       "      <td>Darragh McDonald</td>\n",
       "      <td>2023-06-08</td>\n",
       "      <td>With the trade deadline now less than two months away, we at MLBTR are setting our sights backwa...</td>\n",
       "      <td>2023</td>\n",
       "      <td>0</td>\n",
       "      <td>0</td>\n",
       "      <td>0.000441</td>\n",
       "      <td>[trade, deadlin, less, two, month, away, mlbtr, set, sight, backward, bit, highlight, past, trad...</td>\n",
       "      <td>607</td>\n",
       "      <td>100</td>\n",
       "      <td>6</td>\n",
       "    </tr>\n",
       "    <tr>\n",
       "      <th>3</th>\n",
       "      <td>Nationals Claim Joe La Sorsa</td>\n",
       "      <td>Steve Adams</td>\n",
       "      <td>2023-06-08</td>\n",
       "      <td>The Nationals have claimed left-hander Joe La Sorsa off waivers from the Rays, the team announce...</td>\n",
       "      <td>2023</td>\n",
       "      <td>0</td>\n",
       "      <td>0</td>\n",
       "      <td>0.000000</td>\n",
       "      <td>[nation, claim, lefthand, joe, la, sorsa, waiver, ray, team, announc, thursday, la, sorsa, desig...</td>\n",
       "      <td>158</td>\n",
       "      <td>28</td>\n",
       "      <td>6</td>\n",
       "    </tr>\n",
       "    <tr>\n",
       "      <th>4</th>\n",
       "      <td>Nationals Outright Andres Machado</td>\n",
       "      <td>Anthony Franco</td>\n",
       "      <td>2023-06-07</td>\n",
       "      <td>Nationals reliever Andrés Machado has gone unclaimed on waivers after being designated for assig...</td>\n",
       "      <td>2023</td>\n",
       "      <td>0</td>\n",
       "      <td>0</td>\n",
       "      <td>0.000000</td>\n",
       "      <td>[nation, reliev, andr, machado, gone, unclaim, waiver, design, assign, week, club, announc, mach...</td>\n",
       "      <td>136</td>\n",
       "      <td>33</td>\n",
       "      <td>6</td>\n",
       "    </tr>\n",
       "  </tbody>\n",
       "</table>\n",
       "</div>"
      ],
      "text/plain": [
       "                                                                                                 Title  \\\n",
       "0                               Sean Doolittle Completes Rehab Assignment, Heads To Triple-A Rochester   \n",
       "1                                                                     Nationals Release Erasmo Ramírez   \n",
       "2  Best Deadline Rental Returns In Recent History, #8: Nationals Get Everyday Outfielder For Jon Le...   \n",
       "3                                                                         Nationals Claim Joe La Sorsa   \n",
       "4                                                                    Nationals Outright Andres Machado   \n",
       "\n",
       "             Author       Date  \\\n",
       "0       Steve Adams 2023-06-15   \n",
       "1  Darragh McDonald 2023-06-09   \n",
       "2  Darragh McDonald 2023-06-08   \n",
       "3       Steve Adams 2023-06-08   \n",
       "4    Anthony Franco 2023-06-07   \n",
       "\n",
       "                                                                                               Content  \\\n",
       "0  Veteran lefty Sean Doolittle was transferred from the Nationals’ Double-A affiliate to their Tri...   \n",
       "1  The Nationals have released right-hander Erasmo Ramírez, according to his transactions tracker a...   \n",
       "2  With the trade deadline now less than two months away, we at MLBTR are setting our sights backwa...   \n",
       "3  The Nationals have claimed left-hander Joe La Sorsa off waivers from the Rays, the team announce...   \n",
       "4  Nationals reliever Andrés Machado has gone unclaimed on waivers after being designated for assig...   \n",
       "\n",
       "   Year  success  Year_Successful  impurity  \\\n",
       "0  2023        0                0  0.000000   \n",
       "1  2023        0                0  0.000000   \n",
       "2  2023        0                0  0.000441   \n",
       "3  2023        0                0  0.000000   \n",
       "4  2023        0                0  0.000000   \n",
       "\n",
       "                                                                                   Contents_Normalized  \\\n",
       "0  [veteran, lefti, sean, doolittl, transfer, nation, doublea, affili, triplea, club, thursday, sig...   \n",
       "1  [nation, releas, righthand, erasmo, ram, rez, accord, transact, tracker, mlbcom, design, assign,...   \n",
       "2  [trade, deadlin, less, two, month, away, mlbtr, set, sight, backward, bit, highlight, past, trad...   \n",
       "3  [nation, claim, lefthand, joe, la, sorsa, waiver, ray, team, announc, thursday, la, sorsa, desig...   \n",
       "4  [nation, reliev, andr, machado, gone, unclaim, waiver, design, assign, week, club, announc, mach...   \n",
       "\n",
       "   length  Title_length  Month  \n",
       "0      60            70      6  \n",
       "1     130            32      6  \n",
       "2     607           100      6  \n",
       "3     158            28      6  \n",
       "4     136            33      6  "
      ]
     },
     "execution_count": 130,
     "metadata": {},
     "output_type": "execute_result"
    }
   ],
   "source": [
    "comb_df.head()"
   ]
  },
  {
   "cell_type": "code",
   "execution_count": 131,
   "metadata": {},
   "outputs": [
    {
     "data": {
      "image/png": "[encoded data removed]",
      "text/plain": [
       "<Figure size 432x288 with 1 Axes>"
      ]
     },
     "metadata": {
      "needs_background": "light"
     },
     "output_type": "display_data"
    }
   ],
   "source": [
    "# Count the number of successes and failures\n",
    "success_counts = comb_df['success'].value_counts()\n",
    "\n",
    "# Create a bar plot\n",
    "plt.bar(success_counts.index, success_counts.values)\n",
    "plt.xticks(success_counts.index, ['Failure', 'Success'])\n",
    "plt.xlabel('Success')\n",
    "plt.ylabel('Count')\n",
    "plt.title('Success Counts')\n",
    "\n",
    "# Display the plot\n",
    "plt.show()"
   ]
  },
  {
   "attachments": {},
   "cell_type": "markdown",
   "metadata": {},
   "source": [
    "# Modeling"
   ]
  },
  {
   "attachments": {},
   "cell_type": "markdown",
   "metadata": {},
   "source": [
    "## Logistic Regression Modeling"
   ]
  },
  {
   "cell_type": "code",
   "execution_count": 132,
   "metadata": {},
   "outputs": [],
   "source": [
    "from sklearn.feature_extraction.text import TfidfVectorizer\n",
    "from sklearn.linear_model import LogisticRegression\n",
    "from sklearn.model_selection import train_test_split\n",
    "from sklearn.metrics import accuracy_score"
   ]
  },
  {
   "cell_type": "code",
   "execution_count": 133,
   "metadata": {},
   "outputs": [],
   "source": [
    "X_train, X_test, y_train, y_test = train_test_split(comb_df['Content'], comb_df['success'], test_size=0.2, random_state=42)\n"
   ]
  },
  {
   "cell_type": "code",
   "execution_count": 134,
   "metadata": {},
   "outputs": [],
   "source": [
    "vectorizer = TfidfVectorizer()\n",
    "X_train_vec = vectorizer.fit_transform(X_train)\n",
    "X_test_vec = vectorizer.transform(X_test)"
   ]
  },
  {
   "cell_type": "code",
   "execution_count": 135,
   "metadata": {},
   "outputs": [
    {
     "data": {
      "text/html": [
       "<style>#sk-container-id-1 {color: black;background-color: white;}#sk-container-id-1 pre{padding: 0;}#sk-container-id-1 div.sk-toggleable {background-color: white;}#sk-container-id-1 label.sk-toggleable__label {cursor: pointer;display: block;width: 100%;margin-bottom: 0;padding: 0.3em;box-sizing: border-box;text-align: center;}#sk-container-id-1 label.sk-toggleable__label-arrow:before {content: \"▸\";float: left;margin-right: 0.25em;color: #696969;}#sk-container-id-1 label.sk-toggleable__label-arrow:hover:before {color: black;}#sk-container-id-1 div.sk-estimator:hover label.sk-toggleable__label-arrow:before {color: black;}#sk-container-id-1 div.sk-toggleable__content {max-height: 0;max-width: 0;overflow: hidden;text-align: left;background-color: #f0f8ff;}#sk-container-id-1 div.sk-toggleable__content pre {margin: 0.2em;color: black;border-radius: 0.25em;background-color: #f0f8ff;}#sk-container-id-1 input.sk-toggleable__control:checked~div.sk-toggleable__content {max-height: 200px;max-width: 100%;overflow: auto;}#sk-container-id-1 input.sk-toggleable__control:checked~label.sk-toggleable__label-arrow:before {content: \"▾\";}#sk-container-id-1 div.sk-estimator input.sk-toggleable__control:checked~label.sk-toggleable__label {background-color: #d4ebff;}#sk-container-id-1 div.sk-label input.sk-toggleable__control:checked~label.sk-toggleable__label {background-color: #d4ebff;}#sk-container-id-1 input.sk-hidden--visually {border: 0;clip: rect(1px 1px 1px 1px);clip: rect(1px, 1px, 1px, 1px);height: 1px;margin: -1px;overflow: hidden;padding: 0;position: absolute;width: 1px;}#sk-container-id-1 div.sk-estimator {font-family: monospace;background-color: #f0f8ff;border: 1px dotted black;border-radius: 0.25em;box-sizing: border-box;margin-bottom: 0.5em;}#sk-container-id-1 div.sk-estimator:hover {background-color: #d4ebff;}#sk-container-id-1 div.sk-parallel-item::after {content: \"\";width: 100%;border-bottom: 1px solid gray;flex-grow: 1;}#sk-container-id-1 div.sk-label:hover label.sk-toggleable__label {background-color: #d4ebff;}#sk-container-id-1 div.sk-serial::before {content: \"\";position: absolute;border-left: 1px solid gray;box-sizing: border-box;top: 0;bottom: 0;left: 50%;z-index: 0;}#sk-container-id-1 div.sk-serial {display: flex;flex-direction: column;align-items: center;background-color: white;padding-right: 0.2em;padding-left: 0.2em;position: relative;}#sk-container-id-1 div.sk-item {position: relative;z-index: 1;}#sk-container-id-1 div.sk-parallel {display: flex;align-items: stretch;justify-content: center;background-color: white;position: relative;}#sk-container-id-1 div.sk-item::before, #sk-container-id-1 div.sk-parallel-item::before {content: \"\";position: absolute;border-left: 1px solid gray;box-sizing: border-box;top: 0;bottom: 0;left: 50%;z-index: -1;}#sk-container-id-1 div.sk-parallel-item {display: flex;flex-direction: column;z-index: 1;position: relative;background-color: white;}#sk-container-id-1 div.sk-parallel-item:first-child::after {align-self: flex-end;width: 50%;}#sk-container-id-1 div.sk-parallel-item:last-child::after {align-self: flex-start;width: 50%;}#sk-container-id-1 div.sk-parallel-item:only-child::after {width: 0;}#sk-container-id-1 div.sk-dashed-wrapped {border: 1px dashed gray;margin: 0 0.4em 0.5em 0.4em;box-sizing: border-box;padding-bottom: 0.4em;background-color: white;}#sk-container-id-1 div.sk-label label {font-family: monospace;font-weight: bold;display: inline-block;line-height: 1.2em;}#sk-container-id-1 div.sk-label-container {text-align: center;}#sk-container-id-1 div.sk-container {/* jupyter's `normalize.less` sets `[hidden] { display: none; }` but bootstrap.min.css set `[hidden] { display: none !important; }` so we also need the `!important` here to be able to override the default hidden behavior on the sphinx rendered scikit-learn.org. See: https://github.com/scikit-learn/scikit-learn/issues/21755 */display: inline-block !important;position: relative;}#sk-container-id-1 div.sk-text-repr-fallback {display: none;}</style><div id=\"sk-container-id-1\" class=\"sk-top-container\"><div class=\"sk-text-repr-fallback\"><pre>LogisticRegression()</pre><b>In a Jupyter environment, please rerun this cell to show the HTML representation or trust the notebook. <br />On GitHub, the HTML representation is unable to render, please try loading this page with nbviewer.org.</b></div><div class=\"sk-container\" hidden><div class=\"sk-item\"><div class=\"sk-estimator sk-toggleable\"><input class=\"sk-toggleable__control sk-hidden--visually\" id=\"sk-estimator-id-1\" type=\"checkbox\" checked><label for=\"sk-estimator-id-1\" class=\"sk-toggleable__label sk-toggleable__label-arrow\">LogisticRegression</label><div class=\"sk-toggleable__content\"><pre>LogisticRegression()</pre></div></div></div></div></div>"
      ],
      "text/plain": [
       "LogisticRegression()"
      ]
     },
     "execution_count": 135,
     "metadata": {},
     "output_type": "execute_result"
    }
   ],
   "source": [
    "model = LogisticRegression()\n",
    "model.fit(X_train_vec, y_train)"
   ]
  },
  {
   "cell_type": "code",
   "execution_count": 137,
   "metadata": {},
   "outputs": [],
   "source": [
    "y_pred = model.predict(X_test_vec)"
   ]
  },
  {
   "cell_type": "code",
   "execution_count": 138,
   "metadata": {},
   "outputs": [
    {
     "name": "stdout",
     "output_type": "stream",
     "text": [
      "Accuracy: 0.7425\n"
     ]
    }
   ],
   "source": [
    "accuracy = accuracy_score(y_test, y_pred)\n",
    "print(\"Accuracy:\", accuracy)"
   ]
  },
  {
   "attachments": {},
   "cell_type": "markdown",
   "metadata": {},
   "source": [
    "## Penalized Logistic Regression"
   ]
  },
  {
   "cell_type": "code",
   "execution_count": 146,
   "metadata": {},
   "outputs": [],
   "source": [
    "import pandas as pd\n",
    "from sklearn.feature_extraction.text import TfidfVectorizer\n",
    "from sklearn.linear_model import LogisticRegression\n",
    "from sklearn.model_selection import train_test_split\n",
    "from sklearn.metrics import accuracy_score, classification_report\n",
    "from sklearn.model_selection import GridSearchCV"
   ]
  },
  {
   "cell_type": "code",
   "execution_count": 145,
   "metadata": {},
   "outputs": [
    {
     "name": "stderr",
     "output_type": "stream",
     "text": [
      "c:\\Users\\earne\\Anaconda3\\lib\\site-packages\\sklearn\\linear_model\\_logistic.py:458: ConvergenceWarning: lbfgs failed to converge (status=1):\n",
      "STOP: TOTAL NO. of ITERATIONS REACHED LIMIT.\n",
      "\n",
      "Increase the number of iterations (max_iter) or scale the data as shown in:\n",
      "    https://scikit-learn.org/stable/modules/preprocessing.html\n",
      "Please also refer to the documentation for alternative solver options:\n",
      "    https://scikit-learn.org/stable/modules/linear_model.html#logistic-regression\n",
      "  n_iter_i = _check_optimize_result(\n"
     ]
    }
   ],
   "source": [
    "param_grid = {'C': [0.001, 0.01, 0.1, 1, 10]}\n",
    "grid_search = GridSearchCV(LogisticRegression(penalty='l2'), param_grid, cv=5)\n",
    "grid_search.fit(X_train_vec, y_train)\n",
    "\n",
    "best_C = grid_search.best_params_['C']\n"
   ]
  },
  {
   "cell_type": "code",
   "execution_count": 141,
   "metadata": {},
   "outputs": [
    {
     "name": "stderr",
     "output_type": "stream",
     "text": [
      "c:\\Users\\earne\\Anaconda3\\lib\\site-packages\\sklearn\\linear_model\\_logistic.py:458: ConvergenceWarning: lbfgs failed to converge (status=1):\n",
      "STOP: TOTAL NO. of ITERATIONS REACHED LIMIT.\n",
      "\n",
      "Increase the number of iterations (max_iter) or scale the data as shown in:\n",
      "    https://scikit-learn.org/stable/modules/preprocessing.html\n",
      "Please also refer to the documentation for alternative solver options:\n",
      "    https://scikit-learn.org/stable/modules/linear_model.html#logistic-regression\n",
      "  n_iter_i = _check_optimize_result(\n"
     ]
    },
    {
     "data": {
      "text/html": [
       "<style>#sk-container-id-2 {color: black;background-color: white;}#sk-container-id-2 pre{padding: 0;}#sk-container-id-2 div.sk-toggleable {background-color: white;}#sk-container-id-2 label.sk-toggleable__label {cursor: pointer;display: block;width: 100%;margin-bottom: 0;padding: 0.3em;box-sizing: border-box;text-align: center;}#sk-container-id-2 label.sk-toggleable__label-arrow:before {content: \"▸\";float: left;margin-right: 0.25em;color: #696969;}#sk-container-id-2 label.sk-toggleable__label-arrow:hover:before {color: black;}#sk-container-id-2 div.sk-estimator:hover label.sk-toggleable__label-arrow:before {color: black;}#sk-container-id-2 div.sk-toggleable__content {max-height: 0;max-width: 0;overflow: hidden;text-align: left;background-color: #f0f8ff;}#sk-container-id-2 div.sk-toggleable__content pre {margin: 0.2em;color: black;border-radius: 0.25em;background-color: #f0f8ff;}#sk-container-id-2 input.sk-toggleable__control:checked~div.sk-toggleable__content {max-height: 200px;max-width: 100%;overflow: auto;}#sk-container-id-2 input.sk-toggleable__control:checked~label.sk-toggleable__label-arrow:before {content: \"▾\";}#sk-container-id-2 div.sk-estimator input.sk-toggleable__control:checked~label.sk-toggleable__label {background-color: #d4ebff;}#sk-container-id-2 div.sk-label input.sk-toggleable__control:checked~label.sk-toggleable__label {background-color: #d4ebff;}#sk-container-id-2 input.sk-hidden--visually {border: 0;clip: rect(1px 1px 1px 1px);clip: rect(1px, 1px, 1px, 1px);height: 1px;margin: -1px;overflow: hidden;padding: 0;position: absolute;width: 1px;}#sk-container-id-2 div.sk-estimator {font-family: monospace;background-color: #f0f8ff;border: 1px dotted black;border-radius: 0.25em;box-sizing: border-box;margin-bottom: 0.5em;}#sk-container-id-2 div.sk-estimator:hover {background-color: #d4ebff;}#sk-container-id-2 div.sk-parallel-item::after {content: \"\";width: 100%;border-bottom: 1px solid gray;flex-grow: 1;}#sk-container-id-2 div.sk-label:hover label.sk-toggleable__label {background-color: #d4ebff;}#sk-container-id-2 div.sk-serial::before {content: \"\";position: absolute;border-left: 1px solid gray;box-sizing: border-box;top: 0;bottom: 0;left: 50%;z-index: 0;}#sk-container-id-2 div.sk-serial {display: flex;flex-direction: column;align-items: center;background-color: white;padding-right: 0.2em;padding-left: 0.2em;position: relative;}#sk-container-id-2 div.sk-item {position: relative;z-index: 1;}#sk-container-id-2 div.sk-parallel {display: flex;align-items: stretch;justify-content: center;background-color: white;position: relative;}#sk-container-id-2 div.sk-item::before, #sk-container-id-2 div.sk-parallel-item::before {content: \"\";position: absolute;border-left: 1px solid gray;box-sizing: border-box;top: 0;bottom: 0;left: 50%;z-index: -1;}#sk-container-id-2 div.sk-parallel-item {display: flex;flex-direction: column;z-index: 1;position: relative;background-color: white;}#sk-container-id-2 div.sk-parallel-item:first-child::after {align-self: flex-end;width: 50%;}#sk-container-id-2 div.sk-parallel-item:last-child::after {align-self: flex-start;width: 50%;}#sk-container-id-2 div.sk-parallel-item:only-child::after {width: 0;}#sk-container-id-2 div.sk-dashed-wrapped {border: 1px dashed gray;margin: 0 0.4em 0.5em 0.4em;box-sizing: border-box;padding-bottom: 0.4em;background-color: white;}#sk-container-id-2 div.sk-label label {font-family: monospace;font-weight: bold;display: inline-block;line-height: 1.2em;}#sk-container-id-2 div.sk-label-container {text-align: center;}#sk-container-id-2 div.sk-container {/* jupyter's `normalize.less` sets `[hidden] { display: none; }` but bootstrap.min.css set `[hidden] { display: none !important; }` so we also need the `!important` here to be able to override the default hidden behavior on the sphinx rendered scikit-learn.org. See: https://github.com/scikit-learn/scikit-learn/issues/21755 */display: inline-block !important;position: relative;}#sk-container-id-2 div.sk-text-repr-fallback {display: none;}</style><div id=\"sk-container-id-2\" class=\"sk-top-container\"><div class=\"sk-text-repr-fallback\"><pre>LogisticRegression(C=10)</pre><b>In a Jupyter environment, please rerun this cell to show the HTML representation or trust the notebook. <br />On GitHub, the HTML representation is unable to render, please try loading this page with nbviewer.org.</b></div><div class=\"sk-container\" hidden><div class=\"sk-item\"><div class=\"sk-estimator sk-toggleable\"><input class=\"sk-toggleable__control sk-hidden--visually\" id=\"sk-estimator-id-2\" type=\"checkbox\" checked><label for=\"sk-estimator-id-2\" class=\"sk-toggleable__label sk-toggleable__label-arrow\">LogisticRegression</label><div class=\"sk-toggleable__content\"><pre>LogisticRegression(C=10)</pre></div></div></div></div></div>"
      ],
      "text/plain": [
       "LogisticRegression(C=10)"
      ]
     },
     "execution_count": 141,
     "metadata": {},
     "output_type": "execute_result"
    }
   ],
   "source": [
    "model = LogisticRegression(penalty='l2', C=best_C)\n",
    "model.fit(X_train_vec, y_train)\n"
   ]
  },
  {
   "cell_type": "code",
   "execution_count": 142,
   "metadata": {},
   "outputs": [],
   "source": [
    "y_pred = model.predict(X_test_vec)\n"
   ]
  },
  {
   "cell_type": "code",
   "execution_count": 147,
   "metadata": {},
   "outputs": [
    {
     "name": "stdout",
     "output_type": "stream",
     "text": [
      "Accuracy: 0.7725\n",
      "              precision    recall  f1-score   support\n",
      "\n",
      "           0       0.80      0.89      0.84       274\n",
      "           1       0.69      0.51      0.58       126\n",
      "\n",
      "    accuracy                           0.77       400\n",
      "   macro avg       0.74      0.70      0.71       400\n",
      "weighted avg       0.76      0.77      0.76       400\n",
      "\n"
     ]
    }
   ],
   "source": [
    "accuracy = accuracy_score(y_test, y_pred)\n",
    "print(\"Accuracy:\", accuracy)\n",
    "print(classification_report(y_test, y_pred))\n"
   ]
  },
  {
   "cell_type": "code",
   "execution_count": 148,
   "metadata": {},
   "outputs": [
    {
     "name": "stdout",
     "output_type": "stream",
     "text": [
      "[[ 0.4098832  -0.08912221 -0.10760302 ...  0.07008852 -0.03081552\n",
      "  -0.111183  ]]\n"
     ]
    }
   ],
   "source": [
    "coefficients = model.coef_\n",
    "print(coefficients)"
   ]
  },
  {
   "cell_type": "code",
   "execution_count": 154,
   "metadata": {},
   "outputs": [
    {
     "name": "stderr",
     "output_type": "stream",
     "text": [
      "c:\\Users\\earne\\Anaconda3\\lib\\site-packages\\sklearn\\linear_model\\_logistic.py:458: ConvergenceWarning: lbfgs failed to converge (status=1):\n",
      "STOP: TOTAL NO. of ITERATIONS REACHED LIMIT.\n",
      "\n",
      "Increase the number of iterations (max_iter) or scale the data as shown in:\n",
      "    https://scikit-learn.org/stable/modules/preprocessing.html\n",
      "Please also refer to the documentation for alternative solver options:\n",
      "    https://scikit-learn.org/stable/modules/linear_model.html#logistic-regression\n",
      "  n_iter_i = _check_optimize_result(\n"
     ]
    },
    {
     "data": {
      "image/png": "[encoded data removed]",
      "text/plain": [
       "<Figure size 720x432 with 1 Axes>"
      ]
     },
     "metadata": {
      "needs_background": "light"
     },
     "output_type": "display_data"
    }
   ],
   "source": [
    "\n",
    "# Retrieve feature names from vectorizer\n",
    "feature_names = vectorizer.get_feature_names_out()\n",
    "\n",
    "# Calculate feature importance\n",
    "feature_importance = np.abs(model.coef_[0])\n",
    "\n",
    "# Sort feature importance in descending order\n",
    "sorted_indices = np.argsort(feature_importance)[::-1]\n",
    "sorted_feature_importance = feature_importance[sorted_indices]\n",
    "sorted_feature_names = feature_names[sorted_indices]\n"
   ]
  },
  {
   "cell_type": "code",
   "execution_count": 157,
   "metadata": {},
   "outputs": [
    {
     "data": {
      "image/png": "[encoded data removed]",
      "text/plain": [
       "<Figure size 1080x792 with 1 Axes>"
      ]
     },
     "metadata": {
      "needs_background": "light"
     },
     "output_type": "display_data"
    }
   ],
   "source": [
    "# Select top 20 features\n",
    "top_feature_importance = sorted_feature_importance[:50]\n",
    "top_feature_names = sorted_feature_names[:50]\n",
    "\n",
    "# Plot top 20 feature importance\n",
    "plt.figure(figsize=(15, 11))\n",
    "plt.barh(range(len(top_feature_names)), top_feature_importance, align='center')\n",
    "plt.yticks(range(len(top_feature_names)), top_feature_names)\n",
    "plt.xlabel('Feature Importance')\n",
    "plt.ylabel('Feature')\n",
    "plt.title('Logistic Regression - Top 20 Feature Importance')\n",
    "plt.show()"
   ]
  },
  {
   "cell_type": "code",
   "execution_count": null,
   "metadata": {},
   "outputs": [],
   "source": []
  }
 ],
 "metadata": {
  "kernelspec": {
   "display_name": "Python 3",
   "language": "python",
   "name": "python3"
  },
  "language_info": {
   "codemirror_mode": {
    "name": "ipython",
    "version": 3
   },
   "file_extension": ".py",
   "mimetype": "text/x-python",
   "name": "python",
   "nbconvert_exporter": "python",
   "pygments_lexer": "ipython3",
   "version": "3.8.8"
  }
 },
 "nbformat": 4,
 "nbformat_minor": 2
}
