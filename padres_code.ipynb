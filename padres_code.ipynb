{
 "cells": [
  {
   "cell_type": "code",
   "execution_count": 4,
   "metadata": {},
   "outputs": [
    {
     "name": "stdout",
     "output_type": "stream",
     "text": [
      "Requirement already satisfied: beautifulsoup4 in c:\\users\\earne\\anaconda3\\lib\\site-packages (4.9.3)\n",
      "Requirement already satisfied: requests in c:\\users\\earne\\anaconda3\\lib\\site-packages (2.31.0)\n",
      "Requirement already satisfied: soupsieve>1.2 in c:\\users\\earne\\anaconda3\\lib\\site-packages (from beautifulsoup4) (2.2.1)\n",
      "Requirement already satisfied: idna<4,>=2.5 in c:\\users\\earne\\anaconda3\\lib\\site-packages (from requests) (2.10)\n",
      "Requirement already satisfied: certifi>=2017.4.17 in c:\\users\\earne\\anaconda3\\lib\\site-packages (from requests) (2020.12.5)\n",
      "Requirement already satisfied: urllib3<3,>=1.21.1 in c:\\users\\earne\\anaconda3\\lib\\site-packages (from requests) (1.26.4)\n",
      "Requirement already satisfied: charset-normalizer<4,>=2 in c:\\users\\earne\\anaconda3\\lib\\site-packages (from requests) (3.1.0)\n"
     ]
    }
   ],
   "source": [
    "#Install reqired libraries\n",
    "!pip install beautifulsoup4 requests"
   ]
  },
  {
   "cell_type": "code",
   "execution_count": 5,
   "metadata": {},
   "outputs": [],
   "source": [
    "#Import required libraries\n",
    "import requests\n",
    "from bs4 import BeautifulSoup\n",
    "import pandas as pd\n",
    "import matplotlib.pyplot as plt\n",
    "from nltk.corpus import stopwords\n",
    "from string import punctuation\n",
    "from wordcloud import WordCloud "
   ]
  },
  {
   "cell_type": "code",
   "execution_count": 6,
   "metadata": {},
   "outputs": [
    {
     "name": "stdout",
     "output_type": "stream",
     "text": [
      "Data saved to C:/Users/earne/OneDrive - University of San Diego/MSADS/ADS-509/Project/data/mlbtraderumors_padres_articles1.txt\n"
     ]
    },
    {
     "data": {
      "text/html": [
       "<div>\n",
       "<style scoped>\n",
       "    .dataframe tbody tr th:only-of-type {\n",
       "        vertical-align: middle;\n",
       "    }\n",
       "\n",
       "    .dataframe tbody tr th {\n",
       "        vertical-align: top;\n",
       "    }\n",
       "\n",
       "    .dataframe thead th {\n",
       "        text-align: right;\n",
       "    }\n",
       "</style>\n",
       "<table border=\"1\" class=\"dataframe\">\n",
       "  <thead>\n",
       "    <tr style=\"text-align: right;\">\n",
       "      <th></th>\n",
       "      <th>Title</th>\n",
       "      <th>Author</th>\n",
       "      <th>Date</th>\n",
       "      <th>Content</th>\n",
       "    </tr>\n",
       "  </thead>\n",
       "  <tbody>\n",
       "    <tr>\n",
       "      <th>0</th>\n",
       "      <td>Padres, Blake Cederlind Agree To Minor League ...</td>\n",
       "      <td>Steve Adams</td>\n",
       "      <td>June 8, 2023</td>\n",
       "      <td>The Padres have agreed to a minor league contr...</td>\n",
       "    </tr>\n",
       "    <tr>\n",
       "      <th>1</th>\n",
       "      <td>Padres Designate David Dahl For Assignment</td>\n",
       "      <td>Darragh McDonald</td>\n",
       "      <td>June 6, 2023</td>\n",
       "      <td>The Padres announced today that left-hander Ad...</td>\n",
       "    </tr>\n",
       "    <tr>\n",
       "      <th>2</th>\n",
       "      <td>Roger Craig Passes Away</td>\n",
       "      <td>Darragh McDonald</td>\n",
       "      <td>June 4, 2023</td>\n",
       "      <td>The Giants announced that former big league pl...</td>\n",
       "    </tr>\n",
       "    <tr>\n",
       "      <th>3</th>\n",
       "      <td>Padres Notes: Bogaerts, Odor, Tatis</td>\n",
       "      <td>Nick Deeds</td>\n",
       "      <td>June 4, 2023</td>\n",
       "      <td>Padres manager Bob Melvin provided an update o...</td>\n",
       "    </tr>\n",
       "    <tr>\n",
       "      <th>4</th>\n",
       "      <td>Padres Select Alfonso Rivas, Activate Manny Ma...</td>\n",
       "      <td>Anthony Franco</td>\n",
       "      <td>June 2, 2023</td>\n",
       "      <td>The Padres announced they’ve selected first ba...</td>\n",
       "    </tr>\n",
       "  </tbody>\n",
       "</table>\n",
       "</div>"
      ],
      "text/plain": [
       "                                               Title            Author  \\\n",
       "0  Padres, Blake Cederlind Agree To Minor League ...       Steve Adams   \n",
       "1         Padres Designate David Dahl For Assignment  Darragh McDonald   \n",
       "2                            Roger Craig Passes Away  Darragh McDonald   \n",
       "3                Padres Notes: Bogaerts, Odor, Tatis        Nick Deeds   \n",
       "4  Padres Select Alfonso Rivas, Activate Manny Ma...    Anthony Franco   \n",
       "\n",
       "           Date                                            Content  \n",
       "0  June 8, 2023  The Padres have agreed to a minor league contr...  \n",
       "1  June 6, 2023  The Padres announced today that left-hander Ad...  \n",
       "2  June 4, 2023  The Giants announced that former big league pl...  \n",
       "3  June 4, 2023  Padres manager Bob Melvin provided an update o...  \n",
       "4  June 2, 2023  The Padres announced they’ve selected first ba...  "
      ]
     },
     "execution_count": 6,
     "metadata": {},
     "output_type": "execute_result"
    }
   ],
   "source": [
    "# URL of the website to scrape\n",
    "url = \"https://www.mlbtraderumors.com/san-diego-padres?show=all\"\n",
    "\n",
    "# Send a GET request to the website\n",
    "response = requests.get(url)\n",
    "\n",
    "# Parse the HTML content using BeautifulSoup\n",
    "soup = BeautifulSoup(response.content, \"html.parser\")\n",
    "\n",
    "# Find all the news article elements\n",
    "articles = soup.find_all(\"article\")\n",
    "\n",
    "# Create a file to save the scraped data\n",
    "file_path = \"C:/Users/earne/OneDrive - University of San Diego/MSADS/ADS-509/Project/data/mlbtraderumors_padres_articles1.txt\" \n",
    "with open(file_path, \"w\", encoding=\"utf-8\") as file:\n",
    "    # Initialize empty lists to store the extracted values\n",
    "    titles = []\n",
    "    authors = []\n",
    "    dates = []\n",
    "    contents = []\n",
    "    \n",
    "    # Iterate over the articles and extract the text\n",
    "    for article in articles:\n",
    "        # Extract the article title\n",
    "        title_element = article.find(\"h2\")\n",
    "        title = title_element.text.strip() if title_element else \"\"\n",
    "        titles.append(title)\n",
    "\n",
    "        # Extract the article author\n",
    "        author_element = article.find(\"span\", class_=\"entry-author\")\n",
    "        author = author_element.text.strip() if author_element else \"\"\n",
    "        authors.append(author)\n",
    "\n",
    "        # Extract the article date\n",
    "        date_element = article.find(\"time\", class_=\"entry-time\")\n",
    "        date = date_element.text.strip() if date_element else \"\"\n",
    "        dates.append(date)\n",
    "\n",
    "        # Extract the article content\n",
    "        content_element = article.find(\"div\", class_=\"entry-content\")\n",
    "        content = content_element.text.strip() if content_element else \"\"\n",
    "        contents.append(content)\n",
    "        \n",
    "        # Write the title and content to the file\n",
    "        file.write(\"Title: \" + title + \"\\n\")\n",
    "        file.write(\"Author: \" + author + \"\\n\")\n",
    "        file.write(\"Date: \" + date + \"\\n\")\n",
    "        file.write(\"Content: \" + content + \"\\n\")\n",
    "        file.write(\"---\\n\")\n",
    "\n",
    "print(\"Data saved to\", file_path)\n",
    "\n",
    "# Create a DataFrame from the extracted values\n",
    "data = {\n",
    "    \"Title\": titles,\n",
    "    \"Author\": authors,\n",
    "    \"Date\": dates,\n",
    "    \"Content\": contents\n",
    "}\n",
    "\n",
    "df = pd.DataFrame(data)\n",
    "df.head()"
   ]
  },
  {
   "cell_type": "code",
   "execution_count": 7,
   "metadata": {},
   "outputs": [],
   "source": [
    "#change the Date column to a datetime object:\n",
    "df['Date'] = pd.to_datetime(df['Date'], format=\"%B %d, %Y\", errors= 'coerce')"
   ]
  },
  {
   "cell_type": "code",
   "execution_count": 9,
   "metadata": {},
   "outputs": [
    {
     "data": {
      "text/plain": [
       "Title              object\n",
       "Author             object\n",
       "Date       datetime64[ns]\n",
       "Content            object\n",
       "dtype: object"
      ]
     },
     "execution_count": 9,
     "metadata": {},
     "output_type": "execute_result"
    }
   ],
   "source": [
    "df.dtypes"
   ]
  },
  {
   "cell_type": "code",
   "execution_count": 10,
   "metadata": {},
   "outputs": [
    {
     "data": {
      "text/plain": [
       "Title       0\n",
       "Author      0\n",
       "Date       30\n",
       "Content     0\n",
       "dtype: int64"
      ]
     },
     "execution_count": 10,
     "metadata": {},
     "output_type": "execute_result"
    }
   ],
   "source": [
    "# Check for missing values\n",
    "df.isna().sum()"
   ]
  },
  {
   "cell_type": "code",
   "execution_count": null,
   "metadata": {},
   "outputs": [],
   "source": []
  }
 ],
 "metadata": {
  "kernelspec": {
   "display_name": "base",
   "language": "python",
   "name": "python3"
  },
  "language_info": {
   "codemirror_mode": {
    "name": "ipython",
    "version": 3
   },
   "file_extension": ".py",
   "mimetype": "text/x-python",
   "name": "python",
   "nbconvert_exporter": "python",
   "pygments_lexer": "ipython3",
   "version": "3.8.8"
  },
  "orig_nbformat": 4
 },
 "nbformat": 4,
 "nbformat_minor": 2
}
